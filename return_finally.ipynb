{
 "cells": [
  {
   "cell_type": "markdown",
   "metadata": {},
   "source": [
    "### 1 return语句用来返回值给调用者"
   ]
  },
  {
   "cell_type": "code",
   "execution_count": 1,
   "metadata": {
    "collapsed": true
   },
   "outputs": [],
   "source": [
    "def test():\n",
    "    a = 2\n",
    "    return a"
   ]
  },
  {
   "cell_type": "code",
   "execution_count": 2,
   "metadata": {},
   "outputs": [
    {
     "name": "stdout",
     "output_type": "stream",
     "text": [
      "2\n"
     ]
    }
   ],
   "source": [
    "s = test()\n",
    "print s"
   ]
  },
  {
   "cell_type": "markdown",
   "metadata": {},
   "source": [
    "#### return语句后面的代码不会被执行"
   ]
  },
  {
   "cell_type": "code",
   "execution_count": 3,
   "metadata": {
    "collapsed": true
   },
   "outputs": [],
   "source": [
    "def test():\n",
    "    a = 2\n",
    "    return a\n",
    "    s = 3 \n",
    "    print s"
   ]
  },
  {
   "cell_type": "code",
   "execution_count": 4,
   "metadata": {},
   "outputs": [
    {
     "name": "stdout",
     "output_type": "stream",
     "text": [
      "2\n"
     ]
    }
   ],
   "source": [
    "b = test()\n",
    "print b"
   ]
  },
  {
   "cell_type": "markdown",
   "metadata": {},
   "source": [
    "#### early return编码规范： 当条件已经满足返回时，就马上返回。"
   ]
  },
  {
   "cell_type": "code",
   "execution_count": 5,
   "metadata": {},
   "outputs": [
    {
     "name": "stdout",
     "output_type": "stream",
     "text": [
      "less than\n"
     ]
    }
   ],
   "source": [
    "def test():\n",
    "    a = 2\n",
    "    if a>2: \n",
    "        result = 'more than'\n",
    "    else:\n",
    "        result = 'less than'\n",
    "    return result\n",
    "\n",
    "s = test()\n",
    "print s\n",
    "        "
   ]
  },
  {
   "cell_type": "code",
   "execution_count": 6,
   "metadata": {},
   "outputs": [
    {
     "name": "stdout",
     "output_type": "stream",
     "text": [
      "less than\n"
     ]
    }
   ],
   "source": [
    "#should be coded like this\n",
    "def test():\n",
    "    a = 2\n",
    "    if a > 2:\n",
    "        return 'more than'\n",
    "    else:\n",
    "        return 'less than'\n",
    "    \n",
    "s = test()\n",
    "print s"
   ]
  },
  {
   "cell_type": "code",
   "execution_count": 7,
   "metadata": {},
   "outputs": [
    {
     "name": "stdout",
     "output_type": "stream",
     "text": [
      "less than\n"
     ]
    }
   ],
   "source": [
    "#even like this\n",
    "def test():\n",
    "    a = 2\n",
    "    if a > 2:\n",
    "        return 'more than'\n",
    "    return 'less than'\n",
    "\n",
    "s = test()\n",
    "print s"
   ]
  },
  {
   "cell_type": "code",
   "execution_count": 9,
   "metadata": {},
   "outputs": [
    {
     "name": "stdout",
     "output_type": "stream",
     "text": [
      "test~\n",
      "test~\n",
      "Target\n"
     ]
    }
   ],
   "source": [
    "#another example\n",
    "def test():\n",
    "    a = 2\n",
    "    if a > 2:\n",
    "        result = 'not 2'\n",
    "    else:\n",
    "        a += 2\n",
    "        if a<2:\n",
    "            result = 'not 2'\n",
    "        else:\n",
    "            for i in range(2):\n",
    "                print 'test~'\n",
    "            result = 'Target'\n",
    "    return result\n",
    "\n",
    "s = test()\n",
    "print s"
   ]
  },
  {
   "cell_type": "code",
   "execution_count": 11,
   "metadata": {},
   "outputs": [
    {
     "name": "stdout",
     "output_type": "stream",
     "text": [
      "test~\n",
      "test~\n",
      "Target\n"
     ]
    }
   ],
   "source": [
    "def test():\n",
    "    a = 2\n",
    "    if a>2:\n",
    "        return 'not 2'\n",
    "    \n",
    "    a += 2\n",
    "    if a<2:\n",
    "        return 'not 2'\n",
    "    \n",
    "    for i in range(2):\n",
    "        print 'test~'\n",
    "        \n",
    "    return 'Target'\n",
    "\n",
    "s = test()\n",
    "print s"
   ]
  },
  {
   "cell_type": "markdown",
   "metadata": {},
   "source": [
    "#### early return能减少嵌套的层数"
   ]
  },
  {
   "cell_type": "markdown",
   "metadata": {},
   "source": [
    "### 2 当return 遇上try..finally"
   ]
  },
  {
   "cell_type": "code",
   "execution_count": 13,
   "metadata": {},
   "outputs": [
    {
     "name": "stdout",
     "output_type": "stream",
     "text": [
      "finally\n",
      "2\n"
     ]
    }
   ],
   "source": [
    "def test():\n",
    "    try:\n",
    "        a = 2\n",
    "        return a\n",
    "    except:\n",
    "        pass\n",
    "    finally:\n",
    "        print 'finally'\n",
    "        \n",
    "s = test()\n",
    "print s"
   ]
  },
  {
   "cell_type": "markdown",
   "metadata": {
    "collapsed": true
   },
   "source": [
    "#### return语句在finally语句之后执行"
   ]
  },
  {
   "cell_type": "markdown",
   "metadata": {},
   "source": [
    "#### 在得到return之前，finally就执行了，且必须执行，执行之后才有return语句。"
   ]
  },
  {
   "cell_type": "code",
   "execution_count": null,
   "metadata": {
    "collapsed": true
   },
   "outputs": [],
   "source": []
  }
 ],
 "metadata": {
  "kernelspec": {
   "display_name": "Python 2",
   "language": "python",
   "name": "python2"
  },
  "language_info": {
   "codemirror_mode": {
    "name": "ipython",
    "version": 2
   },
   "file_extension": ".py",
   "mimetype": "text/x-python",
   "name": "python",
   "nbconvert_exporter": "python",
   "pygments_lexer": "ipython2",
   "version": "2.7.13"
  }
 },
 "nbformat": 4,
 "nbformat_minor": 2
}
