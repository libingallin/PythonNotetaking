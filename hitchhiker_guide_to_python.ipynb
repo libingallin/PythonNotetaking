{
 "cells": [
  {
   "cell_type": "markdown",
   "metadata": {},
   "source": [
    "# 编写高质量代码"
   ]
  },
  {
   "cell_type": "markdown",
   "metadata": {
    "heading_collapsed": true
   },
   "source": [
    "## 1 代码风格"
   ]
  },
  {
   "cell_type": "markdown",
   "metadata": {
    "hidden": true
   },
   "source": [
    "+ 相对完整的代码风格指南（pep8和pep20）\n",
    "+ Pythonic风格"
   ]
  },
  {
   "cell_type": "markdown",
   "metadata": {
    "ExecuteTime": {
     "end_time": "2019-02-27T01:17:01.368215Z",
     "start_time": "2019-02-27T01:17:01.281176Z"
    },
    "heading_collapsed": true,
    "hidden": true
   },
   "source": [
    "### PEP8"
   ]
  },
  {
   "cell_type": "markdown",
   "metadata": {
    "hidden": true
   },
   "source": [
    "一味遵循PEP可能会破坏代码的可读性和易懂性.是否遵循风格指南需要自己判断.和项目中的其他代码及已有的约定保持一致比PEP8更重要."
   ]
  },
  {
   "cell_type": "markdown",
   "metadata": {
    "hidden": true
   },
   "source": [
    "PEP8是Python代码风格事实上的标准指南，命名约定、代码结构、空白，以及其他代码风格的知识点.**必须读一读PEP8**"
   ]
  },
  {
   "cell_type": "markdown",
   "metadata": {
    "hidden": true
   },
   "source": [
    "```python\n",
    "pep8 xx.py\n",
    "```"
   ]
  },
  {
   "cell_type": "markdown",
   "metadata": {
    "hidden": true
   },
   "source": [
    "atuopep8可以把代码自动重新格式化为PEP8风格.\n",
    "```python\n",
    "autopep8 --in-place xx.py\n",
    "```"
   ]
  },
  {
   "cell_type": "markdown",
   "metadata": {
    "hidden": true
   },
   "source": [
    "`--aggressive`参数将执行更多的实质性修改，多次使用效果更佳."
   ]
  },
  {
   "cell_type": "markdown",
   "metadata": {
    "heading_collapsed": true,
    "hidden": true
   },
   "source": [
    "### PEP20"
   ]
  },
  {
   "cell_type": "markdown",
   "metadata": {
    "hidden": true
   },
   "source": [
    "PEP20是编写Python程序的指导准则.Hunter Blank的*PEP8 20 (The Zen of Python) by Example*"
   ]
  },
  {
   "cell_type": "code",
   "execution_count": 1,
   "metadata": {
    "ExecuteTime": {
     "end_time": "2019-02-27T01:20:16.285944Z",
     "start_time": "2019-02-27T01:20:16.280960Z"
    },
    "hidden": true
   },
   "outputs": [
    {
     "name": "stdout",
     "output_type": "stream",
     "text": [
      "The Zen of Python, by Tim Peters\n",
      "\n",
      "Beautiful is better than ugly.\n",
      "Explicit is better than implicit.\n",
      "Simple is better than complex.\n",
      "Complex is better than complicated.\n",
      "Flat is better than nested.\n",
      "Sparse is better than dense.\n",
      "Readability counts.\n",
      "Special cases aren't special enough to break the rules.\n",
      "Although practicality beats purity.\n",
      "Errors should never pass silently.\n",
      "Unless explicitly silenced.\n",
      "In the face of ambiguity, refuse the temptation to guess.\n",
      "There should be one-- and preferably only one --obvious way to do it.\n",
      "Although that way may not be obvious at first unless you're Dutch.\n",
      "Now is better than never.\n",
      "Although never is often better than *right* now.\n",
      "If the implementation is hard to explain, it's a bad idea.\n",
      "If the implementation is easy to explain, it may be a good idea.\n",
      "Namespaces are one honking great idea -- let's do more of those!\n"
     ]
    }
   ],
   "source": [
    "import this"
   ]
  },
  {
   "cell_type": "markdown",
   "metadata": {
    "heading_collapsed": true,
    "hidden": true
   },
   "source": [
    "### 一些建议"
   ]
  },
  {
   "cell_type": "markdown",
   "metadata": {
    "hidden": true
   },
   "source": [
    "**Explicit is better than implicit.明确胜于隐晦**"
   ]
  },
  {
   "cell_type": "markdown",
   "metadata": {
    "hidden": true
   },
   "source": [
    "```python\n",
    "# 糟糕的写法\n",
    "def make_dict(*args):\n",
    "    x, y = args\n",
    "    return dict(**locals())\n",
    "```"
   ]
  },
  {
   "cell_type": "markdown",
   "metadata": {
    "hidden": true
   },
   "source": [
    "```python\n",
    "# 优雅的写法\n",
    "def make_dict(x, y):\n",
    "    return {'x': x, 'y': y}\n",
    "```"
   ]
  },
  {
   "cell_type": "markdown",
   "metadata": {
    "hidden": true
   },
   "source": [
    "一个判断准则：其他人是否能只阅读函数的首行和末行就能理解函数的作用."
   ]
  },
  {
   "cell_type": "markdown",
   "metadata": {
    "hidden": true
   },
   "source": [
    "**Sparse is better than dense.留白胜于紧致**"
   ]
  },
  {
   "cell_type": "markdown",
   "metadata": {
    "hidden": true
   },
   "source": [
    "```python\n",
    "# 糟糕的写法\n",
    "print('one');print('two')\n",
    "\n",
    "if x == 1: print('one')\n",
    "\n",
    "if (<complex comparsion> and <other complex comparsion>):\n",
    "    pass\n",
    "```"
   ]
  },
  {
   "cell_type": "markdown",
   "metadata": {
    "hidden": true
   },
   "source": [
    "```python\n",
    "# 优雅的写法\n",
    "print('one')\n",
    "print('two')\n",
    "\n",
    "if x == 1:\n",
    "    print('one')\n",
    "\n",
    "    \n",
    "cond1 = <complex comparsion>\n",
    "cond2 = <other complex comparsion>\n",
    "if (cond1 and cond2):\n",
    "    pass\n",
    "```"
   ]
  },
  {
   "cell_type": "markdown",
   "metadata": {
    "hidden": true
   },
   "source": [
    "**Errors should never pass silently.**"
   ]
  },
  {
   "cell_type": "markdown",
   "metadata": {
    "hidden": true
   },
   "source": [
    "不让错误默默地被忽略：始终明确地指定要捕捉什么异常，然后仅仅处理这些异常."
   ]
  },
  {
   "cell_type": "markdown",
   "metadata": {
    "hidden": true
   },
   "source": [
    "**函数参数使用起来符合直觉**"
   ]
  },
  {
   "cell_type": "markdown",
   "metadata": {
    "hidden": true
   },
   "source": [
    "```python\n",
    "def func(positional, keyword=value, *args, **kwargs):\n",
    "    pass\n",
    "```"
   ]
  },
  {
   "cell_type": "markdown",
   "metadata": {
    "hidden": true
   },
   "source": [
    "1. **位置参数是强制性地，且没有默认值.**  \n",
    "如果函数参数不多，且是函数完整含义的一部分，就用这种，参数顺序遵循语义顺序.调用时，可以使用参数名称，同时可以改变参数顺序，但这样可能会降低可读性，增加了不必要的冗余.\n",
    "2. **关键字参数是可选地，有默认值.**  \n",
    "参数不止两三个，且难记，使用这个.调用时使用接近函数定义的形式（即调用时和定义时参数顺序一致）\n",
    "3. **任意数量地参数列表是可选的，没有默认值.**  \n",
    "`*args`任意数量的参数，函数体中它是一个元组，包含所有额外传入的位置参数.如果函数接收的是一系列性质相同的参数，那么使用列表或其他任何序列结构作为参数，语义更加明确.\n",
    "4. **任意数量关键字参数字典是可选的，没有默认值.**  "
   ]
  },
  {
   "cell_type": "markdown",
   "metadata": {
    "hidden": true
   },
   "source": [
    "**Python使用约定来表明某些代码元素不应该被直接访问，为所有内部变量名称加`_`前缀.**"
   ]
  },
  {
   "cell_type": "markdown",
   "metadata": {
    "hidden": true
   },
   "source": [
    "**尽量在一处返回函数结果.**\n",
    "\n",
    "代码意图清晰，维持可读性，函数体中返回点越少越好，且返回值意义要明确.\n",
    "\n",
    "函数退出的两种情况：\n",
    "1. 出现错误.\n",
    "2. 函数正常执行结束返回结果.\n",
    "\n",
    "当函数不能正确执行时，最好返回`None`或`False`.在检测到错误时最好尽早从函数中返回，因错误而返回语句后的所有代码均是假设当前已满足后续计算函数结果的条件.\n",
    "\n",
    "\n",
    "在调试函数时，多个返回点很难分清哪个是当前结果的返回点.多个退出点可能暗示了这里需要重构.\n",
    "\n",
    "```python\n",
    "def select_ad(third_party_ads, user_preferences):\n",
    "    if not third_party_ads:\n",
    "        return None   # 抛出一个异常可能更好\n",
    "    if not user_preferences:\n",
    "        return None   # 抛出一个异常可能更好\n",
    "    # 一些复杂代码，给定一些广告候选项和个人偏好\n",
    "    # 计算出最佳广告\n",
    "    # 抵住诱惑，不要在此处判断已成功获取最佳广告并返回\n",
    "    if not best_ad:\n",
    "        # 计算最佳广告的B的计划\n",
    "    return best_ad\n",
    "```"
   ]
  },
  {
   "cell_type": "markdown",
   "metadata": {
    "heading_collapsed": true,
    "hidden": true
   },
   "source": [
    "### 一些约定"
   ]
  },
  {
   "cell_type": "markdown",
   "metadata": {
    "hidden": true
   },
   "source": [
    "+ **检查相等性的替代方法**"
   ]
  },
  {
   "cell_type": "markdown",
   "metadata": {
    "hidden": true
   },
   "source": [
    "当不必明确将一个值与`True`、`None`或0作比较时，可以将这个值直接应用到`if`语句中."
   ]
  },
  {
   "cell_type": "markdown",
   "metadata": {
    "hidden": true
   },
   "source": [
    "```python\n",
    "# 糟糕写法\n",
    "if attr == True:\n",
    "    print(\"True\")\n",
    "\n",
    "if attr == None:\n",
    "    print('None')\n",
    "```"
   ]
  },
  {
   "cell_type": "markdown",
   "metadata": {
    "hidden": true
   },
   "source": [
    "```python\n",
    "# 优雅写法\n",
    "if attr:   # 直接检查值\n",
    "    print('True')\n",
    "\n",
    "if not attr:   # 检查条件相反\n",
    "    print('False')\n",
    "\n",
    "if attr is True:  # 只想值为True\n",
    "    print('True')\n",
    "\n",
    "if attr is None:  # 显示检查值为None\n",
    "    print(\"None\")\n",
    "```"
   ]
  },
  {
   "cell_type": "markdown",
   "metadata": {
    "hidden": true
   },
   "source": [
    "+ **访问字典元素**"
   ]
  },
  {
   "cell_type": "markdown",
   "metadata": {
    "hidden": true
   },
   "source": [
    "使用`x in d`而不是`dict.has_key`方法，或者`dict.get()`."
   ]
  },
  {
   "cell_type": "markdown",
   "metadata": {
    "hidden": true
   },
   "source": [
    "```python\n",
    "# 糟糕写法\n",
    "d = {'hello': 'world'}\n",
    "if d.has_key('hello'):\n",
    "    print(d['hello'])\n",
    "else:\n",
    "    print('default value')\n",
    "```"
   ]
  },
  {
   "cell_type": "markdown",
   "metadata": {
    "hidden": true
   },
   "source": [
    "```python\n",
    "# 优雅写法\n",
    "d = {'hello': 'world'}\n",
    "print(d.get('hello', 'default value'))\n",
    "\n",
    "# 或者\n",
    "if 'hello' in d:\n",
    "    print(d['hello'])\n",
    "```"
   ]
  },
  {
   "cell_type": "markdown",
   "metadata": {
    "hidden": true
   },
   "source": [
    "+ **操作列表**"
   ]
  },
  {
   "cell_type": "code",
   "execution_count": 2,
   "metadata": {
    "ExecuteTime": {
     "end_time": "2019-02-27T02:38:46.063623Z",
     "start_time": "2019-02-27T02:38:46.059635Z"
    },
    "hidden": true
   },
   "outputs": [],
   "source": [
    "# 糟糕写法\n",
    "# 过滤出大于4的元素\n",
    "a = [3, 4, 5]\n",
    "b = []\n",
    "for i in a:\n",
    "    if i > 4:\n",
    "        b.append(i)"
   ]
  },
  {
   "cell_type": "code",
   "execution_count": 3,
   "metadata": {
    "ExecuteTime": {
     "end_time": "2019-02-27T02:38:46.801082Z",
     "start_time": "2019-02-27T02:38:46.793099Z"
    },
    "hidden": true
   },
   "outputs": [
    {
     "data": {
      "text/plain": [
       "[5]"
      ]
     },
     "execution_count": 3,
     "metadata": {},
     "output_type": "execute_result"
    }
   ],
   "source": [
    "b"
   ]
  },
  {
   "cell_type": "code",
   "execution_count": 4,
   "metadata": {
    "ExecuteTime": {
     "end_time": "2019-02-27T02:39:25.079723Z",
     "start_time": "2019-02-27T02:39:25.074772Z"
    },
    "hidden": true
   },
   "outputs": [
    {
     "data": {
      "text/plain": [
       "[5]"
      ]
     },
     "execution_count": 4,
     "metadata": {},
     "output_type": "execute_result"
    }
   ],
   "source": [
    "# 列表解析\n",
    "a = [3, 4, 5]\n",
    "b = [i for i in a if i > 4]\n",
    "b"
   ]
  },
  {
   "cell_type": "code",
   "execution_count": 5,
   "metadata": {
    "ExecuteTime": {
     "end_time": "2019-02-27T02:40:03.960473Z",
     "start_time": "2019-02-27T02:40:03.955521Z"
    },
    "hidden": true
   },
   "outputs": [
    {
     "data": {
      "text/plain": [
       "[5]"
      ]
     },
     "execution_count": 5,
     "metadata": {},
     "output_type": "execute_result"
    }
   ],
   "source": [
    "# filter\n",
    "a = [3, 4, 5]\n",
    "b = filter(lambda i: i > 4, a)\n",
    "list(b)"
   ]
  },
  {
   "cell_type": "code",
   "execution_count": 6,
   "metadata": {
    "ExecuteTime": {
     "end_time": "2019-02-27T02:40:49.439189Z",
     "start_time": "2019-02-27T02:40:49.434196Z"
    },
    "hidden": true
   },
   "outputs": [
    {
     "data": {
      "text/plain": [
       "[6, 7, 8]"
      ]
     },
     "execution_count": 6,
     "metadata": {},
     "output_type": "execute_result"
    }
   ],
   "source": [
    "# 列表所有值+3\n",
    "a = [3, 4, 5]\n",
    "for i in range(len(a)):\n",
    "    a[i] += 3\n",
    "a"
   ]
  },
  {
   "cell_type": "code",
   "execution_count": 7,
   "metadata": {
    "ExecuteTime": {
     "end_time": "2019-02-27T02:41:16.870726Z",
     "start_time": "2019-02-27T02:41:16.866738Z"
    },
    "hidden": true
   },
   "outputs": [
    {
     "data": {
      "text/plain": [
       "[6, 7, 8]"
      ]
     },
     "execution_count": 7,
     "metadata": {},
     "output_type": "execute_result"
    }
   ],
   "source": [
    "a = [3, 4, 5]\n",
    "[i + 3 for i in a]"
   ]
  },
  {
   "cell_type": "code",
   "execution_count": 8,
   "metadata": {
    "ExecuteTime": {
     "end_time": "2019-02-27T02:41:38.518958Z",
     "start_time": "2019-02-27T02:41:38.514961Z"
    },
    "hidden": true
   },
   "outputs": [
    {
     "data": {
      "text/plain": [
       "[6, 7, 8]"
      ]
     },
     "execution_count": 8,
     "metadata": {},
     "output_type": "execute_result"
    }
   ],
   "source": [
    "list(map(lambda i: i+3, a))"
   ]
  },
  {
   "cell_type": "markdown",
   "metadata": {
    "hidden": true
   },
   "source": [
    "+ **代码续行**"
   ]
  },
  {
   "cell_type": "markdown",
   "metadata": {
    "hidden": true
   },
   "source": [
    "在Vi中，考虑到行号，行的长度限制一般为75-77个字符。"
   ]
  },
  {
   "cell_type": "markdown",
   "metadata": {
    "hidden": true
   },
   "source": [
    "反斜线加空白符可能会破坏代码，产生不可预料的后果，所以通常避免使用。"
   ]
  },
  {
   "cell_type": "markdown",
   "metadata": {
    "hidden": true
   },
   "source": [
    "**更好的方法是将代码元素包含在`()`内。**左侧以一个未闭合的(开头，Python解释器会将接下来的所有行连接在一起，直到遇到闭合)。"
   ]
  },
  {
   "cell_type": "code",
   "execution_count": 12,
   "metadata": {
    "ExecuteTime": {
     "end_time": "2019-02-27T02:48:20.339188Z",
     "start_time": "2019-02-27T02:48:20.335235Z"
    },
    "hidden": true
   },
   "outputs": [],
   "source": [
    "# 糟糕写法\n",
    "french_insult = \\\n",
    "\"lllllllllllllllllllllllllllllllllll, and\\\n",
    "uyuuuuuuuuuuuuuuuuuuuuuuuuuuuuuuuuuuuuuuuuu\""
   ]
  },
  {
   "cell_type": "code",
   "execution_count": 13,
   "metadata": {
    "ExecuteTime": {
     "end_time": "2019-02-27T02:48:21.090742Z",
     "start_time": "2019-02-27T02:48:21.086779Z"
    },
    "hidden": true
   },
   "outputs": [
    {
     "data": {
      "text/plain": [
       "'lllllllllllllllllllllllllllllllllll, anduyuuuuuuuuuuuuuuuuuuuuuuuuuuuuuuuuuuuuuuuuu'"
      ]
     },
     "execution_count": 13,
     "metadata": {},
     "output_type": "execute_result"
    }
   ],
   "source": [
    "french_insult"
   ]
  },
  {
   "cell_type": "code",
   "execution_count": 14,
   "metadata": {
    "ExecuteTime": {
     "end_time": "2019-02-27T02:48:25.201649Z",
     "start_time": "2019-02-27T02:48:25.197684Z"
    },
    "hidden": true
   },
   "outputs": [
    {
     "data": {
      "text/plain": [
       "'lllllllllllllllllllllllllllllllllll, anduyuuuuuuuuuuuuuuuuuuuuuuuuuuuuuuuuuuuuuuuuu'"
      ]
     },
     "execution_count": 14,
     "metadata": {},
     "output_type": "execute_result"
    }
   ],
   "source": [
    "french_insult = (\n",
    "    \"lllllllllllllllllllllllllllllllllll, and\"\n",
    "    \"uyuuuuuuuuuuuuuuuuuuuuuuuuuuuuuuuuuuuuuuuuu\"\n",
    ")\n",
    "french_insult"
   ]
  },
  {
   "cell_type": "markdown",
   "metadata": {
    "code_folding": [],
    "hidden": true
   },
   "source": [
    "```python\n",
    "# 糟糕写法\n",
    "from some.deep_module.in.a.module \\\n",
    "    import a_nice_func,\\\n",
    "        another_nice_func,\\\n",
    "        yet_another_nice_func\n",
    "```"
   ]
  },
  {
   "cell_type": "markdown",
   "metadata": {
    "hidden": true
   },
   "source": [
    "```python\n",
    "# 优雅写法\n",
    "from some.deep_module.in.a.module import (\n",
    "    a_nice_func,\n",
    "    another_nice_func,\n",
    "    yet_another_nice_func\n",
    ")\n",
    "```"
   ]
  },
  {
   "cell_type": "markdown",
   "metadata": {
    "hidden": true
   },
   "source": [
    "通常分割长逻辑行意味着此行代码做了太多事，这可能会降低可读性。"
   ]
  },
  {
   "cell_type": "markdown",
   "metadata": {
    "heading_collapsed": true,
    "hidden": true
   },
   "source": [
    "### 习语"
   ]
  },
  {
   "cell_type": "markdown",
   "metadata": {
    "hidden": true
   },
   "source": [
    "+ **解包**"
   ]
  },
  {
   "cell_type": "markdown",
   "metadata": {
    "hidden": true
   },
   "source": [
    "如果知道一个list或tuple的长度，可以利用解包来为其中的元素分配名称."
   ]
  },
  {
   "cell_type": "code",
   "execution_count": 16,
   "metadata": {
    "ExecuteTime": {
     "end_time": "2019-02-27T02:56:36.151353Z",
     "start_time": "2019-02-27T02:56:36.147366Z"
    },
    "hidden": true
   },
   "outputs": [
    {
     "name": "stdout",
     "output_type": "stream",
     "text": [
      "my_photo \n",
      " orig.pnd\n"
     ]
    }
   ],
   "source": [
    "filename, ext = 'my_photo.orig.pnd'.split('.', 1)\n",
    "print(filename, '\\n', ext)"
   ]
  },
  {
   "cell_type": "markdown",
   "metadata": {
    "hidden": true
   },
   "source": [
    "```python\n",
    "a, b = b, a\n",
    "```"
   ]
  },
  {
   "cell_type": "markdown",
   "metadata": {
    "hidden": true
   },
   "source": [
    "```python\n",
    "# 嵌套解包\n",
    "a, (b, c) = 1, (2, 3)\n",
    "```"
   ]
  },
  {
   "cell_type": "code",
   "execution_count": 17,
   "metadata": {
    "ExecuteTime": {
     "end_time": "2019-02-27T02:57:53.090612Z",
     "start_time": "2019-02-27T02:57:53.084639Z"
    },
    "hidden": true
   },
   "outputs": [
    {
     "data": {
      "text/plain": [
       "1"
      ]
     },
     "execution_count": 17,
     "metadata": {},
     "output_type": "execute_result"
    }
   ],
   "source": [
    "a, *rest = [1, 2, 3]\n",
    "a"
   ]
  },
  {
   "cell_type": "code",
   "execution_count": 18,
   "metadata": {
    "ExecuteTime": {
     "end_time": "2019-02-27T02:57:54.230395Z",
     "start_time": "2019-02-27T02:57:54.224445Z"
    },
    "hidden": true
   },
   "outputs": [
    {
     "data": {
      "text/plain": [
       "[2, 3]"
      ]
     },
     "execution_count": 18,
     "metadata": {},
     "output_type": "execute_result"
    }
   ],
   "source": [
    "rest"
   ]
  },
  {
   "cell_type": "code",
   "execution_count": 19,
   "metadata": {
    "ExecuteTime": {
     "end_time": "2019-02-27T02:58:11.116310Z",
     "start_time": "2019-02-27T02:58:11.113318Z"
    },
    "hidden": true
   },
   "outputs": [],
   "source": [
    "a, *middle, c = [1, 2, 3, 4]"
   ]
  },
  {
   "cell_type": "code",
   "execution_count": 20,
   "metadata": {
    "ExecuteTime": {
     "end_time": "2019-02-27T02:58:11.837658Z",
     "start_time": "2019-02-27T02:58:11.832672Z"
    },
    "hidden": true
   },
   "outputs": [
    {
     "data": {
      "text/plain": [
       "1"
      ]
     },
     "execution_count": 20,
     "metadata": {},
     "output_type": "execute_result"
    }
   ],
   "source": [
    "a"
   ]
  },
  {
   "cell_type": "code",
   "execution_count": 21,
   "metadata": {
    "ExecuteTime": {
     "end_time": "2019-02-27T02:58:13.953525Z",
     "start_time": "2019-02-27T02:58:13.949543Z"
    },
    "hidden": true
   },
   "outputs": [
    {
     "data": {
      "text/plain": [
       "[2, 3]"
      ]
     },
     "execution_count": 21,
     "metadata": {},
     "output_type": "execute_result"
    }
   ],
   "source": [
    "middle"
   ]
  },
  {
   "cell_type": "code",
   "execution_count": 22,
   "metadata": {
    "ExecuteTime": {
     "end_time": "2019-02-27T02:58:14.821023Z",
     "start_time": "2019-02-27T02:58:14.817037Z"
    },
    "hidden": true
   },
   "outputs": [
    {
     "data": {
      "text/plain": [
       "4"
      ]
     },
     "execution_count": 22,
     "metadata": {},
     "output_type": "execute_result"
    }
   ],
   "source": [
    "c"
   ]
  },
  {
   "cell_type": "code",
   "execution_count": 23,
   "metadata": {
    "ExecuteTime": {
     "end_time": "2019-02-27T02:58:26.117741Z",
     "start_time": "2019-02-27T02:58:26.114779Z"
    },
    "hidden": true
   },
   "outputs": [],
   "source": [
    "a, *middle, c = (1, 2, 3, 4)"
   ]
  },
  {
   "cell_type": "code",
   "execution_count": 24,
   "metadata": {
    "ExecuteTime": {
     "end_time": "2019-02-27T02:58:29.957564Z",
     "start_time": "2019-02-27T02:58:29.953543Z"
    },
    "hidden": true
   },
   "outputs": [
    {
     "data": {
      "text/plain": [
       "[2, 3]"
      ]
     },
     "execution_count": 24,
     "metadata": {},
     "output_type": "execute_result"
    }
   ],
   "source": [
    "middle"
   ]
  },
  {
   "cell_type": "markdown",
   "metadata": {
    "hidden": true
   },
   "source": [
    "+ **忽略一个值**"
   ]
  },
  {
   "cell_type": "code",
   "execution_count": 25,
   "metadata": {
    "ExecuteTime": {
     "end_time": "2019-02-27T02:59:22.682109Z",
     "start_time": "2019-02-27T02:59:22.679117Z"
    },
    "hidden": true
   },
   "outputs": [],
   "source": [
    "filename = 'foobar.txt'\n",
    "basename, _, ext = filename.rpartition('.')"
   ]
  },
  {
   "cell_type": "code",
   "execution_count": 26,
   "metadata": {
    "ExecuteTime": {
     "end_time": "2019-02-27T02:59:24.243495Z",
     "start_time": "2019-02-27T02:59:24.239468Z"
    },
    "hidden": true
   },
   "outputs": [
    {
     "data": {
      "text/plain": [
       "'foobar'"
      ]
     },
     "execution_count": 26,
     "metadata": {},
     "output_type": "execute_result"
    }
   ],
   "source": [
    "basename"
   ]
  },
  {
   "cell_type": "code",
   "execution_count": 27,
   "metadata": {
    "ExecuteTime": {
     "end_time": "2019-02-27T02:59:25.999294Z",
     "start_time": "2019-02-27T02:59:25.994295Z"
    },
    "hidden": true
   },
   "outputs": [
    {
     "data": {
      "text/plain": [
       "'txt'"
      ]
     },
     "execution_count": 27,
     "metadata": {},
     "output_type": "execute_result"
    }
   ],
   "source": [
    "ext"
   ]
  },
  {
   "cell_type": "markdown",
   "metadata": {
    "hidden": true
   },
   "source": [
    "`_`和`__`都可以。但`_`的问题在于它通常被用作`gettext.gettext()`函数的别名，同时在交互模式下用来保存上一次操作的值。`__`避免了任何情况下意味`_`造成的风险."
   ]
  },
  {
   "cell_type": "markdown",
   "metadata": {
    "hidden": true
   },
   "source": [
    "+ **创建一个包含N个相同对象的列表**"
   ]
  },
  {
   "cell_type": "markdown",
   "metadata": {
    "hidden": true
   },
   "source": [
    "使用Python列表的额`*`操作符来创建一个包含相同不可变元素的列表."
   ]
  },
  {
   "cell_type": "code",
   "execution_count": 30,
   "metadata": {
    "ExecuteTime": {
     "end_time": "2019-02-27T03:02:41.538514Z",
     "start_time": "2019-02-27T03:02:41.534486Z"
    },
    "hidden": true
   },
   "outputs": [
    {
     "data": {
      "text/plain": [
       "[None, None, None, None]"
      ]
     },
     "execution_count": 30,
     "metadata": {},
     "output_type": "execute_result"
    }
   ],
   "source": [
    "four_nones = [None] * 4\n",
    "four_nones"
   ]
  },
  {
   "cell_type": "markdown",
   "metadata": {
    "hidden": true
   },
   "source": [
    "列表是可修改的，`*`将创建一个包含N个指向同一列表的列表。"
   ]
  },
  {
   "cell_type": "code",
   "execution_count": 33,
   "metadata": {
    "ExecuteTime": {
     "end_time": "2019-02-27T03:06:23.390388Z",
     "start_time": "2019-02-27T03:06:23.385432Z"
    },
    "hidden": true
   },
   "outputs": [
    {
     "data": {
      "text/plain": [
       "[['Ni'], ['Ni'], ['Ni'], ['Ni']]"
      ]
     },
     "execution_count": 33,
     "metadata": {},
     "output_type": "execute_result"
    }
   ],
   "source": [
    "# 糟糕的写法\n",
    "four_lists = [[]] * 4   # four_lists = [[], [], [], []]\n",
    "four_lists[0].append('Ni')\n",
    "four_lists"
   ]
  },
  {
   "cell_type": "code",
   "execution_count": 35,
   "metadata": {
    "ExecuteTime": {
     "end_time": "2019-02-27T03:06:57.742107Z",
     "start_time": "2019-02-27T03:06:57.737120Z"
    },
    "hidden": true
   },
   "outputs": [
    {
     "data": {
      "text/plain": [
       "[['Ni'], [], [], []]"
      ]
     },
     "execution_count": 35,
     "metadata": {},
     "output_type": "execute_result"
    }
   ],
   "source": [
    "# 优雅的写法\n",
    "four_lists = [[] for __ in range(4)]  # [[], [], [], []]\n",
    "four_lists[0].append('Ni')\n",
    "four_lists"
   ]
  },
  {
   "cell_type": "markdown",
   "metadata": {
    "hidden": true
   },
   "source": [
    "+ **创建字符串的一种习惯用法是在空字符串上使用`str.join()`，这可同样适用于列表和元组**。"
   ]
  },
  {
   "cell_type": "code",
   "execution_count": 36,
   "metadata": {
    "ExecuteTime": {
     "end_time": "2019-02-27T03:08:14.300970Z",
     "start_time": "2019-02-27T03:08:14.296979Z"
    },
    "hidden": true
   },
   "outputs": [
    {
     "data": {
      "text/plain": [
       "'spam'"
      ]
     },
     "execution_count": 36,
     "metadata": {},
     "output_type": "execute_result"
    }
   ],
   "source": [
    "letters = ['s', 'p', 'a', 'm']\n",
    "word = ''.join(letters)\n",
    "word"
   ]
  },
  {
   "cell_type": "markdown",
   "metadata": {
    "hidden": true
   },
   "source": [
    "+ **通过数据查找**"
   ]
  },
  {
   "cell_type": "code",
   "execution_count": 37,
   "metadata": {
    "ExecuteTime": {
     "end_time": "2019-02-27T03:10:23.379249Z",
     "start_time": "2019-02-27T03:10:23.373273Z"
    },
    "hidden": true
   },
   "outputs": [
    {
     "data": {
      "text/plain": [
       "['foo', 'foo', 'bar', 'baz']"
      ]
     },
     "execution_count": 37,
     "metadata": {},
     "output_type": "execute_result"
    }
   ],
   "source": [
    "x = list(('foo', 'foo', 'bar', 'baz'))\n",
    "x"
   ]
  },
  {
   "cell_type": "code",
   "execution_count": 38,
   "metadata": {
    "ExecuteTime": {
     "end_time": "2019-02-27T03:10:31.473811Z",
     "start_time": "2019-02-27T03:10:31.468862Z"
    },
    "hidden": true
   },
   "outputs": [
    {
     "data": {
      "text/plain": [
       "{'bar', 'baz', 'foo'}"
      ]
     },
     "execution_count": 38,
     "metadata": {},
     "output_type": "execute_result"
    }
   ],
   "source": [
    "y = set(('foo', 'foo', 'bar', 'baz'))\n",
    "y"
   ]
  },
  {
   "cell_type": "code",
   "execution_count": 39,
   "metadata": {
    "ExecuteTime": {
     "end_time": "2019-02-27T03:10:42.817165Z",
     "start_time": "2019-02-27T03:10:42.813183Z"
    },
    "hidden": true
   },
   "outputs": [
    {
     "data": {
      "text/plain": [
       "True"
      ]
     },
     "execution_count": 39,
     "metadata": {},
     "output_type": "execute_result"
    }
   ],
   "source": [
    "'foo' in x"
   ]
  },
  {
   "cell_type": "code",
   "execution_count": 40,
   "metadata": {
    "ExecuteTime": {
     "end_time": "2019-02-27T03:10:45.859263Z",
     "start_time": "2019-02-27T03:10:45.855266Z"
    },
    "hidden": true
   },
   "outputs": [
    {
     "data": {
      "text/plain": [
       "True"
      ]
     },
     "execution_count": 40,
     "metadata": {},
     "output_type": "execute_result"
    }
   ],
   "source": [
    "'foo' in y"
   ]
  },
  {
   "cell_type": "markdown",
   "metadata": {
    "hidden": true
   },
   "source": [
    "`'foo' in y`借助了哈希表特性（python中字典和集合以哈希表实现），上面这两个查找性能是不同的。对于list，Python将逐个遍历匹配其中的元素，非常耗时（时间与列表长度呈正比），而set使用哈希查询可以很快找到。"
   ]
  },
  {
   "cell_type": "markdown",
   "metadata": {
    "hidden": true
   },
   "source": [
    "+ **异常安全的上下文**"
   ]
  },
  {
   "cell_type": "markdown",
   "metadata": {
    "hidden": true
   },
   "source": [
    "在异常可能出现时，通常使用`try/finally`语句管理资源，比如文件或者线程锁。pep343引入了`with`语句和上下文管理协议来代替`try/finally`，这样代码可读性更高。\n",
    "\n",
    "该协议包含两个方法：`__enter__()`和`__exit__()`，如果一个对象实现了这两个方法，就能用在`with`语句中。"
   ]
  },
  {
   "cell_type": "code",
   "execution_count": 41,
   "metadata": {
    "ExecuteTime": {
     "end_time": "2019-02-27T08:10:29.946632Z",
     "start_time": "2019-02-27T08:10:29.943640Z"
    },
    "hidden": true
   },
   "outputs": [],
   "source": [
    "import threading\n",
    "some_lock = threading.Lock()"
   ]
  },
  {
   "cell_type": "code",
   "execution_count": 42,
   "metadata": {
    "ExecuteTime": {
     "end_time": "2019-02-27T08:11:31.716618Z",
     "start_time": "2019-02-27T08:11:31.712661Z"
    },
    "hidden": true
   },
   "outputs": [
    {
     "name": "stdout",
     "output_type": "stream",
     "text": [
      "Look at me: I design coastlines.\n",
      "I got an award for Norway.\n"
     ]
    }
   ],
   "source": [
    "with some_lock:\n",
    "    print(\n",
    "        'Look at me: I design coastlines.\\n'\n",
    "        'I got an award for Norway.'\n",
    "    )"
   ]
  },
  {
   "cell_type": "markdown",
   "metadata": {
    "hidden": true
   },
   "source": [
    "没有`with`语句时应该如下写："
   ]
  },
  {
   "cell_type": "code",
   "execution_count": 43,
   "metadata": {
    "ExecuteTime": {
     "end_time": "2019-02-27T08:12:14.808357Z",
     "start_time": "2019-02-27T08:12:14.802375Z"
    },
    "hidden": true
   },
   "outputs": [
    {
     "data": {
      "text/plain": [
       "True"
      ]
     },
     "execution_count": 43,
     "metadata": {},
     "output_type": "execute_result"
    }
   ],
   "source": [
    "import threading\n",
    "some_lock = threading.Lock()\n",
    "some_lock.acquire()"
   ]
  },
  {
   "cell_type": "code",
   "execution_count": 44,
   "metadata": {
    "ExecuteTime": {
     "end_time": "2019-02-27T08:12:40.702616Z",
     "start_time": "2019-02-27T08:12:40.698626Z"
    },
    "hidden": true
   },
   "outputs": [
    {
     "name": "stdout",
     "output_type": "stream",
     "text": [
      "Look at me: I design coastlines.\n",
      "I got an award for Norway.\n"
     ]
    }
   ],
   "source": [
    "try:\n",
    "    print(\n",
    "        'Look at me: I design coastlines.\\n'\n",
    "        'I got an award for Norway.'\n",
    "    )\n",
    "finally:\n",
    "    some_lock.release()"
   ]
  },
  {
   "cell_type": "markdown",
   "metadata": {
    "hidden": true
   },
   "source": [
    "标准模块库contextlib提供了额外的工具来帮助将函数变成上下文管理器，强制执行对象的`close()`方法，抑制异常，重定向标准输出和错误流。"
   ]
  },
  {
   "cell_type": "code",
   "execution_count": 45,
   "metadata": {
    "ExecuteTime": {
     "end_time": "2019-02-27T08:14:54.976278Z",
     "start_time": "2019-02-27T08:14:54.970292Z"
    },
    "hidden": true
   },
   "outputs": [],
   "source": [
    "from contextlib import closing\n",
    "with closing(open('outfile.txt', 'w')) as output:\n",
    "    output.write('Well, hhhhhhhhhh')"
   ]
  },
  {
   "cell_type": "markdown",
   "metadata": {
    "hidden": true
   },
   "source": [
    "因为处理文件I/O的对象已经定义了`__enter__()`和`__exit__()`方法，所以可以直接用在`with`语句中，不需要`closing`。"
   ]
  },
  {
   "cell_type": "code",
   "execution_count": 47,
   "metadata": {
    "ExecuteTime": {
     "end_time": "2019-02-27T08:16:52.048341Z",
     "start_time": "2019-02-27T08:16:52.041359Z"
    },
    "hidden": true
   },
   "outputs": [],
   "source": [
    "with open('outfile.txt', 'w') as output:\n",
    "    output.write('dddddddddddddddddddddddddddd')"
   ]
  },
  {
   "cell_type": "markdown",
   "metadata": {
    "heading_collapsed": true,
    "hidden": true
   },
   "source": [
    "### 常见陷进"
   ]
  },
  {
   "cell_type": "markdown",
   "metadata": {
    "hidden": true
   },
   "source": [
    "+ **可变的默认参数**"
   ]
  },
  {
   "cell_type": "code",
   "execution_count": 1,
   "metadata": {
    "ExecuteTime": {
     "end_time": "2019-02-27T08:18:40.398850Z",
     "start_time": "2019-02-27T08:18:40.394861Z"
    },
    "hidden": true
   },
   "outputs": [],
   "source": [
    "def append_to(ele, to=[]):\n",
    "    to.append(ele)\n",
    "    return to"
   ]
  },
  {
   "cell_type": "code",
   "execution_count": 4,
   "metadata": {
    "ExecuteTime": {
     "end_time": "2019-02-27T08:22:54.234299Z",
     "start_time": "2019-02-27T08:22:54.230335Z"
    },
    "hidden": true
   },
   "outputs": [
    {
     "name": "stdout",
     "output_type": "stream",
     "text": [
      "[12]\n",
      "[42]\n"
     ]
    }
   ],
   "source": [
    "my_list = append_to(12)\n",
    "print(my_list)\n",
    "\n",
    "my_other_list = append_to(42)\n",
    "print(my_other_list)"
   ]
  },
  {
   "cell_type": "markdown",
   "metadata": {
    "hidden": true
   },
   "source": [
    "> 结果并不是[12]和[42]。"
   ]
  },
  {
   "cell_type": "markdown",
   "metadata": {
    "hidden": true
   },
   "source": [
    "新列表仅在函数定义时被创建一次，后续每次函数调用都使用同一个列表。在函数被定义时而不是在函数每次被调用时，就会计算Python的默认参数。这意味着如果使用一个可变默认参数并修改它，那么也修改了后续调用该函数时使用的那个对象。"
   ]
  },
  {
   "cell_type": "code",
   "execution_count": 5,
   "metadata": {
    "ExecuteTime": {
     "end_time": "2019-02-27T08:22:58.000151Z",
     "start_time": "2019-02-27T08:22:57.996193Z"
    },
    "hidden": true
   },
   "outputs": [],
   "source": [
    "def append_to(ele, to=None):\n",
    "    if to is None:\n",
    "        to = []\n",
    "    to.append(ele)\n",
    "    return to"
   ]
  },
  {
   "cell_type": "code",
   "execution_count": 6,
   "metadata": {
    "ExecuteTime": {
     "end_time": "2019-02-27T08:22:58.557508Z",
     "start_time": "2019-02-27T08:22:58.552556Z"
    },
    "hidden": true
   },
   "outputs": [
    {
     "name": "stdout",
     "output_type": "stream",
     "text": [
      "[12]\n",
      "[42]\n"
     ]
    }
   ],
   "source": [
    "my_list = append_to(12)\n",
    "print(my_list)\n",
    "\n",
    "my_other_list = append_to(42)\n",
    "print(my_other_list)"
   ]
  },
  {
   "cell_type": "markdown",
   "metadata": {
    "ExecuteTime": {
     "end_time": "2019-02-27T08:23:58.181625Z",
     "start_time": "2019-02-27T08:23:58.176640Z"
    },
    "hidden": true
   },
   "source": [
    "有时可以利用这个行为在多次函数调用之间维持状态，这个行为通常用在编写缓存函数时（将结果保存在内存中），如"
   ]
  },
  {
   "cell_type": "markdown",
   "metadata": {
    "hidden": true
   },
   "source": [
    "```python\n",
    "def time_consuming_func(x, y, cache={}):\n",
    "    args = (x, y)\n",
    "    if args in cache:\n",
    "        return cache[args]\n",
    "    # 否则是首次出现这些参数\n",
    "    # 做一些耗时的操作，然后缓存结果\n",
    "    cache[args] = result\n",
    "    return result\n",
    "```"
   ]
  },
  {
   "cell_type": "markdown",
   "metadata": {
    "hidden": true
   },
   "source": [
    "+ **延迟绑定的闭包**"
   ]
  },
  {
   "cell_type": "code",
   "execution_count": 8,
   "metadata": {
    "ExecuteTime": {
     "end_time": "2019-02-27T08:29:15.296845Z",
     "start_time": "2019-02-27T08:29:15.293847Z"
    },
    "hidden": true
   },
   "outputs": [],
   "source": [
    "def create_multipliers():\n",
    "    return [lambda x: i * x for i in range(5)]"
   ]
  },
  {
   "cell_type": "code",
   "execution_count": 11,
   "metadata": {
    "ExecuteTime": {
     "end_time": "2019-02-27T08:31:28.120475Z",
     "start_time": "2019-02-27T08:31:28.116518Z"
    },
    "hidden": true
   },
   "outputs": [
    {
     "name": "stdout",
     "output_type": "stream",
     "text": [
      "8 ... 8 ... 8 ... 8 ... 8 ... \n"
     ]
    }
   ],
   "source": [
    "for multiplier in create_multipliers():\n",
    "    print(multiplier(2), end=' ... ')\n",
    "print()"
   ]
  },
  {
   "cell_type": "markdown",
   "metadata": {
    "hidden": true
   },
   "source": [
    "> 结果并不是0 ... 2 ... 4 ... 6 ... 8 ... "
   ]
  },
  {
   "cell_type": "markdown",
   "metadata": {
    "hidden": true
   },
   "source": [
    "**这是Python的闭包是延迟绑定的。这意味着闭包中用到变量值是在函数被调用时才查找获得的。**\n",
    "\n",
    "不论返回的任一函数何时被调用，`i`的值都是调用时在外部作用域中查找获得的。那时，循环已经完成，i的最终值是4."
   ]
  },
  {
   "cell_type": "code",
   "execution_count": 12,
   "metadata": {
    "ExecuteTime": {
     "end_time": "2019-02-27T08:35:10.501506Z",
     "start_time": "2019-02-27T08:35:10.492538Z"
    },
    "hidden": true
   },
   "outputs": [
    {
     "data": {
      "text/plain": [
       "5"
      ]
     },
     "execution_count": 12,
     "metadata": {},
     "output_type": "execute_result"
    }
   ],
   "source": [
    "len(create_multipliers())"
   ]
  },
  {
   "cell_type": "code",
   "execution_count": 13,
   "metadata": {
    "ExecuteTime": {
     "end_time": "2019-02-27T08:35:37.859534Z",
     "start_time": "2019-02-27T08:35:37.855510Z"
    },
    "hidden": true
   },
   "outputs": [
    {
     "data": {
      "text/plain": [
       "20"
      ]
     },
     "execution_count": 13,
     "metadata": {},
     "output_type": "execute_result"
    }
   ],
   "source": [
    "create_multipliers()[3](5)"
   ]
  },
  {
   "cell_type": "code",
   "execution_count": 14,
   "metadata": {
    "ExecuteTime": {
     "end_time": "2019-02-27T08:35:53.757920Z",
     "start_time": "2019-02-27T08:35:53.753935Z"
    },
    "hidden": true
   },
   "outputs": [
    {
     "data": {
      "text/plain": [
       "20"
      ]
     },
     "execution_count": 14,
     "metadata": {},
     "output_type": "execute_result"
    }
   ],
   "source": [
    "create_multipliers()[2](5)"
   ]
  },
  {
   "cell_type": "markdown",
   "metadata": {
    "hidden": true
   },
   "source": [
    "这个行为和`lambda`函数无关："
   ]
  },
  {
   "cell_type": "code",
   "execution_count": 15,
   "metadata": {
    "ExecuteTime": {
     "end_time": "2019-02-27T08:39:19.470277Z",
     "start_time": "2019-02-27T08:39:19.466286Z"
    },
    "hidden": true
   },
   "outputs": [],
   "source": [
    "def create_multipliers():\n",
    "    multipliers = []\n",
    "    \n",
    "    for i in range(5):\n",
    "        def multiplier(x):\n",
    "            return i * x\n",
    "        multipliers.append(multiplier)\n",
    "    \n",
    "    return multipliers"
   ]
  },
  {
   "cell_type": "code",
   "execution_count": 16,
   "metadata": {
    "ExecuteTime": {
     "end_time": "2019-02-27T08:40:03.138075Z",
     "start_time": "2019-02-27T08:40:03.133108Z"
    },
    "hidden": true
   },
   "outputs": [
    {
     "name": "stdout",
     "output_type": "stream",
     "text": [
      "8 ... 8 ... 8 ... 8 ... 8 ... \n"
     ]
    }
   ],
   "source": [
    "for multiplier in create_multipliers():\n",
    "    print(multiplier(2), end=' ... ')\n",
    "print()"
   ]
  },
  {
   "cell_type": "markdown",
   "metadata": {
    "hidden": true
   },
   "source": [
    "可以在创建闭包时，使用默认参数值来绑定参数："
   ]
  },
  {
   "cell_type": "code",
   "execution_count": 17,
   "metadata": {
    "ExecuteTime": {
     "end_time": "2019-02-27T08:51:46.849922Z",
     "start_time": "2019-02-27T08:51:46.845904Z"
    },
    "hidden": true
   },
   "outputs": [
    {
     "name": "stdout",
     "output_type": "stream",
     "text": [
      "0 ... 2 ... 4 ... 6 ... 8 ... \n"
     ]
    }
   ],
   "source": [
    "def create_multipliers():\n",
    "    return [lambda x, i=i: i * x for i in range(5)]\n",
    "\n",
    "for multiplier in create_multipliers():\n",
    "    print(multiplier(2), end=' ... ')\n",
    "print()"
   ]
  },
  {
   "cell_type": "code",
   "execution_count": 18,
   "metadata": {
    "ExecuteTime": {
     "end_time": "2019-02-27T08:52:34.411055Z",
     "start_time": "2019-02-27T08:52:34.406069Z"
    },
    "hidden": true
   },
   "outputs": [
    {
     "name": "stdout",
     "output_type": "stream",
     "text": [
      "0 ... 2 ... 4 ... 6 ... 8 ... \n"
     ]
    }
   ],
   "source": [
    "# 或者\n",
    "from functools import partial\n",
    "from operator import mul\n",
    "\n",
    "\n",
    "def create_multipliers():\n",
    "    return [partial(mul, i) for i in range(5)]\n",
    "\n",
    "for multiplier in create_multipliers():\n",
    "    print(multiplier(2), end=' ... ')\n",
    "print()"
   ]
  },
  {
   "cell_type": "markdown",
   "metadata": {},
   "source": [
    "## 2 组织好项目结构"
   ]
  },
  {
   "cell_type": "markdown",
   "metadata": {
    "heading_collapsed": true
   },
   "source": [
    "### 模块"
   ]
  },
  {
   "cell_type": "markdown",
   "metadata": {
    "hidden": true
   },
   "source": [
    "`import module`语句会在调用者所在的当前目录下查找module.py文件，如果存在则直接调用它。如果不存在，那么Python解释器将在Python搜索路径中递归查找该文件，若仍然没有找到，则抛出ImportError异常。\n",
    "\n",
    "搜索路径和平台无关，包含环境变量$PYTHONPATH（windows中的%PYTHONPATH%）中用户或者系统定义的任意文件目录，可以在Python会话中检查或者修改搜索路径。"
   ]
  },
  {
   "cell_type": "code",
   "execution_count": 1,
   "metadata": {
    "ExecuteTime": {
     "end_time": "2019-02-27T08:57:26.027599Z",
     "start_time": "2019-02-27T08:57:26.024607Z"
    },
    "hidden": true
   },
   "outputs": [],
   "source": [
    "import sys"
   ]
  },
  {
   "cell_type": "code",
   "execution_count": 2,
   "metadata": {
    "ExecuteTime": {
     "end_time": "2019-02-27T08:57:28.505512Z",
     "start_time": "2019-02-27T08:57:28.498552Z"
    },
    "hidden": true
   },
   "outputs": [
    {
     "data": {
      "text/plain": [
       "['C:\\\\Users\\\\bing\\\\Anaconda3\\\\envs\\\\tf\\\\python36.zip',\n",
       " 'C:\\\\Users\\\\bing\\\\Anaconda3\\\\envs\\\\tf\\\\DLLs',\n",
       " 'C:\\\\Users\\\\bing\\\\Anaconda3\\\\envs\\\\tf\\\\lib',\n",
       " 'C:\\\\Users\\\\bing\\\\Anaconda3\\\\envs\\\\tf',\n",
       " '',\n",
       " 'C:\\\\Users\\\\bing\\\\Anaconda3\\\\envs\\\\tf\\\\lib\\\\site-packages',\n",
       " 'C:\\\\Users\\\\bing\\\\Anaconda3\\\\envs\\\\tf\\\\lib\\\\site-packages\\\\win32',\n",
       " 'C:\\\\Users\\\\bing\\\\Anaconda3\\\\envs\\\\tf\\\\lib\\\\site-packages\\\\win32\\\\lib',\n",
       " 'C:\\\\Users\\\\bing\\\\Anaconda3\\\\envs\\\\tf\\\\lib\\\\site-packages\\\\Pythonwin',\n",
       " 'C:\\\\Users\\\\bing\\\\Anaconda3\\\\envs\\\\tf\\\\lib\\\\site-packages\\\\IPython\\\\extensions',\n",
       " 'C:\\\\Users\\\\bing\\\\.ipython']"
      ]
     },
     "execution_count": 2,
     "metadata": {},
     "output_type": "execute_result"
    }
   ],
   "source": [
    "sys.path"
   ]
  },
  {
   "cell_type": "markdown",
   "metadata": {
    "hidden": true
   },
   "source": [
    "一旦找到module.py文件，Python解释器将在隔离作用域执行这个模块。module.py中的所有顶层语句都会被执行，包括可能存在的其他模块导入。函数和类的定义保存在模块字典中。\n",
    "\n",
    "模块的变量、函数和类都将通过模块的命名空间提供给调用者。namespace提供一个作用域，作用域之内的命名属性彼此可见，但在namespace之外不能直接访问它。\n",
    "\n",
    "许多编程语言中，预处理器会按照文件包含指令高效地把被包含文件的内容复制到调用者的代码中。但在Python并非如此：被包含的代码会被隔离放在模块namespace中。`import module`语句将在全局空间里引入一个名为module的模块对象，然后可以通过`.`来访问模块内定义的属性，如`module.sqrt`即是定义在module.py中的`sqrt`对象。通常不必担心导入的代码会有什么负面效果。"
   ]
  },
  {
   "cell_type": "code",
   "execution_count": 3,
   "metadata": {
    "ExecuteTime": {
     "end_time": "2019-02-27T09:11:00.246936Z",
     "start_time": "2019-02-27T09:11:00.243943Z"
    },
    "hidden": true
   },
   "outputs": [],
   "source": [
    "def func():\n",
    "    a = 3\n",
    "    b = 5\n",
    "    c =8\n",
    "    return a, b, c"
   ]
  },
  {
   "cell_type": "code",
   "execution_count": 4,
   "metadata": {
    "ExecuteTime": {
     "end_time": "2019-02-27T09:11:03.095528Z",
     "start_time": "2019-02-27T09:11:03.090528Z"
    },
    "hidden": true
   },
   "outputs": [
    {
     "data": {
      "text/plain": [
       "['__annotations__',\n",
       " '__call__',\n",
       " '__class__',\n",
       " '__closure__',\n",
       " '__code__',\n",
       " '__defaults__',\n",
       " '__delattr__',\n",
       " '__dict__',\n",
       " '__dir__',\n",
       " '__doc__',\n",
       " '__eq__',\n",
       " '__format__',\n",
       " '__ge__',\n",
       " '__get__',\n",
       " '__getattribute__',\n",
       " '__globals__',\n",
       " '__gt__',\n",
       " '__hash__',\n",
       " '__init__',\n",
       " '__init_subclass__',\n",
       " '__kwdefaults__',\n",
       " '__le__',\n",
       " '__lt__',\n",
       " '__module__',\n",
       " '__name__',\n",
       " '__ne__',\n",
       " '__new__',\n",
       " '__qualname__',\n",
       " '__reduce__',\n",
       " '__reduce_ex__',\n",
       " '__repr__',\n",
       " '__setattr__',\n",
       " '__sizeof__',\n",
       " '__str__',\n",
       " '__subclasshook__']"
      ]
     },
     "execution_count": 4,
     "metadata": {},
     "output_type": "execute_result"
    }
   ],
   "source": [
    "dir(func)"
   ]
  },
  {
   "cell_type": "markdown",
   "metadata": {
    "hidden": true
   },
   "source": [
    "+ `dir(object)`：返回通过该对象可以获取到的属性的一个列表\n",
    "+ `globals()`：返回全局namespace中当前存在的属性的一个字典，包含对应的属性值\n",
    "+ `locals()`：返回当前全局变量namespace（比如在一个函数内）存在的属性的一个字典，包含对应的属性值"
   ]
  },
  {
   "cell_type": "code",
   "execution_count": 5,
   "metadata": {
    "ExecuteTime": {
     "end_time": "2019-02-27T09:16:12.581202Z",
     "start_time": "2019-02-27T09:16:12.574225Z"
    },
    "hidden": true
   },
   "outputs": [
    {
     "data": {
      "text/plain": [
       "{'__name__': '__main__',\n",
       " '__doc__': 'Automatically created module for IPython interactive environment',\n",
       " '__package__': None,\n",
       " '__loader__': None,\n",
       " '__spec__': None,\n",
       " '__builtin__': <module 'builtins' (built-in)>,\n",
       " '__builtins__': <module 'builtins' (built-in)>,\n",
       " '_ih': ['',\n",
       "  'import sys',\n",
       "  'sys.path',\n",
       "  'def func():\\n    a = 3\\n    b = 5\\n    c =8\\n    return a, b, c',\n",
       "  'dir(func)',\n",
       "  'globals()'],\n",
       " '_oh': {2: ['C:\\\\Users\\\\bing\\\\Anaconda3\\\\envs\\\\tf\\\\python36.zip',\n",
       "   'C:\\\\Users\\\\bing\\\\Anaconda3\\\\envs\\\\tf\\\\DLLs',\n",
       "   'C:\\\\Users\\\\bing\\\\Anaconda3\\\\envs\\\\tf\\\\lib',\n",
       "   'C:\\\\Users\\\\bing\\\\Anaconda3\\\\envs\\\\tf',\n",
       "   '',\n",
       "   'C:\\\\Users\\\\bing\\\\Anaconda3\\\\envs\\\\tf\\\\lib\\\\site-packages',\n",
       "   'C:\\\\Users\\\\bing\\\\Anaconda3\\\\envs\\\\tf\\\\lib\\\\site-packages\\\\win32',\n",
       "   'C:\\\\Users\\\\bing\\\\Anaconda3\\\\envs\\\\tf\\\\lib\\\\site-packages\\\\win32\\\\lib',\n",
       "   'C:\\\\Users\\\\bing\\\\Anaconda3\\\\envs\\\\tf\\\\lib\\\\site-packages\\\\Pythonwin',\n",
       "   'C:\\\\Users\\\\bing\\\\Anaconda3\\\\envs\\\\tf\\\\lib\\\\site-packages\\\\IPython\\\\extensions',\n",
       "   'C:\\\\Users\\\\bing\\\\.ipython'],\n",
       "  4: ['__annotations__',\n",
       "   '__call__',\n",
       "   '__class__',\n",
       "   '__closure__',\n",
       "   '__code__',\n",
       "   '__defaults__',\n",
       "   '__delattr__',\n",
       "   '__dict__',\n",
       "   '__dir__',\n",
       "   '__doc__',\n",
       "   '__eq__',\n",
       "   '__format__',\n",
       "   '__ge__',\n",
       "   '__get__',\n",
       "   '__getattribute__',\n",
       "   '__globals__',\n",
       "   '__gt__',\n",
       "   '__hash__',\n",
       "   '__init__',\n",
       "   '__init_subclass__',\n",
       "   '__kwdefaults__',\n",
       "   '__le__',\n",
       "   '__lt__',\n",
       "   '__module__',\n",
       "   '__name__',\n",
       "   '__ne__',\n",
       "   '__new__',\n",
       "   '__qualname__',\n",
       "   '__reduce__',\n",
       "   '__reduce_ex__',\n",
       "   '__repr__',\n",
       "   '__setattr__',\n",
       "   '__sizeof__',\n",
       "   '__str__',\n",
       "   '__subclasshook__']},\n",
       " '_dh': ['D:\\\\Codes\\\\learning-notes'],\n",
       " 'In': ['',\n",
       "  'import sys',\n",
       "  'sys.path',\n",
       "  'def func():\\n    a = 3\\n    b = 5\\n    c =8\\n    return a, b, c',\n",
       "  'dir(func)',\n",
       "  'globals()'],\n",
       " 'Out': {2: ['C:\\\\Users\\\\bing\\\\Anaconda3\\\\envs\\\\tf\\\\python36.zip',\n",
       "   'C:\\\\Users\\\\bing\\\\Anaconda3\\\\envs\\\\tf\\\\DLLs',\n",
       "   'C:\\\\Users\\\\bing\\\\Anaconda3\\\\envs\\\\tf\\\\lib',\n",
       "   'C:\\\\Users\\\\bing\\\\Anaconda3\\\\envs\\\\tf',\n",
       "   '',\n",
       "   'C:\\\\Users\\\\bing\\\\Anaconda3\\\\envs\\\\tf\\\\lib\\\\site-packages',\n",
       "   'C:\\\\Users\\\\bing\\\\Anaconda3\\\\envs\\\\tf\\\\lib\\\\site-packages\\\\win32',\n",
       "   'C:\\\\Users\\\\bing\\\\Anaconda3\\\\envs\\\\tf\\\\lib\\\\site-packages\\\\win32\\\\lib',\n",
       "   'C:\\\\Users\\\\bing\\\\Anaconda3\\\\envs\\\\tf\\\\lib\\\\site-packages\\\\Pythonwin',\n",
       "   'C:\\\\Users\\\\bing\\\\Anaconda3\\\\envs\\\\tf\\\\lib\\\\site-packages\\\\IPython\\\\extensions',\n",
       "   'C:\\\\Users\\\\bing\\\\.ipython'],\n",
       "  4: ['__annotations__',\n",
       "   '__call__',\n",
       "   '__class__',\n",
       "   '__closure__',\n",
       "   '__code__',\n",
       "   '__defaults__',\n",
       "   '__delattr__',\n",
       "   '__dict__',\n",
       "   '__dir__',\n",
       "   '__doc__',\n",
       "   '__eq__',\n",
       "   '__format__',\n",
       "   '__ge__',\n",
       "   '__get__',\n",
       "   '__getattribute__',\n",
       "   '__globals__',\n",
       "   '__gt__',\n",
       "   '__hash__',\n",
       "   '__init__',\n",
       "   '__init_subclass__',\n",
       "   '__kwdefaults__',\n",
       "   '__le__',\n",
       "   '__lt__',\n",
       "   '__module__',\n",
       "   '__name__',\n",
       "   '__ne__',\n",
       "   '__new__',\n",
       "   '__qualname__',\n",
       "   '__reduce__',\n",
       "   '__reduce_ex__',\n",
       "   '__repr__',\n",
       "   '__setattr__',\n",
       "   '__sizeof__',\n",
       "   '__str__',\n",
       "   '__subclasshook__']},\n",
       " 'get_ipython': <function IPython.core.getipython.get_ipython()>,\n",
       " 'exit': <IPython.core.autocall.ZMQExitAutocall at 0x21444d56278>,\n",
       " 'quit': <IPython.core.autocall.ZMQExitAutocall at 0x21444d56278>,\n",
       " '_': ['__annotations__',\n",
       "  '__call__',\n",
       "  '__class__',\n",
       "  '__closure__',\n",
       "  '__code__',\n",
       "  '__defaults__',\n",
       "  '__delattr__',\n",
       "  '__dict__',\n",
       "  '__dir__',\n",
       "  '__doc__',\n",
       "  '__eq__',\n",
       "  '__format__',\n",
       "  '__ge__',\n",
       "  '__get__',\n",
       "  '__getattribute__',\n",
       "  '__globals__',\n",
       "  '__gt__',\n",
       "  '__hash__',\n",
       "  '__init__',\n",
       "  '__init_subclass__',\n",
       "  '__kwdefaults__',\n",
       "  '__le__',\n",
       "  '__lt__',\n",
       "  '__module__',\n",
       "  '__name__',\n",
       "  '__ne__',\n",
       "  '__new__',\n",
       "  '__qualname__',\n",
       "  '__reduce__',\n",
       "  '__reduce_ex__',\n",
       "  '__repr__',\n",
       "  '__setattr__',\n",
       "  '__sizeof__',\n",
       "  '__str__',\n",
       "  '__subclasshook__'],\n",
       " '__': ['C:\\\\Users\\\\bing\\\\Anaconda3\\\\envs\\\\tf\\\\python36.zip',\n",
       "  'C:\\\\Users\\\\bing\\\\Anaconda3\\\\envs\\\\tf\\\\DLLs',\n",
       "  'C:\\\\Users\\\\bing\\\\Anaconda3\\\\envs\\\\tf\\\\lib',\n",
       "  'C:\\\\Users\\\\bing\\\\Anaconda3\\\\envs\\\\tf',\n",
       "  '',\n",
       "  'C:\\\\Users\\\\bing\\\\Anaconda3\\\\envs\\\\tf\\\\lib\\\\site-packages',\n",
       "  'C:\\\\Users\\\\bing\\\\Anaconda3\\\\envs\\\\tf\\\\lib\\\\site-packages\\\\win32',\n",
       "  'C:\\\\Users\\\\bing\\\\Anaconda3\\\\envs\\\\tf\\\\lib\\\\site-packages\\\\win32\\\\lib',\n",
       "  'C:\\\\Users\\\\bing\\\\Anaconda3\\\\envs\\\\tf\\\\lib\\\\site-packages\\\\Pythonwin',\n",
       "  'C:\\\\Users\\\\bing\\\\Anaconda3\\\\envs\\\\tf\\\\lib\\\\site-packages\\\\IPython\\\\extensions',\n",
       "  'C:\\\\Users\\\\bing\\\\.ipython'],\n",
       " '___': '',\n",
       " 'json': <module 'json' from 'C:\\\\Users\\\\bing\\\\Anaconda3\\\\envs\\\\tf\\\\lib\\\\json\\\\__init__.py'>,\n",
       " 'yapf_reformat': <function __main__.yapf_reformat(cell_text)>,\n",
       " 'isort': <module 'isort' from 'C:\\\\Users\\\\bing\\\\Anaconda3\\\\envs\\\\tf\\\\lib\\\\site-packages\\\\isort\\\\__init__.py'>,\n",
       " '_isort_refactor_cell': <function __main__._isort_refactor_cell(src)>,\n",
       " 'autopep8': <module 'autopep8' from 'C:\\\\Users\\\\bing\\\\Anaconda3\\\\envs\\\\tf\\\\lib\\\\site-packages\\\\autopep8.py'>,\n",
       " 'getsizeof': <function sys.getsizeof>,\n",
       " 'NamespaceMagics': IPython.core.magics.namespace.NamespaceMagics,\n",
       " '_nms': <IPython.core.magics.namespace.NamespaceMagics at 0x2145c248860>,\n",
       " '_Jupyter': <ipykernel.zmqshell.ZMQInteractiveShell at 0x21444cf1e80>,\n",
       " 'np': <module 'numpy' from 'C:\\\\Users\\\\bing\\\\Anaconda3\\\\envs\\\\tf\\\\lib\\\\site-packages\\\\numpy\\\\__init__.py'>,\n",
       " '_getsizeof': <function __main__._getsizeof(x)>,\n",
       " '_getshapeof': <function __main__._getshapeof(x)>,\n",
       " 'var_dic_list': <function __main__.var_dic_list()>,\n",
       " '_i': 'dir(func)',\n",
       " '_ii': 'def func():\\n    a = 3\\n    b = 5\\n    c =8\\n    return a, b, c',\n",
       " '_iii': 'sys.path',\n",
       " '_i1': 'import sys',\n",
       " 'sys': <module 'sys' (built-in)>,\n",
       " '_i2': 'sys.path',\n",
       " '_2': ['C:\\\\Users\\\\bing\\\\Anaconda3\\\\envs\\\\tf\\\\python36.zip',\n",
       "  'C:\\\\Users\\\\bing\\\\Anaconda3\\\\envs\\\\tf\\\\DLLs',\n",
       "  'C:\\\\Users\\\\bing\\\\Anaconda3\\\\envs\\\\tf\\\\lib',\n",
       "  'C:\\\\Users\\\\bing\\\\Anaconda3\\\\envs\\\\tf',\n",
       "  '',\n",
       "  'C:\\\\Users\\\\bing\\\\Anaconda3\\\\envs\\\\tf\\\\lib\\\\site-packages',\n",
       "  'C:\\\\Users\\\\bing\\\\Anaconda3\\\\envs\\\\tf\\\\lib\\\\site-packages\\\\win32',\n",
       "  'C:\\\\Users\\\\bing\\\\Anaconda3\\\\envs\\\\tf\\\\lib\\\\site-packages\\\\win32\\\\lib',\n",
       "  'C:\\\\Users\\\\bing\\\\Anaconda3\\\\envs\\\\tf\\\\lib\\\\site-packages\\\\Pythonwin',\n",
       "  'C:\\\\Users\\\\bing\\\\Anaconda3\\\\envs\\\\tf\\\\lib\\\\site-packages\\\\IPython\\\\extensions',\n",
       "  'C:\\\\Users\\\\bing\\\\.ipython'],\n",
       " '_i3': 'def func():\\n    a = 3\\n    b = 5\\n    c =8\\n    return a, b, c',\n",
       " 'func': <function __main__.func()>,\n",
       " '_i4': 'dir(func)',\n",
       " '_4': ['__annotations__',\n",
       "  '__call__',\n",
       "  '__class__',\n",
       "  '__closure__',\n",
       "  '__code__',\n",
       "  '__defaults__',\n",
       "  '__delattr__',\n",
       "  '__dict__',\n",
       "  '__dir__',\n",
       "  '__doc__',\n",
       "  '__eq__',\n",
       "  '__format__',\n",
       "  '__ge__',\n",
       "  '__get__',\n",
       "  '__getattribute__',\n",
       "  '__globals__',\n",
       "  '__gt__',\n",
       "  '__hash__',\n",
       "  '__init__',\n",
       "  '__init_subclass__',\n",
       "  '__kwdefaults__',\n",
       "  '__le__',\n",
       "  '__lt__',\n",
       "  '__module__',\n",
       "  '__name__',\n",
       "  '__ne__',\n",
       "  '__new__',\n",
       "  '__qualname__',\n",
       "  '__reduce__',\n",
       "  '__reduce_ex__',\n",
       "  '__repr__',\n",
       "  '__setattr__',\n",
       "  '__sizeof__',\n",
       "  '__str__',\n",
       "  '__subclasshook__'],\n",
       " '_i5': 'globals()'}"
      ]
     },
     "execution_count": 5,
     "metadata": {},
     "output_type": "execute_result"
    }
   ],
   "source": [
    "globals()"
   ]
  },
  {
   "cell_type": "code",
   "execution_count": 6,
   "metadata": {
    "ExecuteTime": {
     "end_time": "2019-02-27T09:16:40.030743Z",
     "start_time": "2019-02-27T09:16:40.023793Z"
    },
    "hidden": true
   },
   "outputs": [
    {
     "data": {
      "text/plain": [
       "{'__name__': '__main__',\n",
       " '__doc__': 'Automatically created module for IPython interactive environment',\n",
       " '__package__': None,\n",
       " '__loader__': None,\n",
       " '__spec__': None,\n",
       " '__builtin__': <module 'builtins' (built-in)>,\n",
       " '__builtins__': <module 'builtins' (built-in)>,\n",
       " '_ih': ['',\n",
       "  'import sys',\n",
       "  'sys.path',\n",
       "  'def func():\\n    a = 3\\n    b = 5\\n    c =8\\n    return a, b, c',\n",
       "  'dir(func)',\n",
       "  'globals()',\n",
       "  'locals()'],\n",
       " '_oh': {2: ['C:\\\\Users\\\\bing\\\\Anaconda3\\\\envs\\\\tf\\\\python36.zip',\n",
       "   'C:\\\\Users\\\\bing\\\\Anaconda3\\\\envs\\\\tf\\\\DLLs',\n",
       "   'C:\\\\Users\\\\bing\\\\Anaconda3\\\\envs\\\\tf\\\\lib',\n",
       "   'C:\\\\Users\\\\bing\\\\Anaconda3\\\\envs\\\\tf',\n",
       "   '',\n",
       "   'C:\\\\Users\\\\bing\\\\Anaconda3\\\\envs\\\\tf\\\\lib\\\\site-packages',\n",
       "   'C:\\\\Users\\\\bing\\\\Anaconda3\\\\envs\\\\tf\\\\lib\\\\site-packages\\\\win32',\n",
       "   'C:\\\\Users\\\\bing\\\\Anaconda3\\\\envs\\\\tf\\\\lib\\\\site-packages\\\\win32\\\\lib',\n",
       "   'C:\\\\Users\\\\bing\\\\Anaconda3\\\\envs\\\\tf\\\\lib\\\\site-packages\\\\Pythonwin',\n",
       "   'C:\\\\Users\\\\bing\\\\Anaconda3\\\\envs\\\\tf\\\\lib\\\\site-packages\\\\IPython\\\\extensions',\n",
       "   'C:\\\\Users\\\\bing\\\\.ipython'],\n",
       "  4: ['__annotations__',\n",
       "   '__call__',\n",
       "   '__class__',\n",
       "   '__closure__',\n",
       "   '__code__',\n",
       "   '__defaults__',\n",
       "   '__delattr__',\n",
       "   '__dict__',\n",
       "   '__dir__',\n",
       "   '__doc__',\n",
       "   '__eq__',\n",
       "   '__format__',\n",
       "   '__ge__',\n",
       "   '__get__',\n",
       "   '__getattribute__',\n",
       "   '__globals__',\n",
       "   '__gt__',\n",
       "   '__hash__',\n",
       "   '__init__',\n",
       "   '__init_subclass__',\n",
       "   '__kwdefaults__',\n",
       "   '__le__',\n",
       "   '__lt__',\n",
       "   '__module__',\n",
       "   '__name__',\n",
       "   '__ne__',\n",
       "   '__new__',\n",
       "   '__qualname__',\n",
       "   '__reduce__',\n",
       "   '__reduce_ex__',\n",
       "   '__repr__',\n",
       "   '__setattr__',\n",
       "   '__sizeof__',\n",
       "   '__str__',\n",
       "   '__subclasshook__'],\n",
       "  5: {...}},\n",
       " '_dh': ['D:\\\\Codes\\\\learning-notes'],\n",
       " 'In': ['',\n",
       "  'import sys',\n",
       "  'sys.path',\n",
       "  'def func():\\n    a = 3\\n    b = 5\\n    c =8\\n    return a, b, c',\n",
       "  'dir(func)',\n",
       "  'globals()',\n",
       "  'locals()'],\n",
       " 'Out': {2: ['C:\\\\Users\\\\bing\\\\Anaconda3\\\\envs\\\\tf\\\\python36.zip',\n",
       "   'C:\\\\Users\\\\bing\\\\Anaconda3\\\\envs\\\\tf\\\\DLLs',\n",
       "   'C:\\\\Users\\\\bing\\\\Anaconda3\\\\envs\\\\tf\\\\lib',\n",
       "   'C:\\\\Users\\\\bing\\\\Anaconda3\\\\envs\\\\tf',\n",
       "   '',\n",
       "   'C:\\\\Users\\\\bing\\\\Anaconda3\\\\envs\\\\tf\\\\lib\\\\site-packages',\n",
       "   'C:\\\\Users\\\\bing\\\\Anaconda3\\\\envs\\\\tf\\\\lib\\\\site-packages\\\\win32',\n",
       "   'C:\\\\Users\\\\bing\\\\Anaconda3\\\\envs\\\\tf\\\\lib\\\\site-packages\\\\win32\\\\lib',\n",
       "   'C:\\\\Users\\\\bing\\\\Anaconda3\\\\envs\\\\tf\\\\lib\\\\site-packages\\\\Pythonwin',\n",
       "   'C:\\\\Users\\\\bing\\\\Anaconda3\\\\envs\\\\tf\\\\lib\\\\site-packages\\\\IPython\\\\extensions',\n",
       "   'C:\\\\Users\\\\bing\\\\.ipython'],\n",
       "  4: ['__annotations__',\n",
       "   '__call__',\n",
       "   '__class__',\n",
       "   '__closure__',\n",
       "   '__code__',\n",
       "   '__defaults__',\n",
       "   '__delattr__',\n",
       "   '__dict__',\n",
       "   '__dir__',\n",
       "   '__doc__',\n",
       "   '__eq__',\n",
       "   '__format__',\n",
       "   '__ge__',\n",
       "   '__get__',\n",
       "   '__getattribute__',\n",
       "   '__globals__',\n",
       "   '__gt__',\n",
       "   '__hash__',\n",
       "   '__init__',\n",
       "   '__init_subclass__',\n",
       "   '__kwdefaults__',\n",
       "   '__le__',\n",
       "   '__lt__',\n",
       "   '__module__',\n",
       "   '__name__',\n",
       "   '__ne__',\n",
       "   '__new__',\n",
       "   '__qualname__',\n",
       "   '__reduce__',\n",
       "   '__reduce_ex__',\n",
       "   '__repr__',\n",
       "   '__setattr__',\n",
       "   '__sizeof__',\n",
       "   '__str__',\n",
       "   '__subclasshook__'],\n",
       "  5: {...}},\n",
       " 'get_ipython': <function IPython.core.getipython.get_ipython()>,\n",
       " 'exit': <IPython.core.autocall.ZMQExitAutocall at 0x21444d56278>,\n",
       " 'quit': <IPython.core.autocall.ZMQExitAutocall at 0x21444d56278>,\n",
       " '_': {...},\n",
       " '__': ['__annotations__',\n",
       "  '__call__',\n",
       "  '__class__',\n",
       "  '__closure__',\n",
       "  '__code__',\n",
       "  '__defaults__',\n",
       "  '__delattr__',\n",
       "  '__dict__',\n",
       "  '__dir__',\n",
       "  '__doc__',\n",
       "  '__eq__',\n",
       "  '__format__',\n",
       "  '__ge__',\n",
       "  '__get__',\n",
       "  '__getattribute__',\n",
       "  '__globals__',\n",
       "  '__gt__',\n",
       "  '__hash__',\n",
       "  '__init__',\n",
       "  '__init_subclass__',\n",
       "  '__kwdefaults__',\n",
       "  '__le__',\n",
       "  '__lt__',\n",
       "  '__module__',\n",
       "  '__name__',\n",
       "  '__ne__',\n",
       "  '__new__',\n",
       "  '__qualname__',\n",
       "  '__reduce__',\n",
       "  '__reduce_ex__',\n",
       "  '__repr__',\n",
       "  '__setattr__',\n",
       "  '__sizeof__',\n",
       "  '__str__',\n",
       "  '__subclasshook__'],\n",
       " '___': ['C:\\\\Users\\\\bing\\\\Anaconda3\\\\envs\\\\tf\\\\python36.zip',\n",
       "  'C:\\\\Users\\\\bing\\\\Anaconda3\\\\envs\\\\tf\\\\DLLs',\n",
       "  'C:\\\\Users\\\\bing\\\\Anaconda3\\\\envs\\\\tf\\\\lib',\n",
       "  'C:\\\\Users\\\\bing\\\\Anaconda3\\\\envs\\\\tf',\n",
       "  '',\n",
       "  'C:\\\\Users\\\\bing\\\\Anaconda3\\\\envs\\\\tf\\\\lib\\\\site-packages',\n",
       "  'C:\\\\Users\\\\bing\\\\Anaconda3\\\\envs\\\\tf\\\\lib\\\\site-packages\\\\win32',\n",
       "  'C:\\\\Users\\\\bing\\\\Anaconda3\\\\envs\\\\tf\\\\lib\\\\site-packages\\\\win32\\\\lib',\n",
       "  'C:\\\\Users\\\\bing\\\\Anaconda3\\\\envs\\\\tf\\\\lib\\\\site-packages\\\\Pythonwin',\n",
       "  'C:\\\\Users\\\\bing\\\\Anaconda3\\\\envs\\\\tf\\\\lib\\\\site-packages\\\\IPython\\\\extensions',\n",
       "  'C:\\\\Users\\\\bing\\\\.ipython'],\n",
       " 'json': <module 'json' from 'C:\\\\Users\\\\bing\\\\Anaconda3\\\\envs\\\\tf\\\\lib\\\\json\\\\__init__.py'>,\n",
       " 'yapf_reformat': <function __main__.yapf_reformat(cell_text)>,\n",
       " 'isort': <module 'isort' from 'C:\\\\Users\\\\bing\\\\Anaconda3\\\\envs\\\\tf\\\\lib\\\\site-packages\\\\isort\\\\__init__.py'>,\n",
       " '_isort_refactor_cell': <function __main__._isort_refactor_cell(src)>,\n",
       " 'autopep8': <module 'autopep8' from 'C:\\\\Users\\\\bing\\\\Anaconda3\\\\envs\\\\tf\\\\lib\\\\site-packages\\\\autopep8.py'>,\n",
       " 'getsizeof': <function sys.getsizeof>,\n",
       " 'NamespaceMagics': IPython.core.magics.namespace.NamespaceMagics,\n",
       " '_nms': <IPython.core.magics.namespace.NamespaceMagics at 0x2145c248860>,\n",
       " '_Jupyter': <ipykernel.zmqshell.ZMQInteractiveShell at 0x21444cf1e80>,\n",
       " 'np': <module 'numpy' from 'C:\\\\Users\\\\bing\\\\Anaconda3\\\\envs\\\\tf\\\\lib\\\\site-packages\\\\numpy\\\\__init__.py'>,\n",
       " '_getsizeof': <function __main__._getsizeof(x)>,\n",
       " '_getshapeof': <function __main__._getshapeof(x)>,\n",
       " 'var_dic_list': <function __main__.var_dic_list()>,\n",
       " '_i': 'globals()',\n",
       " '_ii': 'dir(func)',\n",
       " '_iii': 'def func():\\n    a = 3\\n    b = 5\\n    c =8\\n    return a, b, c',\n",
       " '_i1': 'import sys',\n",
       " 'sys': <module 'sys' (built-in)>,\n",
       " '_i2': 'sys.path',\n",
       " '_2': ['C:\\\\Users\\\\bing\\\\Anaconda3\\\\envs\\\\tf\\\\python36.zip',\n",
       "  'C:\\\\Users\\\\bing\\\\Anaconda3\\\\envs\\\\tf\\\\DLLs',\n",
       "  'C:\\\\Users\\\\bing\\\\Anaconda3\\\\envs\\\\tf\\\\lib',\n",
       "  'C:\\\\Users\\\\bing\\\\Anaconda3\\\\envs\\\\tf',\n",
       "  '',\n",
       "  'C:\\\\Users\\\\bing\\\\Anaconda3\\\\envs\\\\tf\\\\lib\\\\site-packages',\n",
       "  'C:\\\\Users\\\\bing\\\\Anaconda3\\\\envs\\\\tf\\\\lib\\\\site-packages\\\\win32',\n",
       "  'C:\\\\Users\\\\bing\\\\Anaconda3\\\\envs\\\\tf\\\\lib\\\\site-packages\\\\win32\\\\lib',\n",
       "  'C:\\\\Users\\\\bing\\\\Anaconda3\\\\envs\\\\tf\\\\lib\\\\site-packages\\\\Pythonwin',\n",
       "  'C:\\\\Users\\\\bing\\\\Anaconda3\\\\envs\\\\tf\\\\lib\\\\site-packages\\\\IPython\\\\extensions',\n",
       "  'C:\\\\Users\\\\bing\\\\.ipython'],\n",
       " '_i3': 'def func():\\n    a = 3\\n    b = 5\\n    c =8\\n    return a, b, c',\n",
       " 'func': <function __main__.func()>,\n",
       " '_i4': 'dir(func)',\n",
       " '_4': ['__annotations__',\n",
       "  '__call__',\n",
       "  '__class__',\n",
       "  '__closure__',\n",
       "  '__code__',\n",
       "  '__defaults__',\n",
       "  '__delattr__',\n",
       "  '__dict__',\n",
       "  '__dir__',\n",
       "  '__doc__',\n",
       "  '__eq__',\n",
       "  '__format__',\n",
       "  '__ge__',\n",
       "  '__get__',\n",
       "  '__getattribute__',\n",
       "  '__globals__',\n",
       "  '__gt__',\n",
       "  '__hash__',\n",
       "  '__init__',\n",
       "  '__init_subclass__',\n",
       "  '__kwdefaults__',\n",
       "  '__le__',\n",
       "  '__lt__',\n",
       "  '__module__',\n",
       "  '__name__',\n",
       "  '__ne__',\n",
       "  '__new__',\n",
       "  '__qualname__',\n",
       "  '__reduce__',\n",
       "  '__reduce_ex__',\n",
       "  '__repr__',\n",
       "  '__setattr__',\n",
       "  '__sizeof__',\n",
       "  '__str__',\n",
       "  '__subclasshook__'],\n",
       " '_i5': 'globals()',\n",
       " '_5': {...},\n",
       " '_i6': 'locals()'}"
      ]
     },
     "execution_count": 6,
     "metadata": {},
     "output_type": "execute_result"
    }
   ],
   "source": [
    "locals()"
   ]
  },
  {
   "cell_type": "markdown",
   "metadata": {
    "heading_collapsed": true
   },
   "source": [
    "### 包"
   ]
  },
  {
   "cell_type": "markdown",
   "metadata": {
    "hidden": true
   },
   "source": [
    "任何包含`__init__.py`的文件的目录都会被视作一个Python包。包含`__init__.py`的顶级目录是根包（root package）。导入包里的各个模块和导入普通模块的方式类似，不过`__init__.py`文件用于收集所有包范围（package-wide）的定义。\n",
    "\n",
    "pack目录下的module.py文件可以通过`import pack.module`语句导入。首先，解释器会在pack目录下查找`__init__.py`并执行其中的所有顶级语句。然后，查找文件pack/module.py并执行其中的所有顶级语句。这些操作执行后，module.py中定义的任何变量、函数或类都能在`pack.module`namespace中找到。"
   ]
  },
  {
   "cell_type": "markdown",
   "metadata": {
    "hidden": true
   },
   "source": [
    "从多层子包中导入文件需要执行目录树，遍历过程中遇到的所有`__init__.py`文件。如果包内的模块和子包不需要共享任何代码，那么`__init__.py`留空一个最佳实践。"
   ]
  },
  {
   "cell_type": "markdown",
   "metadata": {},
   "source": [
    "### 装饰器"
   ]
  },
  {
   "cell_type": "markdown",
   "metadata": {},
   "source": [
    "装饰器是一个函数或类的方法，用来包装或者修饰另一个函数或方法，被装饰的函数或方法将会替代原来的函数或方法。\n",
    "\n",
    "详见另外的笔记。"
   ]
  },
  {
   "cell_type": "markdown",
   "metadata": {},
   "source": [
    "### 动态类型"
   ]
  },
  {
   "cell_type": "markdown",
   "metadata": {},
   "source": [
    "变量没有一个固定的类型。因此，避免为不同事物使用相同的变量名。"
   ]
  },
  {
   "cell_type": "markdown",
   "metadata": {},
   "source": [
    "```python\n",
    "# NO!\n",
    "items = 'a b c d'\n",
    "items = items.split(' ')\n",
    "items = set(items)\n",
    "\n",
    "# Yes!\n",
    "items_string = 'a b c d'\n",
    "items_list = items.split(' ')\n",
    "items_set = set(items)\n",
    "```"
   ]
  },
  {
   "cell_type": "markdown",
   "metadata": {},
   "source": [
    "### 可变类型和不可变类型"
   ]
  },
  {
   "cell_type": "code",
   "execution_count": 1,
   "metadata": {
    "ExecuteTime": {
     "end_time": "2019-02-27T10:09:52.719109Z",
     "start_time": "2019-02-27T10:09:52.710166Z"
    }
   },
   "outputs": [
    {
     "data": {
      "text/plain": [
       "[100, 2, 3]"
      ]
     },
     "execution_count": 1,
     "metadata": {},
     "output_type": "execute_result"
    }
   ],
   "source": [
    "# 可变列表\n",
    "my_list = [1, 2, 3]\n",
    "my_list[0] = 100\n",
    "my_list"
   ]
  },
  {
   "cell_type": "code",
   "execution_count": 3,
   "metadata": {
    "ExecuteTime": {
     "end_time": "2019-02-27T10:10:40.038958Z",
     "start_time": "2019-02-27T10:10:40.034991Z"
    },
    "scrolled": true
   },
   "outputs": [
    {
     "data": {
      "text/plain": [
       "7"
      ]
     },
     "execution_count": 3,
     "metadata": {},
     "output_type": "execute_result"
    }
   ],
   "source": [
    "# 整数不可变\n",
    "x = 6\n",
    "x += 1  # 这是一个新的x，占据了一个不同的内存位置\n",
    "x"
   ]
  },
  {
   "cell_type": "markdown",
   "metadata": {},
   "source": [
    "+ **可变类型**：可以inplace修改\n",
    "+ **不可变类型**：不提供修改自身内容的方法\n",
    "\n",
    "可变类型不可作为字典的键。因为值一旦改变，就不能哈希到相同的值，字典在键存储时使用了哈希。\n",
    "\n",
    "对希望修改的对象使用恰当的可变类型，对希望有固定值的对象使用不可变类型，以此向其他开发者明确地表明代码的意图。"
   ]
  },
  {
   "cell_type": "markdown",
   "metadata": {},
   "source": [
    "**字符串是不可变类型。**"
   ]
  },
  {
   "cell_type": "code",
   "execution_count": 4,
   "metadata": {
    "ExecuteTime": {
     "end_time": "2019-02-27T10:14:12.369758Z",
     "start_time": "2019-02-27T10:14:12.303918Z"
    }
   },
   "outputs": [
    {
     "ename": "TypeError",
     "evalue": "'str' object does not support item assignment",
     "output_type": "error",
     "traceback": [
      "\u001b[1;31m---------------------------------------------------------------------------\u001b[0m",
      "\u001b[1;31mTypeError\u001b[0m                                 Traceback (most recent call last)",
      "\u001b[1;32m<ipython-input-4-d293afe650b9>\u001b[0m in \u001b[0;36m<module>\u001b[1;34m\u001b[0m\n\u001b[0;32m      1\u001b[0m \u001b[0ms\u001b[0m \u001b[1;33m=\u001b[0m \u001b[1;34m'libing'\u001b[0m\u001b[1;33m\u001b[0m\u001b[1;33m\u001b[0m\u001b[0m\n\u001b[1;32m----> 2\u001b[1;33m \u001b[0ms\u001b[0m\u001b[1;33m[\u001b[0m\u001b[1;36m1\u001b[0m\u001b[1;33m:\u001b[0m\u001b[1;36m4\u001b[0m\u001b[1;33m]\u001b[0m \u001b[1;33m=\u001b[0m \u001b[1;34m'hah'\u001b[0m\u001b[1;33m\u001b[0m\u001b[1;33m\u001b[0m\u001b[0m\n\u001b[0m",
      "\u001b[1;31mTypeError\u001b[0m: 'str' object does not support item assignment"
     ]
    }
   ],
   "source": [
    "s = 'libing'\n",
    "s[1:4] = 'hah'"
   ]
  },
  {
   "cell_type": "markdown",
   "metadata": {},
   "source": [
    "从多个部分构造出一个string时，先将各部分聚集到一个list中，然后将列表元素拼接成一个完整的字符串。"
   ]
  },
  {
   "cell_type": "code",
   "execution_count": 5,
   "metadata": {
    "ExecuteTime": {
     "end_time": "2019-02-27T10:18:04.191959Z",
     "start_time": "2019-02-27T10:18:04.187024Z"
    }
   },
   "outputs": [
    {
     "data": {
      "text/plain": [
       "'joinaabb'"
      ]
     },
     "execution_count": 5,
     "metadata": {},
     "output_type": "execute_result"
    }
   ],
   "source": [
    "''.join(['join', 'aa', 'bb'])"
   ]
  },
  {
   "cell_type": "markdown",
   "metadata": {},
   "source": [
    "> 这种拼接字符串方式更快。"
   ]
  }
 ],
 "metadata": {
  "hide_input": false,
  "kernelspec": {
   "display_name": "Python 3",
   "language": "python",
   "name": "python3"
  },
  "language_info": {
   "codemirror_mode": {
    "name": "ipython",
    "version": 3
   },
   "file_extension": ".py",
   "mimetype": "text/x-python",
   "name": "python",
   "nbconvert_exporter": "python",
   "pygments_lexer": "ipython3",
   "version": "3.6.8"
  },
  "nbTranslate": {
   "displayLangs": [
    "*"
   ],
   "hotkey": "alt-t",
   "langInMainMenu": true,
   "sourceLang": "en",
   "targetLang": "fr",
   "useGoogleTranslate": true
  },
  "toc": {
   "base_numbering": 1,
   "nav_menu": {},
   "number_sections": true,
   "sideBar": true,
   "skip_h1_title": false,
   "title_cell": "Table of Contents",
   "title_sidebar": "Contents",
   "toc_cell": false,
   "toc_position": {},
   "toc_section_display": true,
   "toc_window_display": true
  },
  "varInspector": {
   "cols": {
    "lenName": 16,
    "lenType": 16,
    "lenVar": 40
   },
   "kernels_config": {
    "python": {
     "delete_cmd_postfix": "",
     "delete_cmd_prefix": "del ",
     "library": "var_list.py",
     "varRefreshCmd": "print(var_dic_list())"
    },
    "r": {
     "delete_cmd_postfix": ") ",
     "delete_cmd_prefix": "rm(",
     "library": "var_list.r",
     "varRefreshCmd": "cat(var_dic_list()) "
    }
   },
   "types_to_exclude": [
    "module",
    "function",
    "builtin_function_or_method",
    "instance",
    "_Feature"
   ],
   "window_display": false
  }
 },
 "nbformat": 4,
 "nbformat_minor": 2
}
