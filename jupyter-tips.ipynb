{
 "cells": [
  {
   "cell_type": "markdown",
   "metadata": {
    "slideshow": {
     "slide_type": "skip"
    }
   },
   "source": [
    "+ **Python代码风格**\n",
    "  1. 缩进\n",
    "  2. 空格\n",
    "  3. 行\n",
    "  4. 空行\n",
    "  5. 注释\n",
    "  6. 命名\n",
    " \n",
    " \n",
    " + **高效Python**\n",
    "   1. 序列解包\n",
    "   2. 拼接字符串\n",
    "   3. Python内建函数——zip和enumerate\n",
    "   4. Lazy if-evaluation\n",
    "   5. Python的各种推导式\n",
    "   6. Python内建函数——lambda, map, filter\n",
    "   7. 查找元素\n",
    "   8. for循环的优化\n",
    "   9. 检查相等性的替代方法\n",
    "   10. 多写函数\n",
    "   11. 初始化的陷阱\n",
    "   12. 推荐使用pandas和NumPy"
   ]
  },
  {
   "cell_type": "code",
   "execution_count": 1,
   "metadata": {
    "ExecuteTime": {
     "end_time": "2019-06-21T01:39:17.447621Z",
     "start_time": "2019-06-21T01:39:17.114136Z"
    },
    "slideshow": {
     "slide_type": "skip"
    }
   },
   "outputs": [],
   "source": [
    "import pandas as pd\n",
    "import numpy as np"
   ]
  },
  {
   "cell_type": "markdown",
   "metadata": {
    "slideshow": {
     "slide_type": "slide"
    }
   },
   "source": [
    "<br/>\n",
    "\n",
    "# <center>Python Tips</center>\n",
    "<br/>\n",
    "<br/>\n",
    "<br/>\n",
    "<br/>\n",
    "<br/>\n",
    "<br/>\n",
    "<br/>\n",
    "\n",
    "##### <center>*李兵*</center>  "
   ]
  },
  {
   "cell_type": "markdown",
   "metadata": {
    "slideshow": {
     "slide_type": "slide"
    }
   },
   "source": [
    "# <font color='red'>Main Contents</font>\n",
    "1. **Style Guide for Python Code**\n",
    "\n",
    "2. **Effective Python**\n",
    "\n",
    "3. **Introduction to Jupyter Nbextensions**"
   ]
  },
  {
   "cell_type": "markdown",
   "metadata": {
    "slideshow": {
     "slide_type": "slide"
    }
   },
   "source": [
    "# <center><font color='blue'>1. Style Guide for Python Code</font></center>"
   ]
  },
  {
   "cell_type": "markdown",
   "metadata": {
    "slideshow": {
     "slide_type": "subslide"
    }
   },
   "source": [
    "**主要内容**\n",
    "1. 缩进\n",
    "2. 空格\n",
    "3. 行\n",
    "4. 空行\n",
    "5. 注释\n",
    "6. 命名\n",
    "\n",
    "Ref: \n",
    "1. [PEP 8](https://www.python.org/dev/peps/pep-0008/);\n",
    "2. [Google开源项目风格指南（Python）](https://zh-google-styleguide.readthedocs.io/en/latest/google-python-styleguide/contents/)"
   ]
  },
  {
   "cell_type": "markdown",
   "metadata": {
    "ExecuteTime": {
     "end_time": "2019-06-19T14:44:28.729980Z",
     "start_time": "2019-06-19T14:44:28.726809Z"
    },
    "slideshow": {
     "slide_type": "subslide"
    }
   },
   "source": [
    "## <font color='green'>1.1 缩进</font>\n",
    "+ 用4个空格来缩进，不要用tab键来缩进;\n",
    "+ 对于行连接的情况，可以使用垂直对齐换行或使用4个空格悬挂式缩进."
   ]
  },
  {
   "cell_type": "markdown",
   "metadata": {
    "slideshow": {
     "slide_type": "fragment"
    }
   },
   "source": [
    "```py\n",
    "# Yes\n",
    "foo = long_func_name(param1, param2,\n",
    "                     param3, param4)\n",
    "\n",
    "# No\n",
    "foo = long_func_name(param1, param2,\n",
    "    param3, param4)\n",
    "\n",
    "# Yes\n",
    "bar = {\n",
    "    'name': 'Bob',\n",
    "    'age': 18,\n",
    "}\n",
    "\n",
    "# No\n",
    "bar = {\n",
    "  'name': 'Bob',\n",
    "  'age': 18\n",
    "}\n",
    "```   "
   ]
  },
  {
   "cell_type": "markdown",
   "metadata": {
    "slideshow": {
     "slide_type": "subslide"
    }
   },
   "source": [
    "## <font color='green'>1.2 空格</font>\n",
    "+ 在二元运算符两边各一个空格，比如赋值`=`, 比较(`==`, `<`, `>`, `!=`, `<>`, `<=`, `>=`, `in`, `not in`, `is`, `is not`), 布尔(`and`, `or`, `not`);"
   ]
  },
  {
   "cell_type": "markdown",
   "metadata": {
    "slideshow": {
     "slide_type": "fragment"
    }
   },
   "source": [
    "```py\n",
    "# Yes\n",
    "a = 1\n",
    "i = i + 1\n",
    "a < 1\n",
    "\n",
    "# No\n",
    "a=1\n",
    "i=i+1\n",
    "a<1\n",
    "```"
   ]
  },
  {
   "cell_type": "markdown",
   "metadata": {
    "slideshow": {
     "slide_type": "subslide"
    }
   },
   "source": [
    "+ 当`=`用于指示关键字参数或默认参数值时, 不要在其两侧使用空格;"
   ]
  },
  {
   "cell_type": "markdown",
   "metadata": {
    "slideshow": {
     "slide_type": "fragment"
    }
   },
   "source": [
    "```py\n",
    "# Yes\n",
    "def complex(real, imag=.0):\n",
    "    return magic(r=real, i=imag)\n",
    "\n",
    "# No\n",
    "def complex(real, imag = .0):\n",
    "    return magic(r = real, i = imag)\n",
    "```"
   ]
  },
  {
   "cell_type": "markdown",
   "metadata": {
    "slideshow": {
     "slide_type": "subslide"
    }
   },
   "source": [
    "+ 不要用空格来垂直对齐多行间的标记, 因为会增加维护的负担(适用于:, `#`, `=`等);"
   ]
  },
  {
   "cell_type": "markdown",
   "metadata": {
    "slideshow": {
     "slide_type": "fragment"
    }
   },
   "source": [
    "```py\n",
    "# Yes\n",
    "foo = 100  # Comment\n",
    "long_name = 2  # Comment that should not be aligned\n",
    "\n",
    "dictionary = {\n",
    "    'foo': 100,\n",
    "    'long_name': 2,\n",
    "}\n",
    "\n",
    "# No\n",
    "foo       = 100  # Comment\n",
    "long_name = 2    # Comment\n",
    "\n",
    "dictionary = {\n",
    "    'foo'      : 100,\n",
    "    'long_name': 2\n",
    "}\n",
    "```"
   ]
  },
  {
   "cell_type": "markdown",
   "metadata": {
    "slideshow": {
     "slide_type": "fragment"
    }
   },
   "source": [
    "+ 不要在逗号, 分号, 冒号前面加空格, 但应该在它们后面加(除了在行尾)."
   ]
  },
  {
   "cell_type": "markdown",
   "metadata": {
    "ExecuteTime": {
     "end_time": "2019-06-20T01:11:41.191555Z",
     "start_time": "2019-06-20T01:11:41.182212Z"
    },
    "slideshow": {
     "slide_type": "subslide"
    }
   },
   "source": [
    "## <font color='green'>1.3 行</font>\n",
    "+ 每行尽量不超过79个字符;\n",
    "  + 长的导入模块语句可以除外;\n",
    "  + 注释里的url可以除外;\n",
    "  + 注释和文档字符串尽量不超过72个字符."
   ]
  },
  {
   "cell_type": "code",
   "execution_count": 2,
   "metadata": {
    "ExecuteTime": {
     "end_time": "2019-06-21T01:39:17.696911Z",
     "start_time": "2019-06-21T01:39:17.449339Z"
    },
    "slideshow": {
     "slide_type": "fragment"
    }
   },
   "outputs": [],
   "source": [
    "name = 'libing'\n",
    "\n",
    "from sklearn.preprocessing import PolynomialFeatures, PowerTransformer, StandardScaler\n",
    " \n",
    "# See details at\n",
    "# https://zh-google-styleguide.readthedocs.io/en/latest/google-python-styleguide/contents/"
   ]
  },
  {
   "cell_type": "markdown",
   "metadata": {
    "slideshow": {
     "slide_type": "subslide"
    }
   },
   "source": [
    "+ `()`, `[]`, `{}`可以隐式地实现行连接;\n",
    "+ 使用反斜杠`\\`换行，二元运算符`+` `.`等应出现在行末或长且多个`with`语句."
   ]
  },
  {
   "cell_type": "markdown",
   "metadata": {
    "ExecuteTime": {
     "end_time": "2019-06-20T01:52:31.931423Z",
     "start_time": "2019-06-20T01:52:31.807425Z"
    },
    "slideshow": {
     "slide_type": "fragment"
    }
   },
   "source": [
    "```py\n",
    "long_seq = ('This is a long long long'\n",
    "            'long long long long long string')\n",
    "\n",
    "with open(os.path.join(DATA_PATH, 'li.txt') as f1, \\\n",
    "     open(os.path.join(DATA_PATH, 'bing.txt'), 'w') as f2:\n",
    "    f2.write(f1.read())\n",
    "```"
   ]
  },
  {
   "cell_type": "markdown",
   "metadata": {
    "slideshow": {
     "slide_type": "subslide"
    }
   },
   "source": [
    "## <font color='green'>1.4 空行</font>\n",
    "+ 顶级定义之间空两行，如函数和类;\n",
    "+ 方法定义之间、类定义与第一个方法定义之间空一行;\n",
    "+ 在函数或方法或代码块中，可以使用空行来分离逻辑."
   ]
  },
  {
   "cell_type": "markdown",
   "metadata": {
    "slideshow": {
     "slide_type": "fragment"
    }
   },
   "source": [
    "```py\n",
    "class ClassName:\n",
    "\n",
    "    def method_name(self, x):\n",
    "        pass\n",
    "\n",
    "    def method_name_2(self, y):\n",
    "        pass\n",
    "\n",
    "\n",
    "def function_name():\n",
    "    pass\n",
    "```"
   ]
  },
  {
   "cell_type": "markdown",
   "metadata": {
    "ExecuteTime": {
     "end_time": "2019-06-20T02:39:11.956696Z",
     "start_time": "2019-06-20T02:39:11.953491Z"
    },
    "slideshow": {
     "slide_type": "subslide"
    }
   },
   "source": [
    "## <font color='green'>1.5 注释</font>\n",
    "+ 块注释和行注释;\n",
    "+ 文档字符串;\n",
    "+ 在代码中复杂/关键地方，记得写上注释;\n",
    "+ 注释内容不应该描述代码."
   ]
  },
  {
   "cell_type": "markdown",
   "metadata": {
    "ExecuteTime": {
     "end_time": "2019-06-20T02:49:15.894386Z",
     "start_time": "2019-06-20T02:49:15.891185Z"
    },
    "slideshow": {
     "slide_type": "fragment"
    }
   },
   "source": [
    "```py\n",
    "# 假装这一句很复杂、有技巧，看不懂😂，得写一段/句注释\n",
    "# Block comment, #后空一格\n",
    "a += 1\n",
    "\n",
    "# 假装不能一目了然🤦‍♂️，Inline comment, 与代码至少空两格\n",
    "if a:  # True a not None\n",
    "```"
   ]
  },
  {
   "cell_type": "markdown",
   "metadata": {
    "slideshow": {
     "slide_type": "subslide"
    }
   },
   "source": [
    "**文档字符串Docstring**\n",
    "\n",
    "package、module、function、method中的第一个语句，可以通过`xx.__doc__`被提取。惯例是使用三重引号。\n",
    "\n",
    "\n",
    "函数必须有docstring，除非：\n",
    "+ 外部不可见\n",
    "+ 简单明了\n",
    "+ 非常短小"
   ]
  },
  {
   "cell_type": "code",
   "execution_count": null,
   "metadata": {
    "ExecuteTime": {
     "end_time": "2019-06-21T02:18:52.706467Z",
     "start_time": "2019-06-21T02:18:52.703502Z"
    },
    "slideshow": {
     "slide_type": "fragment"
    }
   },
   "outputs": [],
   "source": [
    "print(pd.read_csv.__doc__)"
   ]
  },
  {
   "cell_type": "markdown",
   "metadata": {
    "slideshow": {
     "slide_type": "skip"
    }
   },
   "source": [
    "按shift-tab显示文档"
   ]
  },
  {
   "cell_type": "markdown",
   "metadata": {
    "slideshow": {
     "slide_type": "subslide"
    }
   },
   "source": [
    "## <font color='green'>1.6 命名</font>\n",
    "\n",
    "|<font size=5>Type</font>|<font size=5>&emsp;Public</font>|<font size=5>&emsp;Private</font>|\n",
    "| : -- |:--: | --: |\n",
    "|<font size=5>包&emsp;</font>|<font size=5>&emsp;lower_with_under&emsp;</font>|<font size=5>&emsp;\\_low_with_under&emsp;</font>|\n",
    "|<font size=5>模块</font>|<font size=5>&emsp;lower_with_under&emsp;</font>||\n",
    "|<font size=5>类</font>|<font size=5>&emsp;CapWords&emsp;</font>|<font size=5>&emsp;\\_CapWords</font>&emsp;|\n",
    "|<font size=5>异常</font>|<font size=5>&emsp;CapWords&emsp;</font>||\n",
    "|<font size=5>函数</font>|<font size=5>&emsp;lower_with_under()&emsp;</font>|<font size=5>&emsp;\\_low_with_under()&emsp;</font>|\n",
    "|<font size=5>全局/类常量</font>|<font size=5>&emsp;CAPS_WITH_UNDER&emsp;</font>|<font size=5>&emsp;\\_CAPS_WITH_UNDER&emsp;</font>|\n",
    "|<font size=5>全局/类变量</font>|<font size=5>&emsp;lower_with_under&emsp;</font>|<font size=5>&emsp;\\_lower_with_under&emsp;</font>|\n",
    "|<font size=5>实例变量</font>|<font size=5>&emsp;lower_with_under&emsp;</font>|<font size=5>&emsp;\\_lower_with_under or \\_\\_lower_with_under (private)&emsp;</font>|\n",
    "|<font size=5>方法名</font>|<font size=5>&emsp;lower_with_under()&emsp;</font>|<font size=5>&emsp;\\_lower_with_under or \\_\\_lower_with_under (private)</font>&emsp;|\n",
    "|<font size=5>函数/方法参数</font>|<font size=5>&emsp;lower_with_under&emsp;</font>||\n",
    "|<font size=5>局部变量</font>|<font size=5>&emsp;lower_with_under&emsp;</font>||"
   ]
  },
  {
   "cell_type": "markdown",
   "metadata": {
    "slideshow": {
     "slide_type": "fragment"
    }
   },
   "source": [
    "```py\n",
    "def func_name():\n",
    "\n",
    "class SouChe:\n",
    "    \n",
    "an_integer = 4\n",
    "\n",
    "DATA_PATH = '/home/..'\n",
    "```"
   ]
  },
  {
   "cell_type": "markdown",
   "metadata": {
    "slideshow": {
     "slide_type": "slide"
    }
   },
   "source": [
    "# <center><font color='blue'>2. Effective Python</font></center>"
   ]
  },
  {
   "cell_type": "markdown",
   "metadata": {
    "ExecuteTime": {
     "end_time": "2019-06-20T14:40:41.842969Z",
     "start_time": "2019-06-20T14:40:41.840685Z"
    },
    "slideshow": {
     "slide_type": "subslide"
    }
   },
   "source": [
    "## <font color='green'>2.1 解包（Unpack）</font>"
   ]
  },
  {
   "cell_type": "markdown",
   "metadata": {
    "ExecuteTime": {
     "end_time": "2019-06-20T15:46:55.286855Z",
     "start_time": "2019-06-20T15:46:55.283367Z"
    },
    "slideshow": {
     "slide_type": "fragment"
    }
   },
   "source": [
    "```py\n",
    "a, b = b, a\n",
    "\n",
    "a, (b, c) = 1, (2, 3)\n",
    "```"
   ]
  },
  {
   "cell_type": "code",
   "execution_count": 4,
   "metadata": {
    "ExecuteTime": {
     "end_time": "2019-06-21T01:39:17.711322Z",
     "start_time": "2019-06-21T01:39:17.707938Z"
    },
    "slideshow": {
     "slide_type": "fragment"
    }
   },
   "outputs": [
    {
     "data": {
      "text/plain": [
       "[2, 3]"
      ]
     },
     "execution_count": 4,
     "metadata": {},
     "output_type": "execute_result"
    }
   ],
   "source": [
    "a, *rest = [1, 2, 3]\n",
    "rest"
   ]
  },
  {
   "cell_type": "code",
   "execution_count": 5,
   "metadata": {
    "ExecuteTime": {
     "end_time": "2019-06-21T01:39:17.715806Z",
     "start_time": "2019-06-21T01:39:17.712664Z"
    },
    "slideshow": {
     "slide_type": "fragment"
    }
   },
   "outputs": [
    {
     "data": {
      "text/plain": [
       "[2, 3]"
      ]
     },
     "execution_count": 5,
     "metadata": {},
     "output_type": "execute_result"
    }
   ],
   "source": [
    "a, *rest, c = (1, 2, 3, 4)\n",
    "rest"
   ]
  },
  {
   "cell_type": "code",
   "execution_count": 6,
   "metadata": {
    "ExecuteTime": {
     "end_time": "2019-06-21T01:39:17.721307Z",
     "start_time": "2019-06-21T01:39:17.718330Z"
    },
    "scrolled": true,
    "slideshow": {
     "slide_type": "fragment"
    }
   },
   "outputs": [
    {
     "name": "stdout",
     "output_type": "stream",
     "text": [
      "da souche\n"
     ]
    }
   ],
   "source": [
    "a, _, c = ['da', 2, 'souche']  # 起名真是太难了😢\n",
    "print(a, c)"
   ]
  },
  {
   "cell_type": "markdown",
   "metadata": {
    "ExecuteTime": {
     "end_time": "2019-06-20T14:54:38.130558Z",
     "start_time": "2019-06-20T14:54:38.127216Z"
    },
    "slideshow": {
     "slide_type": "subslide"
    }
   },
   "source": [
    "## <font color='green'>2.2 拼接字符串</font>\n",
    "<br/>\n",
    "\n",
    "使用`join`而不是`+`连接字符串.\n",
    "\n",
    "<br/>\n",
    "\n"
   ]
  },
  {
   "cell_type": "code",
   "execution_count": 7,
   "metadata": {
    "ExecuteTime": {
     "end_time": "2019-06-21T01:39:17.725725Z",
     "start_time": "2019-06-21T01:39:17.723382Z"
    },
    "slideshow": {
     "slide_type": "fragment"
    }
   },
   "outputs": [],
   "source": [
    "string_list = list('abcdefghiklmnopqrstuvwxyz')"
   ]
  },
  {
   "cell_type": "code",
   "execution_count": 8,
   "metadata": {
    "ExecuteTime": {
     "end_time": "2019-06-21T01:39:19.647485Z",
     "start_time": "2019-06-21T01:39:17.727216Z"
    },
    "slideshow": {
     "slide_type": "fragment"
    }
   },
   "outputs": [
    {
     "name": "stdout",
     "output_type": "stream",
     "text": [
      "238 ns ± 9.44 ns per loop (mean ± std. dev. of 7 runs, 1000000 loops each)\n"
     ]
    }
   ],
   "source": [
    "%timeit ''.join(string_list)"
   ]
  },
  {
   "cell_type": "code",
   "execution_count": 9,
   "metadata": {
    "ExecuteTime": {
     "end_time": "2019-06-21T01:39:29.708989Z",
     "start_time": "2019-06-21T01:39:19.648913Z"
    },
    "slideshow": {
     "slide_type": "fragment"
    }
   },
   "outputs": [
    {
     "name": "stdout",
     "output_type": "stream",
     "text": [
      "1.22 µs ± 76 ns per loop (mean ± std. dev. of 7 runs, 1000000 loops each)\n"
     ]
    }
   ],
   "source": [
    "%%timeit \n",
    "s = ''\n",
    "for ele in string_list:\n",
    "    s += ele"
   ]
  },
  {
   "cell_type": "markdown",
   "metadata": {
    "slideshow": {
     "slide_type": "subslide"
    }
   },
   "source": [
    "## <font color='green'>2.3 Python内建函数——zip和enumerate</font>"
   ]
  },
  {
   "cell_type": "code",
   "execution_count": 10,
   "metadata": {
    "ExecuteTime": {
     "end_time": "2019-06-21T01:39:29.715214Z",
     "start_time": "2019-06-21T01:39:29.711097Z"
    },
    "slideshow": {
     "slide_type": "fragment"
    }
   },
   "outputs": [
    {
     "name": "stdout",
     "output_type": "stream",
     "text": [
      "da 1\n",
      "sou 2\n",
      "che 3\n"
     ]
    }
   ],
   "source": [
    "# 同时遍历两个可迭代的对象\n",
    "a_list = ['da', 'sou', 'che']\n",
    "b_tuple = (1, 2, 3)\n",
    "\n",
    "for a, b in zip(a_list, b_tuple):\n",
    "    print(a, b)"
   ]
  },
  {
   "cell_type": "code",
   "execution_count": 11,
   "metadata": {
    "ExecuteTime": {
     "end_time": "2019-06-21T01:39:29.720677Z",
     "start_time": "2019-06-21T01:39:29.717003Z"
    },
    "slideshow": {
     "slide_type": "fragment"
    }
   },
   "outputs": [
    {
     "name": "stdout",
     "output_type": "stream",
     "text": [
      "0 da\n",
      "1 souc\n",
      "2 che\n"
     ]
    }
   ],
   "source": [
    "# 遍历索引和值\n",
    "a_list = ['da', 'souc', 'che']\n",
    "for index, value in enumerate(a_list):\n",
    "    print(index, value)"
   ]
  },
  {
   "cell_type": "markdown",
   "metadata": {
    "slideshow": {
     "slide_type": "subslide"
    }
   },
   "source": [
    "## <font color='green'>2.4 Lazy if-evaluation</font>\n",
    "\n",
    "```py\n",
    "if condition:\n",
    "    pass\n",
    "```"
   ]
  },
  {
   "cell_type": "markdown",
   "metadata": {
    "slideshow": {
     "slide_type": "fragment"
    }
   },
   "source": [
    "```py\n",
    "# No\n",
    "if complex_condition and other_complex_condition:\n",
    "    pass\n",
    "\n",
    "# Yes\n",
    "cond1 = complex_condition\n",
    "cond2 = other_complex_condition\n",
    "\n",
    "if cond1 and cond2:\n",
    "    pass\n",
    "```"
   ]
  },
  {
   "cell_type": "markdown",
   "metadata": {
    "slideshow": {
     "slide_type": "fragment"
    }
   },
   "source": [
    "多个条件时，将不容易满足的条件放在第一个位置，可以节省不必要的计算/判断。"
   ]
  },
  {
   "cell_type": "markdown",
   "metadata": {
    "slideshow": {
     "slide_type": "subslide"
    }
   },
   "source": [
    "## <font color='green'>2.5 Python的各种推导式</font>"
   ]
  },
  {
   "cell_type": "markdown",
   "metadata": {
    "slideshow": {
     "slide_type": "fragment"
    }
   },
   "source": [
    "+ 列表推导式\n",
    "```py\n",
    "a_list = [1, 2, 3, 4]\n",
    "[ele ** 2 for ele in a_list if a % 2 == 0]\n",
    "```"
   ]
  },
  {
   "cell_type": "markdown",
   "metadata": {
    "slideshow": {
     "slide_type": "fragment"
    }
   },
   "source": [
    "+ 生成器表达式\n",
    "```py\n",
    "a_list = [1, 2, 3, 4]\n",
    "# 如果接下来要loop，这样可以节省内存\n",
    "(ele **2 for ele in a_list if a % 2 == 0)\n",
    "```"
   ]
  },
  {
   "cell_type": "markdown",
   "metadata": {
    "slideshow": {
     "slide_type": "subslide"
    }
   },
   "source": [
    "+ 字典推导式\n",
    "\n",
    "```py\n",
    "dict_1 = {'a': 10, 'b': 20}\n",
    "dict_2 = {v: k for k, v in dict_1.items()}\n",
    "\n",
    "a_string = list('abcd')\n",
    "dict_3 = {k: v for v, k in enumerate(a_string)}\n",
    "```"
   ]
  },
  {
   "cell_type": "markdown",
   "metadata": {
    "slideshow": {
     "slide_type": "fragment"
    }
   },
   "source": [
    "+ 集合推导式\n",
    "\n",
    "```py\n",
    "a_string = ['a', 'is', 'with', 'if', 'file', 'exception']\n",
    "{len(s) for string in a_string}\n",
    "```"
   ]
  },
  {
   "cell_type": "markdown",
   "metadata": {
    "ExecuteTime": {
     "end_time": "2019-06-20T16:44:38.698978Z",
     "start_time": "2019-06-20T16:44:38.696931Z"
    },
    "slideshow": {
     "slide_type": "subslide"
    }
   },
   "source": [
    "## <font color='green'>2.6 Python内建函数——lambda, map, filter</font>"
   ]
  },
  {
   "cell_type": "code",
   "execution_count": 12,
   "metadata": {
    "ExecuteTime": {
     "end_time": "2019-06-21T01:39:29.725386Z",
     "start_time": "2019-06-21T01:39:29.721988Z"
    },
    "slideshow": {
     "slide_type": "fragment"
    }
   },
   "outputs": [
    {
     "data": {
      "text/plain": [
       "[True, False, True, False, True, False, True, False, True, False]"
      ]
     },
     "execution_count": 12,
     "metadata": {},
     "output_type": "execute_result"
    }
   ],
   "source": [
    "def even(x):\n",
    "    return x%2 == 0\n",
    "\n",
    "# map应用到整个对象中\n",
    "list(map(even, range(10)))"
   ]
  },
  {
   "cell_type": "code",
   "execution_count": 13,
   "metadata": {
    "ExecuteTime": {
     "end_time": "2019-06-21T01:39:29.731068Z",
     "start_time": "2019-06-21T01:39:29.726872Z"
    },
    "slideshow": {
     "slide_type": "fragment"
    }
   },
   "outputs": [
    {
     "data": {
      "text/plain": [
       "[True, False, True, False, True, False, True, False, True, False]"
      ]
     },
     "execution_count": 13,
     "metadata": {},
     "output_type": "execute_result"
    }
   ],
   "source": [
    "# lambda可以代替一个简单的函数\n",
    "list(map(lambda x: x%2 == 0, range(10)))"
   ]
  },
  {
   "cell_type": "code",
   "execution_count": 14,
   "metadata": {
    "ExecuteTime": {
     "end_time": "2019-06-21T01:39:29.737711Z",
     "start_time": "2019-06-21T01:39:29.733580Z"
    },
    "slideshow": {
     "slide_type": "fragment"
    }
   },
   "outputs": [
    {
     "data": {
      "text/plain": [
       "[0, 2, 4, 6, 8]"
      ]
     },
     "execution_count": 14,
     "metadata": {},
     "output_type": "execute_result"
    }
   ],
   "source": [
    "# filter可以用来过滤\n",
    "list(filter(lambda x: x%2 == 0, range(10)))"
   ]
  },
  {
   "cell_type": "raw",
   "metadata": {
    "ExecuteTime": {
     "end_time": "2019-06-21T00:34:59.200635Z",
     "start_time": "2019-06-21T00:34:59.096465Z"
    },
    "slideshow": {
     "slide_type": "skip"
    }
   },
   "source": [
    "# 想要对列表对象的所有元素应用一个函数、返回单个值的时候很有用\n",
    "reduce(lambda x, y: x + y, range(10))"
   ]
  },
  {
   "cell_type": "markdown",
   "metadata": {
    "slideshow": {
     "slide_type": "subslide"
    }
   },
   "source": [
    "## <font color='green'>2.7 查找元素</font>\n",
    "\n",
    "```py\n",
    "# Yes\n",
    "'foo' in d:  # d is a dict\n",
    "\n",
    "x = list(('foo', 'foo', 'bar', 'baz'))\n",
    "# No\n",
    "'foo' in x\n",
    "\n",
    "y = set(('foo', 'foo', 'bar', 'baz'))\n",
    "# Yes\n",
    "'foo' in y\n",
    "```"
   ]
  },
  {
   "cell_type": "markdown",
   "metadata": {
    "ExecuteTime": {
     "end_time": "2019-06-20T17:05:29.696142Z",
     "start_time": "2019-06-20T17:05:29.693172Z"
    },
    "slideshow": {
     "slide_type": "fragment"
    }
   },
   "source": [
    "`'foo' in y`借助了哈希表特性（python中字典和集合以哈希表实现），上面这两个查找性能是不同的。对于list，Python将逐个遍历匹配其中的元素，非常耗时O(N)，而set使用哈希查询可以很快找到O(1).\n",
    "\n",
    "set的`union`， `intersection`，`difference`操作要比list的迭代要快。因此如果涉及到求list交集，并集或者差的问题可以转换为set来操作."
   ]
  },
  {
   "cell_type": "markdown",
   "metadata": {
    "slideshow": {
     "slide_type": "subslide"
    }
   },
   "source": [
    "## <font color='green'>2.8 for循环的优化</font>\n",
    "\n",
    "+ 对循环的优化所遵循的原则是尽量减少循环过程中的计算量，有多重循环的尽量将内层的计算提到上一层."
   ]
  },
  {
   "cell_type": "markdown",
   "metadata": {
    "slideshow": {
     "slide_type": "fragment"
    }
   },
   "source": [
    "```py\n",
    "a_list, b_list = [...], [...]\n",
    "\n",
    "# No\n",
    "for i in range(len(a_list)):\n",
    "    for j in range(len(b_list)):\n",
    "        pass\n",
    "\n",
    "# Yes\n",
    "a_list_len = len(a_list)\n",
    "b_list_len = len(b_list)\n",
    "for i in range(a_list_len):\n",
    "    for j in range(b_list_len):\n",
    "        pass\n",
    "```"
   ]
  },
  {
   "cell_type": "markdown",
   "metadata": {
    "slideshow": {
     "slide_type": "subslide"
    }
   },
   "source": [
    "## <font color='green'>2.9 检查相等性的替代方法</font>\n",
    "当不必明确将一个值与`True`、`None`或0作比较时，可以将这个值直接应用到`if`语句中.\n",
    "```py\n",
    "# No\n",
    "if attr == True:\n",
    "    print(\"True\")\n",
    "\n",
    "if attr == None:\n",
    "    print('None')\n",
    "    \n",
    "# Yes\n",
    "if attr:   # 直接检查值\n",
    "    print('True')\n",
    "\n",
    "if not attr:   # 检查条件相反\n",
    "    print('False')\n",
    "\n",
    "if attr is True:  # 只想值为True\n",
    "    print('True')\n",
    "\n",
    "if attr is None:  # 显示检查值为None\n",
    "    print(\"None\")\n",
    "```"
   ]
  },
  {
   "cell_type": "markdown",
   "metadata": {
    "slideshow": {
     "slide_type": "skip"
    }
   },
   "source": [
    "在上述的条件中加上`()`是多余的。"
   ]
  },
  {
   "cell_type": "markdown",
   "metadata": {
    "slideshow": {
     "slide_type": "subslide"
    }
   },
   "source": [
    "## <font color='green'>2.10 多写函数</font>\n",
    "1. 可复用\n",
    "2. 可以避免全局变量空间变得混乱\n",
    "\n",
    "```py\n",
    "# No\n",
    "param1 = 1.0\n",
    "param2 = 100.\n",
    "\n",
    "x = 10\n",
    "\n",
    "step1 = x * param1\n",
    "step1 * param2\n",
    "\n",
    "# Yes\n",
    "def computation(x, param1=1., param2=100.):\n",
    "    step1 = x * param1\n",
    "    return step1 * param2\n",
    "```"
   ]
  },
  {
   "cell_type": "markdown",
   "metadata": {
    "ExecuteTime": {
     "end_time": "2019-06-20T17:24:36.382140Z",
     "start_time": "2019-06-20T17:24:36.378862Z"
    },
    "slideshow": {
     "slide_type": "subslide"
    }
   },
   "source": [
    "## <font color='green'>2.11 初始化的陷阱</font>\n",
    "```py\n",
    "# 使用Python列表的额*操作符来创建一个包含相同不可变元素的列表.\n",
    "four_nones = [None] * 4\n",
    ">>>[None, None, None, None]\n",
    "```"
   ]
  },
  {
   "cell_type": "code",
   "execution_count": 15,
   "metadata": {
    "ExecuteTime": {
     "end_time": "2019-06-21T01:39:29.743991Z",
     "start_time": "2019-06-21T01:39:29.739812Z"
    },
    "slideshow": {
     "slide_type": "fragment"
    }
   },
   "outputs": [
    {
     "data": {
      "text/plain": [
       "[['Ni'], ['Ni'], ['Ni'], ['Ni']]"
      ]
     },
     "execution_count": 15,
     "metadata": {},
     "output_type": "execute_result"
    }
   ],
   "source": [
    "# 列表是可修改的，*将创建一个包含N个指向同一列表的列表\n",
    "# No\n",
    "four_lists = [[]] * 4   # four_lists = [[], [], [], []]\n",
    "four_lists[0].append('Ni')\n",
    "four_lists"
   ]
  },
  {
   "cell_type": "code",
   "execution_count": 16,
   "metadata": {
    "ExecuteTime": {
     "end_time": "2019-06-21T01:39:29.750503Z",
     "start_time": "2019-06-21T01:39:29.746365Z"
    },
    "slideshow": {
     "slide_type": "fragment"
    }
   },
   "outputs": [
    {
     "data": {
      "text/plain": [
       "[['Ni'], [], [], []]"
      ]
     },
     "execution_count": 16,
     "metadata": {},
     "output_type": "execute_result"
    }
   ],
   "source": [
    "four_lists = [[] for _ in range(4)]  # [[], [], [], []]\n",
    "four_lists[0].append('Ni')\n",
    "four_lists"
   ]
  },
  {
   "cell_type": "markdown",
   "metadata": {
    "slideshow": {
     "slide_type": "subslide"
    }
   },
   "source": [
    "## <center><font color='green'>2.12 推荐使用**pandas**和**NumPy**</font></center>\n",
    "<br/>\n",
    "<br/>\n",
    "\n",
    "[利用Python进行数据分析](https://seancheney.gitbook.io/python-for-data-analysis-2nd/)"
   ]
  },
  {
   "cell_type": "markdown",
   "metadata": {
    "slideshow": {
     "slide_type": "subslide"
    }
   },
   "source": [
    "![](https://raw.githubusercontent.com/libingallin/learning-notes/master/figs/22d600040d8af1e5d77f.jpeg)"
   ]
  },
  {
   "cell_type": "markdown",
   "metadata": {
    "slideshow": {
     "slide_type": "slide"
    }
   },
   "source": [
    "# <center><font color='blue'>3. Introduction to Jupyter Nbextensions</font></center>"
   ]
  },
  {
   "cell_type": "markdown",
   "metadata": {
    "slideshow": {
     "slide_type": "skip"
    }
   },
   "source": [
    "$P(A \\mid B) = \\frac{P(B \\mid A)P(A)}{P(B)}$"
   ]
  },
  {
   "cell_type": "markdown",
   "metadata": {
    "ExecuteTime": {
     "end_time": "2019-06-19T11:55:15.127632Z",
     "start_time": "2019-06-19T11:55:15.121031Z"
    },
    "slideshow": {
     "slide_type": "skip"
    }
   },
   "source": [
    "『动态类型一时爽，代码重构火葬场』，说的是：动态语言在初期开发比较爽，但是到后期维护起来比较困难。Python 作为动态语言之一，自然也会有这样的缺点。其实说『火葬场』，也没有那么严重，只要严格的遵守一组规范，也能做到『重构的时候，也一样爽』。\n",
    "不以规矩不成方圆，规范自然是十分重要的，而在动态语言中，尤其重要（很多人拿Python写脚本，基本是随心所欲地写，自然后期维护困难）。所谓『兵马未动粮草先行』，我们应该在写代码前，就做好充足的 “表面功夫”。"
   ]
  }
 ],
 "metadata": {
  "celltoolbar": "幻灯片",
  "kernelspec": {
   "display_name": "Python 3",
   "language": "python",
   "name": "python3"
  },
  "language_info": {
   "codemirror_mode": {
    "name": "ipython",
    "version": 3
   },
   "file_extension": ".py",
   "mimetype": "text/x-python",
   "name": "python",
   "nbconvert_exporter": "python",
   "pygments_lexer": "ipython3",
   "version": "3.6.8"
  },
  "toc": {
   "base_numbering": 1,
   "nav_menu": {},
   "number_sections": true,
   "sideBar": true,
   "skip_h1_title": false,
   "title_cell": "Table of Contents",
   "title_sidebar": "Contents",
   "toc_cell": false,
   "toc_position": {},
   "toc_section_display": true,
   "toc_window_display": false
  },
  "varInspector": {
   "cols": {
    "lenName": 16,
    "lenType": 16,
    "lenVar": 40
   },
   "kernels_config": {
    "python": {
     "delete_cmd_postfix": "",
     "delete_cmd_prefix": "del ",
     "library": "var_list.py",
     "varRefreshCmd": "print(var_dic_list())"
    },
    "r": {
     "delete_cmd_postfix": ") ",
     "delete_cmd_prefix": "rm(",
     "library": "var_list.r",
     "varRefreshCmd": "cat(var_dic_list()) "
    }
   },
   "types_to_exclude": [
    "module",
    "function",
    "builtin_function_or_method",
    "instance",
    "_Feature"
   ],
   "window_display": false
  }
 },
 "nbformat": 4,
 "nbformat_minor": 2
}
