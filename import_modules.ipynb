{
 "cells": [
  {
   "cell_type": "markdown",
   "metadata": {},
   "source": [
    "# import module"
   ]
  },
  {
   "cell_type": "markdown",
   "metadata": {},
   "source": [
    "**Imports should usually be on separate lines**, e.g.:\n",
    "\n",
    "Yes: \n",
    "\n",
    "    import os\n",
    "\n",
    "    import sys\n",
    "No:\n",
    "\n",
    "    import os, sys\n",
    "\n",
    "It's okay to say this though:\n",
    "\n",
    "    from subprocess import Popen, PIPE"
   ]
  },
  {
   "cell_type": "markdown",
   "metadata": {},
   "source": [
    "**Imports are always put at the top of the file, just after any module comments and docstrings, and before module globals and constants.**\n",
    "\n",
    "Imports should be grouped in the following order:\n",
    "\n",
    "1. standard library imports\n",
    "2. related third party imports\n",
    "3. local application/library specific imports\n",
    "\n",
    "You should put a blank line between each group of imports."
   ]
  },
  {
   "cell_type": "code",
   "execution_count": 5,
   "metadata": {
    "collapsed": true
   },
   "outputs": [],
   "source": [
    "import os\n",
    "\n",
    "import numpy"
   ]
  },
  {
   "cell_type": "code",
   "execution_count": 7,
   "metadata": {},
   "outputs": [
    {
     "data": {
      "text/plain": [
       "'C:\\\\Users\\\\libin\\\\Anaconda2\\\\lib\\\\os.pyc'"
      ]
     },
     "execution_count": 7,
     "metadata": {},
     "output_type": "execute_result"
    }
   ],
   "source": [
    "os.__file__"
   ]
  },
  {
   "cell_type": "code",
   "execution_count": 8,
   "metadata": {},
   "outputs": [
    {
     "data": {
      "text/plain": [
       "'C:\\\\Users\\\\libin\\\\Anaconda2\\\\lib\\\\site-packages\\\\numpy\\\\__init__.pyc'"
      ]
     },
     "execution_count": 8,
     "metadata": {},
     "output_type": "execute_result"
    }
   ],
   "source": [
    "numpy.__file__"
   ]
  },
  {
   "cell_type": "markdown",
   "metadata": {},
   "source": [
    "**路径里面有 site-packages 就是第三方库。没有的就是标准库。**"
   ]
  }
 ],
 "metadata": {
  "kernelspec": {
   "display_name": "Python 2",
   "language": "python",
   "name": "python2"
  },
  "language_info": {
   "codemirror_mode": {
    "name": "ipython",
    "version": 2
   },
   "file_extension": ".py",
   "mimetype": "text/x-python",
   "name": "python",
   "nbconvert_exporter": "python",
   "pygments_lexer": "ipython2",
   "version": "2.7.13"
  }
 },
 "nbformat": 4,
 "nbformat_minor": 2
}
