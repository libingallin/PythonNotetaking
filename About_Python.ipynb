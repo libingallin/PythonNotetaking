{
 "cells": [
  {
   "cell_type": "markdown",
   "metadata": {},
   "source": [
    "## **一、对python的四种定义**"
   ]
  },
  {
   "cell_type": "markdown",
   "metadata": {},
   "source": [
    "### 1. 一种脚本语言"
   ]
  },
  {
   "cell_type": "markdown",
   "metadata": {},
   "source": [
    "脚本的英文是script。计算机中的**脚本**据定了计算机的操作系统和各种软件工具要做哪些事情以及具体怎么做。用户想要实现一个功能，在构思了如何做之后，就可以直接找个文本编辑器写上对应的脚本，也就是普通的文本，接着让计算机去运行，从而实现想要的功能。计算机中的脚本所运行的环境中有对应的脚本解析器，可以解释并执行对应的脚本。"
   ]
  },
  {
   "cell_type": "markdown",
   "metadata": {},
   "source": [
    "*    **编译型语言**\n",
    "    >编译型语言就是需要ongoing该语言的编译器将源代码编译为可执行程序，然后才能运行可执行程序的语言。此编译过程需要先将源代码编译为目标文件，然后把目标文件加上必要的库文件，最后再链接为最终的可执行文件。\n",
    "    \n",
    "    >源代码->(用编译器编译成)可执行程序->运行程序(可执行文件)"
   ]
  },
  {
   "cell_type": "markdown",
   "metadata": {},
   "source": [
    "*    **脚本语言**\n",
    "    >脚本语言是无需用编译器编译源代码，可直接运行该源码形式脚本文件的语言。而直接能够运行脚本文件的背后，是当前环境中存在着此脚本的解析器。解析器负责读入此脚本源码，以及后续解析并执行的动作。\n",
    "\n",
    "    >源代码->直接(在具有了解析器的环境中)运行程序(脚本源码)"
   ]
  },
  {
   "cell_type": "markdown",
   "metadata": {},
   "source": [
    "### 2.一种解释性语言"
   ]
  },
  {
   "cell_type": "markdown",
   "metadata": {},
   "source": [
    "之所以把python称为一门解释型语言，是因为脚本语言的天然特点之一就是解释性。\n",
    "*    **解释型语言**\n",
    ">    脚本语言的特点是在具有解释器的环境中，以源代码的形式而无需编译就可以直接执行。脚本语言的内部执行过程是首先由解析器一行一行地读取脚本的源代码，同时解析每一行，然后给出执行后的结果。通俗地说就是：读一行，解释一行，执行一行。由此，脚本语言就天然地具有了解释性的特点，所以脚本语言也常被称为解释型语言。"
   ]
  },
  {
   "cell_type": "markdown",
   "metadata": {},
   "source": [
    "### 3.一种高级语言"
   ]
  },
  {
   "cell_type": "markdown",
   "metadata": {},
   "source": [
    "   早期的计算机语言大多数都是针对硬件上的机器本身所开发的语言，一般叫作**汇编语言**。汇编语言之所以常被称为低级语言，是因为其语言本身直接和硬件打交道，而缺少对计算机细节的抽象，相对而言不是那么易于程序员理解和使用。随着计算机的发展，出现了对计算机细节更宏观抽象的语言，这类语言更多地采用了人类更容易理解的元素和概念，这类语言被称为高级语言。\n",
    "   汇编语言会涉及太多的物理层面上和硬件上的细节，不利于人类以普通的逻辑去理解，更难学习和掌握。"
   ]
  },
  {
   "cell_type": "markdown",
   "metadata": {},
   "source": [
    "### 4. 一种面向对象的语言"
   ]
  },
  {
   "cell_type": "markdown",
   "metadata": {},
   "source": [
    "面向对象的计算机语言这个概念是针对高级语言来说的。在一堆高级语言里面，有些是在设计该语言本身时，对于语言本身的基本元素是以对象的方式设计的，而不同的对象之间的交互则成为整个程序运行的主要表现形式。程序员用基于对象的编程语言设计程序时往往更加直观和易于理解，更加容易简化问题的处理逻辑，所相对而言，面向对象的语言简化了使用该语言解决实际问题的复杂度，提高了处理事情的效率，所以程序员更容易理解、学习、掌握和使用。"
   ]
  },
  {
   "cell_type": "markdown",
   "metadata": {},
   "source": [
    "**Python是一种面向对象的、解释型的计算机高级语言。**"
   ]
  },
  {
   "cell_type": "code",
   "execution_count": null,
   "metadata": {
    "collapsed": true
   },
   "outputs": [],
   "source": []
  }
 ],
 "metadata": {
  "kernelspec": {
   "display_name": "Python 2",
   "language": "python",
   "name": "python2"
  },
  "language_info": {
   "codemirror_mode": {
    "name": "ipython",
    "version": 2
   },
   "file_extension": ".py",
   "mimetype": "text/x-python",
   "name": "python",
   "nbconvert_exporter": "python",
   "pygments_lexer": "ipython2",
   "version": "2.7.13"
  }
 },
 "nbformat": 4,
 "nbformat_minor": 2
}
