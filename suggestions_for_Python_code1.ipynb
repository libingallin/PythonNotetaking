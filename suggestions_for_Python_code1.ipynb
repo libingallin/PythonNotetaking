{
 "cells": [
  {
   "cell_type": "markdown",
   "metadata": {},
   "source": [
    "### Suggestion1"
   ]
  },
  {
   "cell_type": "markdown",
   "metadata": {},
   "source": [
    "现在库和框架：\n",
    "+ 包和模块的命名采用小写、单数形式，而且短小；\n",
    "+ 包通常仅作为命名空间，如只包含的`__init__.py`文件。\n",
    "\n",
    "**业内通常认为Flask这个框架是比较Pythonic的。**"
   ]
  },
  {
   "cell_type": "markdown",
   "metadata": {
    "ExecuteTime": {
     "end_time": "2018-11-15T08:35:16.378241Z",
     "start_time": "2018-11-15T08:35:16.374604Z"
    }
   },
   "source": [
    "**`str.format()`是最具Pythonic的字符串格式化。**??"
   ]
  },
  {
   "cell_type": "code",
   "execution_count": 1,
   "metadata": {
    "ExecuteTime": {
     "end_time": "2018-11-15T14:14:38.802454Z",
     "start_time": "2018-11-15T14:14:38.790043Z"
    }
   },
   "outputs": [
    {
     "data": {
      "text/plain": [
       "'li bing'"
      ]
     },
     "execution_count": 1,
     "metadata": {},
     "output_type": "execute_result"
    }
   ],
   "source": [
    "# 不指定位置，按默认顺序\n",
    "\"{} {}\".format('li', 'bing')"
   ]
  },
  {
   "cell_type": "code",
   "execution_count": 2,
   "metadata": {
    "ExecuteTime": {
     "end_time": "2018-11-15T14:14:38.810171Z",
     "start_time": "2018-11-15T14:14:38.805305Z"
    }
   },
   "outputs": [
    {
     "data": {
      "text/plain": [
       "'li bing'"
      ]
     },
     "execution_count": 2,
     "metadata": {},
     "output_type": "execute_result"
    }
   ],
   "source": [
    "# 指定位置\n",
    "\"{0} {1}\".format('li', 'bing')"
   ]
  },
  {
   "cell_type": "code",
   "execution_count": 3,
   "metadata": {
    "ExecuteTime": {
     "end_time": "2018-11-15T14:14:38.817398Z",
     "start_time": "2018-11-15T14:14:38.812234Z"
    }
   },
   "outputs": [
    {
     "data": {
      "text/plain": [
       "'li bing'"
      ]
     },
     "execution_count": 3,
     "metadata": {},
     "output_type": "execute_result"
    }
   ],
   "source": [
    "# 指定位置\n",
    "\"{1} {0}\".format('bing', 'li')"
   ]
  },
  {
   "cell_type": "code",
   "execution_count": 4,
   "metadata": {
    "ExecuteTime": {
     "end_time": "2018-11-15T14:14:38.824884Z",
     "start_time": "2018-11-15T14:14:38.819991Z"
    }
   },
   "outputs": [
    {
     "data": {
      "text/plain": [
       "'li bing li'"
      ]
     },
     "execution_count": 4,
     "metadata": {},
     "output_type": "execute_result"
    }
   ],
   "source": [
    "# 指定位置\n",
    "\"{1} {0} {1}\".format('bing', 'li')"
   ]
  },
  {
   "cell_type": "code",
   "execution_count": 5,
   "metadata": {
    "ExecuteTime": {
     "end_time": "2018-11-15T14:14:38.832468Z",
     "start_time": "2018-11-15T14:14:38.827442Z"
    }
   },
   "outputs": [
    {
     "data": {
      "text/plain": [
       "'name: li bing, age: 25'"
      ]
     },
     "execution_count": 5,
     "metadata": {},
     "output_type": "execute_result"
    }
   ],
   "source": [
    "# 设置参数\n",
    "\"name: {name}, age: {age}\".format(name='li bing', age=25)"
   ]
  },
  {
   "cell_type": "code",
   "execution_count": 6,
   "metadata": {
    "ExecuteTime": {
     "end_time": "2018-11-15T14:14:38.840711Z",
     "start_time": "2018-11-15T14:14:38.835131Z"
    }
   },
   "outputs": [
    {
     "data": {
      "text/plain": [
       "'name: li bing, age: 25'"
      ]
     },
     "execution_count": 6,
     "metadata": {},
     "output_type": "execute_result"
    }
   ],
   "source": [
    "# 通过字典设置参数\n",
    "info = {'name': 'li bing', 'age': 25}\n",
    "\"name: {name}, age: {age}\".format(**info)"
   ]
  },
  {
   "cell_type": "code",
   "execution_count": 7,
   "metadata": {
    "ExecuteTime": {
     "end_time": "2018-11-15T14:14:38.848150Z",
     "start_time": "2018-11-15T14:14:38.843298Z"
    }
   },
   "outputs": [
    {
     "data": {
      "text/plain": [
       "'name: li bing, age: 25'"
      ]
     },
     "execution_count": 7,
     "metadata": {},
     "output_type": "execute_result"
    }
   ],
   "source": [
    "# 通过字典设置参数\n",
    "info = {'name': 'li bing', 'age': 25}\n",
    "\"name: {ddict[name]}, age: {ddict[age]}\".format(ddict=info)"
   ]
  },
  {
   "cell_type": "code",
   "execution_count": 8,
   "metadata": {
    "ExecuteTime": {
     "end_time": "2018-11-15T14:14:38.854877Z",
     "start_time": "2018-11-15T14:14:38.850011Z"
    }
   },
   "outputs": [
    {
     "data": {
      "text/plain": [
       "'name: li bing, age: 25'"
      ]
     },
     "execution_count": 8,
     "metadata": {},
     "output_type": "execute_result"
    }
   ],
   "source": [
    "# 通过列表设置参数\n",
    "ll = ['li bing', 25]\n",
    "'name: {llist[0]}, age: {llist[1]}'.format(llist=ll)"
   ]
  },
  {
   "cell_type": "code",
   "execution_count": 9,
   "metadata": {
    "ExecuteTime": {
     "end_time": "2018-11-15T14:14:38.862932Z",
     "start_time": "2018-11-15T14:14:38.857686Z"
    }
   },
   "outputs": [
    {
     "data": {
      "text/plain": [
       "'name: li bing, age: 25'"
      ]
     },
     "execution_count": 9,
     "metadata": {},
     "output_type": "execute_result"
    }
   ],
   "source": [
    "# 通过列表设置参数(必须要有0)\n",
    "ll = ['li bing', 25]\n",
    "'name: {0[0]}, age: {0[1]}'.format(ll)"
   ]
  },
  {
   "cell_type": "markdown",
   "metadata": {},
   "source": [
    "> 必须要有0。"
   ]
  },
  {
   "cell_type": "code",
   "execution_count": 10,
   "metadata": {
    "ExecuteTime": {
     "end_time": "2018-11-15T14:14:38.973086Z",
     "start_time": "2018-11-15T14:14:38.865546Z"
    }
   },
   "outputs": [
    {
     "ename": "IndexError",
     "evalue": "tuple index out of range",
     "output_type": "error",
     "traceback": [
      "\u001b[0;31m---------------------------------------------------------------------------\u001b[0m",
      "\u001b[0;31mIndexError\u001b[0m                                Traceback (most recent call last)",
      "\u001b[0;32m<ipython-input-10-6c6355e0f216>\u001b[0m in \u001b[0;36m<module>\u001b[0;34m()\u001b[0m\n\u001b[1;32m      1\u001b[0m \u001b[0;31m# set params by list index\u001b[0m\u001b[0;34m\u001b[0m\u001b[0;34m\u001b[0m\u001b[0m\n\u001b[1;32m      2\u001b[0m \u001b[0mll\u001b[0m \u001b[0;34m=\u001b[0m \u001b[0;34m[\u001b[0m\u001b[0;34m'li bing'\u001b[0m\u001b[0;34m,\u001b[0m \u001b[0;36m25\u001b[0m\u001b[0;34m]\u001b[0m\u001b[0;34m\u001b[0m\u001b[0m\n\u001b[0;32m----> 3\u001b[0;31m \u001b[0;34m'name: {0}, age: {1}'\u001b[0m\u001b[0;34m.\u001b[0m\u001b[0mformat\u001b[0m\u001b[0;34m(\u001b[0m\u001b[0mll\u001b[0m\u001b[0;34m)\u001b[0m\u001b[0;34m\u001b[0m\u001b[0m\n\u001b[0m",
      "\u001b[0;31mIndexError\u001b[0m: tuple index out of range"
     ]
    }
   ],
   "source": [
    "# set params by list index\n",
    "ll = ['li bing', 25]\n",
    "'name: {0}, age: {1}'.format(ll)"
   ]
  },
  {
   "cell_type": "code",
   "execution_count": 11,
   "metadata": {
    "ExecuteTime": {
     "end_time": "2018-11-15T14:14:50.298744Z",
     "start_time": "2018-11-15T14:14:50.281536Z"
    }
   },
   "outputs": [
    {
     "data": {
      "text/plain": [
       "'name: li bing age: 25'"
      ]
     },
     "execution_count": 11,
     "metadata": {},
     "output_type": "execute_result"
    }
   ],
   "source": [
    "# 通过类的属性填充\n",
    "class Info():\n",
    "    name = 'li bing'\n",
    "    age = 25\n",
    "\n",
    "\n",
    "info = Info()\n",
    "'name: {0.name} age: {0.age}'.format(info)"
   ]
  },
  {
   "cell_type": "code",
   "execution_count": 12,
   "metadata": {
    "ExecuteTime": {
     "end_time": "2018-11-15T14:14:50.309190Z",
     "start_time": "2018-11-15T14:14:50.301842Z"
    }
   },
   "outputs": [
    {
     "data": {
      "text/plain": [
       "'name: li bing age: 25'"
      ]
     },
     "execution_count": 12,
     "metadata": {},
     "output_type": "execute_result"
    }
   ],
   "source": [
    "# 通过类的属性填充\n",
    "class Info():\n",
    "    name = 'li bing'\n",
    "    age = 25\n",
    "\n",
    "\n",
    "'name: {info2.name} age: {info2.age}'.format(info2=Info)"
   ]
  },
  {
   "cell_type": "code",
   "execution_count": 13,
   "metadata": {
    "ExecuteTime": {
     "end_time": "2018-11-15T14:14:50.316422Z",
     "start_time": "2018-11-15T14:14:50.311375Z"
    }
   },
   "outputs": [
    {
     "data": {
      "text/plain": [
       "'name: li bing, age: 25 hehe'"
      ]
     },
     "execution_count": 13,
     "metadata": {},
     "output_type": "execute_result"
    }
   ],
   "source": [
    "# 使用魔法参数\n",
    "args = [',', 'hehe']\n",
    "kwargs = {'name': 'li bing', 'age': 25}\n",
    "\n",
    "'name: {name}{} age: {age} {}'.format(*args, **kwargs)"
   ]
  },
  {
   "cell_type": "markdown",
   "metadata": {},
   "source": [
    "`format(*args, **kwargs)`等价于`format(',', 'hehe', name='li bing', age=25)`。"
   ]
  },
  {
   "cell_type": "code",
   "execution_count": 14,
   "metadata": {
    "ExecuteTime": {
     "end_time": "2018-11-15T14:14:50.322237Z",
     "start_time": "2018-11-15T14:14:50.318170Z"
    }
   },
   "outputs": [
    {
     "data": {
      "text/plain": [
       "'3.14'"
      ]
     },
     "execution_count": 14,
     "metadata": {},
     "output_type": "execute_result"
    }
   ],
   "source": [
    "# 保留小数后两位\n",
    "count = 3.1415926\n",
    "'{:.2f}'.format(count)"
   ]
  },
  {
   "cell_type": "code",
   "execution_count": 15,
   "metadata": {
    "ExecuteTime": {
     "end_time": "2018-11-15T14:14:50.328186Z",
     "start_time": "2018-11-15T14:14:50.323956Z"
    }
   },
   "outputs": [
    {
     "data": {
      "text/plain": [
       "'+3.14'"
      ]
     },
     "execution_count": 15,
     "metadata": {},
     "output_type": "execute_result"
    }
   ],
   "source": [
    "# 带符号保留小数后两位\n",
    "count = +3.1415926\n",
    "'{:+.2f}'.format(count)"
   ]
  },
  {
   "cell_type": "code",
   "execution_count": 16,
   "metadata": {
    "ExecuteTime": {
     "end_time": "2018-11-15T14:14:50.333628Z",
     "start_time": "2018-11-15T14:14:50.329934Z"
    }
   },
   "outputs": [
    {
     "data": {
      "text/plain": [
       "'+1.00'"
      ]
     },
     "execution_count": 16,
     "metadata": {},
     "output_type": "execute_result"
    }
   ],
   "source": [
    "# 带符号保留小数后两位\n",
    "count = 1\n",
    "'{:+.2f}'.format(count)"
   ]
  },
  {
   "cell_type": "code",
   "execution_count": 17,
   "metadata": {
    "ExecuteTime": {
     "end_time": "2018-11-15T14:14:50.339291Z",
     "start_time": "2018-11-15T14:14:50.335352Z"
    }
   },
   "outputs": [
    {
     "data": {
      "text/plain": [
       "'3'"
      ]
     },
     "execution_count": 17,
     "metadata": {},
     "output_type": "execute_result"
    }
   ],
   "source": [
    "# 不保留小数\n",
    "count = 3.1415926\n",
    "'{:.0f}'.format(count)"
   ]
  },
  {
   "cell_type": "code",
   "execution_count": 18,
   "metadata": {
    "ExecuteTime": {
     "end_time": "2018-11-15T14:14:50.344632Z",
     "start_time": "2018-11-15T14:14:50.340809Z"
    }
   },
   "outputs": [
    {
     "data": {
      "text/plain": [
       "'04'"
      ]
     },
     "execution_count": 18,
     "metadata": {},
     "output_type": "execute_result"
    }
   ],
   "source": [
    "# 用0左填充\n",
    "count = 4\n",
    "'{:0>2d}'.format(count)"
   ]
  },
  {
   "cell_type": "code",
   "execution_count": 19,
   "metadata": {
    "ExecuteTime": {
     "end_time": "2018-11-15T14:14:50.349963Z",
     "start_time": "2018-11-15T14:14:50.346285Z"
    }
   },
   "outputs": [
    {
     "data": {
      "text/plain": [
       "'40'"
      ]
     },
     "execution_count": 19,
     "metadata": {},
     "output_type": "execute_result"
    }
   ],
   "source": [
    "# 用0右填充\n",
    "count = 4\n",
    "'{:0<2d}'.format(count)"
   ]
  },
  {
   "cell_type": "code",
   "execution_count": 20,
   "metadata": {
    "ExecuteTime": {
     "end_time": "2018-11-15T14:14:50.355345Z",
     "start_time": "2018-11-15T14:14:50.351575Z"
    }
   },
   "outputs": [
    {
     "data": {
      "text/plain": [
       "'4xx'"
      ]
     },
     "execution_count": 20,
     "metadata": {},
     "output_type": "execute_result"
    }
   ],
   "source": [
    "# 用x右填充\n",
    "count = 4\n",
    "'{:x<3d}'.format(count)"
   ]
  },
  {
   "cell_type": "code",
   "execution_count": 21,
   "metadata": {
    "ExecuteTime": {
     "end_time": "2018-11-15T14:14:50.360702Z",
     "start_time": "2018-11-15T14:14:50.357049Z"
    }
   },
   "outputs": [
    {
     "data": {
      "text/plain": [
       "'x4xx'"
      ]
     },
     "execution_count": 21,
     "metadata": {},
     "output_type": "execute_result"
    }
   ],
   "source": [
    "# 两边填充\n",
    "count = 4\n",
    "'{:x^4}'.format(count)"
   ]
  },
  {
   "cell_type": "code",
   "execution_count": 22,
   "metadata": {
    "ExecuteTime": {
     "end_time": "2018-11-15T14:14:50.366350Z",
     "start_time": "2018-11-15T14:14:50.362444Z"
    }
   },
   "outputs": [
    {
     "data": {
      "text/plain": [
       "'xxx4xxxx'"
      ]
     },
     "execution_count": 22,
     "metadata": {},
     "output_type": "execute_result"
    }
   ],
   "source": [
    "# 两边填充\n",
    "count = 4\n",
    "'{:x^8}'.format(count)"
   ]
  },
  {
   "cell_type": "code",
   "execution_count": 23,
   "metadata": {
    "ExecuteTime": {
     "end_time": "2018-11-15T14:14:50.372070Z",
     "start_time": "2018-11-15T14:14:50.368080Z"
    }
   },
   "outputs": [
    {
     "data": {
      "text/plain": [
       "'xxx4xxx'"
      ]
     },
     "execution_count": 23,
     "metadata": {},
     "output_type": "execute_result"
    }
   ],
   "source": [
    "# 两边填充\n",
    "count = 4\n",
    "'{:x^7}'.format(count)"
   ]
  },
  {
   "cell_type": "code",
   "execution_count": 24,
   "metadata": {
    "ExecuteTime": {
     "end_time": "2018-11-15T14:14:50.380757Z",
     "start_time": "2018-11-15T14:14:50.374109Z"
    }
   },
   "outputs": [
    {
     "data": {
      "text/plain": [
       "'1,000,000'"
      ]
     },
     "execution_count": 24,
     "metadata": {},
     "output_type": "execute_result"
    }
   ],
   "source": [
    "# 以逗号分隔数字\n",
    "count = 1000000\n",
    "'{:,}'.format(count)"
   ]
  },
  {
   "cell_type": "code",
   "execution_count": 25,
   "metadata": {
    "ExecuteTime": {
     "end_time": "2018-11-15T14:14:50.387445Z",
     "start_time": "2018-11-15T14:14:50.383018Z"
    }
   },
   "outputs": [
    {
     "data": {
      "text/plain": [
       "'1.00e+06'"
      ]
     },
     "execution_count": 25,
     "metadata": {},
     "output_type": "execute_result"
    }
   ],
   "source": [
    "# 指数记法\n",
    "count = 1000000\n",
    "'{:.2e}'.format(count)"
   ]
  },
  {
   "cell_type": "code",
   "execution_count": 26,
   "metadata": {
    "ExecuteTime": {
     "end_time": "2018-11-15T14:14:50.392902Z",
     "start_time": "2018-11-15T14:14:50.389259Z"
    }
   },
   "outputs": [
    {
     "data": {
      "text/plain": [
       "'1.000e+06'"
      ]
     },
     "execution_count": 26,
     "metadata": {},
     "output_type": "execute_result"
    }
   ],
   "source": [
    "# 指数记法\n",
    "count = 1000000\n",
    "'{:.3e}'.format(count)"
   ]
  },
  {
   "cell_type": "code",
   "execution_count": 27,
   "metadata": {
    "ExecuteTime": {
     "end_time": "2018-11-15T14:14:50.399509Z",
     "start_time": "2018-11-15T14:14:50.394352Z"
    }
   },
   "outputs": [
    {
     "data": {
      "text/plain": [
       "'25.00%'"
      ]
     },
     "execution_count": 27,
     "metadata": {},
     "output_type": "execute_result"
    }
   ],
   "source": [
    "# 百分号记法\n",
    "count = 0.25\n",
    "'{:.2%}'.format(count)"
   ]
  },
  {
   "cell_type": "code",
   "execution_count": 28,
   "metadata": {
    "ExecuteTime": {
     "end_time": "2018-11-15T14:14:50.406718Z",
     "start_time": "2018-11-15T14:14:50.401572Z"
    }
   },
   "outputs": [
    {
     "data": {
      "text/plain": [
       "'25.000%'"
      ]
     },
     "execution_count": 28,
     "metadata": {},
     "output_type": "execute_result"
    }
   ],
   "source": [
    "# 百分号记法\n",
    "count = 0.25\n",
    "'{:.3%}'.format(count)"
   ]
  },
  {
   "cell_type": "code",
   "execution_count": 29,
   "metadata": {
    "ExecuteTime": {
     "end_time": "2018-11-15T14:14:50.413289Z",
     "start_time": "2018-11-15T14:14:50.409310Z"
    }
   },
   "outputs": [
    {
     "data": {
      "text/plain": [
       "'        10'"
      ]
     },
     "execution_count": 29,
     "metadata": {},
     "output_type": "execute_result"
    }
   ],
   "source": [
    "# 右对齐（默认）\n",
    "count = 10\n",
    "'{:10d}'.format(count)"
   ]
  },
  {
   "cell_type": "code",
   "execution_count": 30,
   "metadata": {
    "ExecuteTime": {
     "end_time": "2018-11-15T14:14:50.419377Z",
     "start_time": "2018-11-15T14:14:50.415137Z"
    }
   },
   "outputs": [
    {
     "data": {
      "text/plain": [
       "'10        '"
      ]
     },
     "execution_count": 30,
     "metadata": {},
     "output_type": "execute_result"
    }
   ],
   "source": [
    "# 左对齐\n",
    "count = 10\n",
    "'{:<10d}'.format(10)"
   ]
  },
  {
   "cell_type": "code",
   "execution_count": 31,
   "metadata": {
    "ExecuteTime": {
     "end_time": "2018-11-15T14:14:50.428315Z",
     "start_time": "2018-11-15T14:14:50.422131Z"
    }
   },
   "outputs": [
    {
     "data": {
      "text/plain": [
       "'        10'"
      ]
     },
     "execution_count": 31,
     "metadata": {},
     "output_type": "execute_result"
    }
   ],
   "source": [
    "# 右对齐\n",
    "count = 10\n",
    "'{:>10d}'.format(10)"
   ]
  },
  {
   "cell_type": "markdown",
   "metadata": {},
   "source": [
    "### Suggestion 2：编写Pythonic代码"
   ]
  },
  {
   "cell_type": "markdown",
   "metadata": {},
   "source": [
    "+ 避免劣化代码\n",
    "   1. 避免只用大小写来区分不同的对象\n",
    "   2。 避免使用容易引起混淆的名称。使用已经存在于上下文的变量名来表示不同类型；误用了内建名称来表示其他含义的名称而使之在当前命名空间被屏蔽等。\n",
    "   3. 不要害怕过长的变量名。有时长变量名是必要的。\n",
    "\n",
    "\n",
    "+ 深入认识Python有助于编写Pythonic代码\n",
    "   1. 全面掌握Python提供的所有特性，包括语言特性和库特性\n",
    "   2. 学习每个Python新版本特性以及它的变化趋势\n",
    "   3. 深入学习业界公认的Pythonic代码，如Flask、gevent和requests等。\n",
    "\n",
    "\n",
    "+ 使用PEP8规范  \n",
    "   Pychecker是Google Python Style Guide推荐的工具；Pylint可以非常方便地通过编辑配置文件实现公司或团队的风格检测；Pyflakes易于集成到vim中。"
   ]
  },
  {
   "cell_type": "markdown",
   "metadata": {},
   "source": [
    "### Suggestion3：理解Python与C的不同之处"
   ]
  },
  {
   "cell_type": "markdown",
   "metadata": {},
   "source": [
    "+ 缩进与{}\n",
    "\n",
    "\n",
    "+ ''与\"\"  \n",
    "   Python：二者没有明显区别  \n",
    "   C：''代表一个字符，实际对应于编译器所采用的字符集中的一个整数值。如ASCII中，'a'与97对应。而\"\"则表示字符串，默认以'\\0'结尾。\n",
    "   \n",
    "\n",
    "+ 三元操作符  \n",
    "   C中`?X:y`在Python中等价于**`X if C else Y`**\n",
    "```python\n",
    "X = 0\n",
    "Y = -2\n",
    "print(X if X < Y else Y)\n",
    "```\n",
    "\n",
    "+ C中的`switch...case`  \n",
    "```python\n",
    "if condition1:\n",
    "    pass\n",
    "elif condition2:\n",
    "    pass\n",
    "elif condition3:\n",
    "    pass\n",
    "else:\n",
    "    pass\n",
    "```\n",
    "```python\n",
    "def f(x):\n",
    "    return {condition1: 'xxx',\n",
    "            condition2: 'xxxx',\n",
    "            condition3: 'xxxxx',\n",
    "            }.get(x, 'xxxxxx')\n",
    "```"
   ]
  },
  {
   "cell_type": "markdown",
   "metadata": {},
   "source": [
    "### Suggestion4：注释"
   ]
  },
  {
   "cell_type": "markdown",
   "metadata": {},
   "source": [
    "+ 注释与代码要有一定的距离（至少两个空格）。  \n",
    "   `X = 3  # zhishi`\n",
    "\n",
    "\n",
    "+ 给外部可访问的函数和方法（无论是否简单）添加文档注释。注释要清楚描述方法/函数的功能，并对参数、返回值以及可能发生的异常进行说明，使得外部调用的人员仅仅看docstring就能正确使用。\n",
    "\n",
    "\n",
    "+ 推荐在文件头中包含copyright申明、模块描述等，如有必要可以考虑加入作者信息以及变更记录。\n",
    "\n",
    "\n",
    "+ 注释应该是用来解释代码的功能、原因以及想法的，而不是对代码本身的解释。\n",
    "\n",
    "\n",
    "+ 对于不再需要的代码，应该将其删除，而不是将其注释掉。\n",
    "\n",
    "```python\n",
    "\"\"\"\n",
    "Licensed Materials xxxxx\n",
    "------------------------\n",
    "File name: xx.py\n",
    "Description: xxxx\n",
    "\n",
    "Author: name\n",
    "Change Activity:\n",
    "    xxxx\n",
    "-----\n",
    "\"\"\"\n",
    "```"
   ]
  },
  {
   "cell_type": "code",
   "execution_count": 32,
   "metadata": {
    "ExecuteTime": {
     "end_time": "2018-11-15T14:14:50.436303Z",
     "start_time": "2018-11-15T14:14:50.430772Z"
    },
    "collapsed": true
   },
   "outputs": [],
   "source": [
    "# point 2\n",
    "def func_name(param1, param2):\n",
    "    \"\"\"Describe what this func does.\n",
    "\n",
    "    Args:\n",
    "        param1: param1 type, what is this param used for.\n",
    "        param2: str:string, string to find.\n",
    "\n",
    "    Returns:\n",
    "        return type, return value, ..\n",
    "\n",
    "    Rasies:\n",
    "        IOError: ...\n",
    "    \"\"\"\n",
    "    pass"
   ]
  },
  {
   "cell_type": "markdown",
   "metadata": {},
   "source": [
    "### Suggestion5：使用空格"
   ]
  },
  {
   "cell_type": "markdown",
   "metadata": {},
   "source": [
    "+ 在一组代码表达完一个完整的思路之后，应该用空白进行间隔。如每个函数之间，导入申明、变量赋值。有关联的代码还是需要保持紧凑、连续。\n",
    "\n",
    "\n",
    "+ 尽量保持上下文语义的易理解性。如函数调用函数，尽量将它们放在一起，最好调用者在上，被调用者在下。\n",
    "\n",
    "\n",
    "+ 避免过长的代码行，不超过80.\n",
    "\n",
    "\n",
    "+ 不要为了保持水平对齐而使用多余的空格。\n",
    "\n",
    "\n",
    "+ 空格的使用要能够在需要强调的时候示警读者，在疏松关系的实体间起到分隔作用，而在具有亲密关系的时候不要使用空格。  \n",
    "   1. 二元运算符（=, ==, <, >, !=, <>, <=, >=, in, not in, is, is not, and, not, or的左右都应有空格。\n",
    "   2. 逗号和分号前不要使用空格。\n",
    "   3. 强调前面的操作符的时候使用空格，如`b*b + a*c`。"
   ]
  },
  {
   "cell_type": "markdown",
   "metadata": {},
   "source": [
    "### Suggestion6：编写函数的原则"
   ]
  },
  {
   "cell_type": "markdown",
   "metadata": {},
   "source": [
    "+ 函数设计要尽量短小，嵌套层次不宜过深。避免使用长函数。函数中使用的`if`、`else`、`while`、`for`等循环语句，尽量不要嵌套过深，最好能控制在3层以内。\n",
    "\n",
    "\n",
    "+ 函数申明应该做到合理、简单、易于使用。函数名能够反映其大体功能，参数的设计也应该简单明了，参数个数不宜过多。\n",
    "\n",
    "\n",
    "+ 函数参数的设计应考虑向下兼容。\n",
    "\n",
    "\n",
    "+ 一个函数只做一件事，尽量保证函数语句粒度的一致性。\n",
    "\n",
    "\n",
    "+ 不要在函数中定义可变对象作为默认值。\n",
    "\n",
    "\n",
    "+ 使用异常值替换返回错误。\n",
    "\n",
    "\n",
    "+ 保证通过单元测试。"
   ]
  },
  {
   "cell_type": "markdown",
   "metadata": {},
   "source": [
    "### Suggestion7：将常量集中到一个文件"
   ]
  },
  {
   "cell_type": "markdown",
   "metadata": {},
   "source": [
    "使用常量的两种方式：\n",
    "+ 通过命名风格来提醒该变量代表的意义为常量，如常量名所有字母大写，用下划线连接各个单词，MAX_SIZE、TOTAL等。但这种方式并没有实现真正的常量，其对应的值仍然可以改变，这只是一种约定俗成的风格。\n",
    "\n",
    "\n",
    "+ 通过自定义的类来实现常量功能。这要求符合“命名全部为大写”和“值一旦绑定便不可修改”这两个条件。\n",
    "\n",
    "下面是一种常见的解决方法，它通过对常量对应的值进行修改时或命名不符合规范时抛出异常来满足以上常量的两个条件。"
   ]
  },
  {
   "cell_type": "markdown",
   "metadata": {
    "ExecuteTime": {
     "end_time": "2018-11-15T14:16:37.988499Z",
     "start_time": "2018-11-15T14:16:37.945181Z"
    }
   },
   "source": [
    "```python\n",
    "class _const(object):\n",
    "    class ConstError(TypeError):\n",
    "        pass\n",
    "\n",
    "    class ConstCaseError(ConstError):\n",
    "        pass\n",
    "\n",
    "    def __setattr__(self, name, value):\n",
    "        if name in self.__dict__:\n",
    "            raise self.ConstError(\"Can't change const.{}\".format(name))\n",
    "\n",
    "        if not name.isupper():\n",
    "            raise self.ConstCaseError(\n",
    "                \"Can't name {} is not all uppercase\".format(name))\n",
    "\n",
    "        self.__dict__[name] = value\n",
    "\n",
    "\n",
    "import sys\n",
    "sys.modules[__name__] = _const()\n",
    "```"
   ]
  },
  {
   "cell_type": "markdown",
   "metadata": {},
   "source": [
    "上述代码对应的模块名为const.py，使用的时候只需要`import const`，便可以直接定义常量了。\n",
    "```python\n",
    "import const\n",
    "const.COMPANY = 'LI'\n",
    "```"
   ]
  },
  {
   "cell_type": "code",
   "execution_count": 1,
   "metadata": {
    "ExecuteTime": {
     "end_time": "2018-11-15T14:20:54.851822Z",
     "start_time": "2018-11-15T14:20:54.846870Z"
    },
    "collapsed": true
   },
   "outputs": [],
   "source": [
    "import const\n",
    "const.COMPANY = \"LI\""
   ]
  },
  {
   "cell_type": "code",
   "execution_count": 2,
   "metadata": {
    "ExecuteTime": {
     "end_time": "2018-11-15T14:21:32.097313Z",
     "start_time": "2018-11-15T14:21:32.036897Z"
    }
   },
   "outputs": [
    {
     "ename": "ConstError",
     "evalue": "Can't change const.COMPANY",
     "output_type": "error",
     "traceback": [
      "\u001b[0;31m---------------------------------------------------------------------------\u001b[0m",
      "\u001b[0;31mConstError\u001b[0m                                Traceback (most recent call last)",
      "\u001b[0;32m<ipython-input-2-472d03b6a4d1>\u001b[0m in \u001b[0;36m<module>\u001b[0;34m()\u001b[0m\n\u001b[0;32m----> 1\u001b[0;31m \u001b[0mconst\u001b[0m\u001b[0;34m.\u001b[0m\u001b[0mCOMPANY\u001b[0m \u001b[0;34m=\u001b[0m \u001b[0;34m'BING'\u001b[0m\u001b[0;34m\u001b[0m\u001b[0m\n\u001b[0m",
      "\u001b[0;32m~/Codes/notetaking/const.py\u001b[0m in \u001b[0;36m__setattr__\u001b[0;34m(self, name, value)\u001b[0m\n\u001b[1;32m      8\u001b[0m     \u001b[0;32mdef\u001b[0m \u001b[0m__setattr__\u001b[0m\u001b[0;34m(\u001b[0m\u001b[0mself\u001b[0m\u001b[0;34m,\u001b[0m \u001b[0mname\u001b[0m\u001b[0;34m,\u001b[0m \u001b[0mvalue\u001b[0m\u001b[0;34m)\u001b[0m\u001b[0;34m:\u001b[0m\u001b[0;34m\u001b[0m\u001b[0m\n\u001b[1;32m      9\u001b[0m         \u001b[0;32mif\u001b[0m \u001b[0mname\u001b[0m \u001b[0;32min\u001b[0m \u001b[0mself\u001b[0m\u001b[0;34m.\u001b[0m\u001b[0m__dict__\u001b[0m\u001b[0;34m:\u001b[0m\u001b[0;34m\u001b[0m\u001b[0m\n\u001b[0;32m---> 10\u001b[0;31m             \u001b[0;32mraise\u001b[0m \u001b[0mself\u001b[0m\u001b[0;34m.\u001b[0m\u001b[0mConstError\u001b[0m\u001b[0;34m(\u001b[0m\u001b[0;34m\"Can't change const.{}\"\u001b[0m\u001b[0;34m.\u001b[0m\u001b[0mformat\u001b[0m\u001b[0;34m(\u001b[0m\u001b[0mname\u001b[0m\u001b[0;34m)\u001b[0m\u001b[0;34m)\u001b[0m\u001b[0;34m\u001b[0m\u001b[0m\n\u001b[0m\u001b[1;32m     11\u001b[0m \u001b[0;34m\u001b[0m\u001b[0m\n\u001b[1;32m     12\u001b[0m         \u001b[0;32mif\u001b[0m \u001b[0;32mnot\u001b[0m \u001b[0mname\u001b[0m\u001b[0;34m.\u001b[0m\u001b[0misupper\u001b[0m\u001b[0;34m(\u001b[0m\u001b[0;34m)\u001b[0m\u001b[0;34m:\u001b[0m\u001b[0;34m\u001b[0m\u001b[0m\n",
      "\u001b[0;31mConstError\u001b[0m: Can't change const.COMPANY"
     ]
    }
   ],
   "source": [
    "# 代码中的常量一旦赋值不可在改变\n",
    "const.COMPANY = 'BING'"
   ]
  },
  {
   "cell_type": "code",
   "execution_count": null,
   "metadata": {
    "collapsed": true
   },
   "outputs": [],
   "source": []
  }
 ],
 "metadata": {
  "kernelspec": {
   "display_name": "Python [conda env:tf]",
   "language": "python",
   "name": "conda-env-tf-py"
  },
  "language_info": {
   "codemirror_mode": {
    "name": "ipython",
    "version": 3
   },
   "file_extension": ".py",
   "mimetype": "text/x-python",
   "name": "python",
   "nbconvert_exporter": "python",
   "pygments_lexer": "ipython3",
   "version": "3.6.2"
  },
  "toc": {
   "base_numbering": 1,
   "nav_menu": {},
   "number_sections": true,
   "sideBar": true,
   "skip_h1_title": false,
   "title_cell": "Table of Contents",
   "title_sidebar": "Contents",
   "toc_cell": false,
   "toc_position": {},
   "toc_section_display": true,
   "toc_window_display": false
  },
  "varInspector": {
   "cols": {
    "lenName": 16,
    "lenType": 16,
    "lenVar": 40
   },
   "kernels_config": {
    "python": {
     "delete_cmd_postfix": "",
     "delete_cmd_prefix": "del ",
     "library": "var_list.py",
     "varRefreshCmd": "print(var_dic_list())"
    },
    "r": {
     "delete_cmd_postfix": ") ",
     "delete_cmd_prefix": "rm(",
     "library": "var_list.r",
     "varRefreshCmd": "cat(var_dic_list()) "
    }
   },
   "types_to_exclude": [
    "module",
    "function",
    "builtin_function_or_method",
    "instance",
    "_Feature"
   ],
   "window_display": false
  }
 },
 "nbformat": 4,
 "nbformat_minor": 2
}
