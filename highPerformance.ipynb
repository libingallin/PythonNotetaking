{
 "cells": [
  {
   "cell_type": "markdown",
   "metadata": {},
   "source": [
    "# 高性能的Python"
   ]
  },
  {
   "cell_type": "markdown",
   "metadata": {},
   "source": [
    "对于**性能**关键应用，总应该检查两件事：\n",
    "1. 使用正确的范型\n",
    "2. 使用正确的高性能库"
   ]
  },
  {
   "cell_type": "markdown",
   "metadata": {},
   "source": [
    "许多**高性能库**可以加速Python代码的执行：\n",
    "+ Cython， 用于合并Python和C语言静态编译范型\n",
    "+ IPython.parallel，用于在本地或者集群上并行执行代码/函数\n",
    "+ numexpr，用于快速计算\n",
    "+ multiprocessing，Python内建的（本地）并行处理模块\n",
    "+ Numba，用于为CPU动态编译Python代码\n",
    "+ NumbaPro，用于为多核CPU和GPU动态编译Python代码"
   ]
  },
  {
   "cell_type": "markdown",
   "metadata": {},
   "source": [
    "主要内容是比较相同算法的不同实现。定义一个方便的函数，可以系统地比较在相同或者不同数据集上执行不同函数的性能。"
   ]
  },
  {
   "cell_type": "code",
   "execution_count": 1,
   "metadata": {
    "collapsed": true
   },
   "outputs": [],
   "source": [
    "from timeit import repeat\n",
    "def perf_comp_data(func_list, data_list, rep=3, number=1):\n",
    "    '''Function to compare the comperfance of different functions.\n",
    "    Args:\n",
    "    func_list: list\n",
    "        list with function names as strings\n",
    "    data_list: list\n",
    "        list with data set names as strings\n",
    "    rep: int\n",
    "        number of repetitions of the while comparsion\n",
    "    number: int\n",
    "        number of ececutions for every function'''\n",
    "    res_list = {}\n",
    "    for name in enumerate(func_list):\n",
    "        stmt = name[1] + '(' + data_list[name[0]] + ')'  # function to test\n",
    "        setup = \"from __main__ import \" + name[1] + ',' + data_list[name[0]]  # setup code\n",
    "        results = repeat(stmt=stmt, setup=setup, repeat=rep, number=number)  # a list, element is execution time per repetition\n",
    "        print results\n",
    "        res_list[name[1]] = sum(results) / rep  # mean\n",
    "        # print res_list\n",
    "    res_sort = sorted(res_list.items(), key=lambda p: p[1])  # sorted by time\n",
    "    print res_sort\n",
    "    for item in res_sort:\n",
    "        rel = item[1] / res_sort[0][1]  # relative\n",
    "        print 'function: ' + item[0] + ', av. time sec: %9.5f, ' % item[1] + 'relative: %6.1f' % rel"
   ]
  },
  {
   "cell_type": "markdown",
   "metadata": {},
   "source": [
    ">可以把所有的print都注释掉。\n",
    "\n",
    "> timeit.repeat(stmt='pass', setup='pass', timer=<default timer>, repeat=3, number=1000000)创建一个Timer实例。\n",
    "\n",
    "> &emsp;&emsp;stmt: 需要测量的语句或函数（要执行的代码）\n",
    "\n",
    "> &emsp;&emsp;setup: 初始化代码或构建环境的导入语句（执行代码的准备工作，不计入时间，一般是import之类的）\n",
    "\n",
    "> &emsp;&emsp;timer: 计时函数，平台相关。Windows: time.clock()  Linux: time.time()\n",
    "\n",
    "> &emsp;&emsp;repeat: specifies how many times to call tiemit.timeit()，重复执行次数\n",
    "\n",
    "> &emsp;&emsp;number: specifies the number argument for timeit.timeit(),每一次测量中语句被执行的次数（要执行代码多少遍）\n",
    "\n",
    "> &emsp;&emsp;Returns: 返回一个列表，表示执行每遍的时间（元素个数=repeat）。可以据此取min、max、mean，因为测得的时间是系统经过的时间，有可能被  正在运行的其他程序影响，所以min可能最有用。本例中取的是mean。"
   ]
  },
  {
   "cell_type": "markdown",
   "metadata": {},
   "source": [
    "## 1 Python范型与性能"
   ]
  },
  {
   "cell_type": "markdown",
   "metadata": {},
   "source": [
    "大数据集上的数值计算相当费时。举个例子，我们想要在包含50万个数值的数组上求取某个复杂数学表达式:\n",
    "\n",
    "$$y = \\sqrt{|cos(x)|}+sin(2+3*x)$$\n",
    "\n",
    "每次计算都会带来一定的计算负担，除此之外没有任何的特殊含义。\n"
   ]
  },
  {
   "cell_type": "markdown",
   "metadata": {},
   "source": [
    "Python函数："
   ]
  },
  {
   "cell_type": "code",
   "execution_count": 2,
   "metadata": {
    "collapsed": true
   },
   "outputs": [],
   "source": [
    "from math import *\n",
    "def f(x):\n",
    "    return abs(cos(x)) ** .5 + sin(4+3*x)"
   ]
  },
  {
   "cell_type": "markdown",
   "metadata": {},
   "source": [
    "使用`range`函数高效地生成一个包含50万个数值的列表对象："
   ]
  },
  {
   "cell_type": "code",
   "execution_count": 3,
   "metadata": {
    "collapsed": true
   },
   "outputs": [],
   "source": [
    "a_list = range(500000)"
   ]
  },
  {
   "cell_type": "markdown",
   "metadata": {},
   "source": [
    "第一个实现，函数`f1()`在整个数据集上循环，在结果列表对象中附加单独函数求职结果：**（1 包含显式循环的标准Python函数）**"
   ]
  },
  {
   "cell_type": "code",
   "execution_count": 4,
   "metadata": {
    "collapsed": true
   },
   "outputs": [],
   "source": [
    "def f1(a):  # loop in the data set\n",
    "    res = []  \n",
    "    for x in a:\n",
    "        res.append(f(x))\n",
    "    return res"
   ]
  },
  {
   "cell_type": "markdown",
   "metadata": {},
   "source": [
    "第二种实现，使用迭代：**（2 包含隐含循环的迭代子方法）**"
   ]
  },
  {
   "cell_type": "code",
   "execution_count": 5,
   "metadata": {
    "collapsed": true
   },
   "outputs": [],
   "source": [
    "def f2(a):  # iteration\n",
    "    return [f(x) for x in a]"
   ]
  },
  {
   "cell_type": "markdown",
   "metadata": {},
   "source": [
    "第三种实现，使用`eval`函数：**（3 包含隐含循环、使用eval的迭代子方法）**"
   ]
  },
  {
   "cell_type": "code",
   "execution_count": 6,
   "metadata": {
    "collapsed": true
   },
   "outputs": [],
   "source": [
    "def f3(a):  # function: eval\n",
    "    ex = 'abs(cos(x)) ** .5 + sin(4+3*x)'\n",
    "    return [eval(ex) for x in a]"
   ]
  },
  {
   "cell_type": "markdown",
   "metadata": {},
   "source": [
    "第四种实现，使用Numpy的向量化技术。数据是一个ndarry对象而不是list。没有循环，所以有发生在Numpy级别而不是Python级别：**（4 Numpy向量化技术）**"
   ]
  },
  {
   "cell_type": "code",
   "execution_count": 7,
   "metadata": {
    "collapsed": true
   },
   "outputs": [],
   "source": [
    "import numpy as np\n",
    "a_np = np.array(a_list)\n",
    "def f4(a):\n",
    "    return (np.abs(np.cos(a))) ** .5 + np.sin(4+3*a) # element-wise"
   ]
  },
  {
   "cell_type": "markdown",
   "metadata": {},
   "source": [
    "第五种实现，是使用专门的**numexpr库**来求数值表达式的值，这个库内建了**多线程执行支持**：**（5 numexpr单线程实现）**"
   ]
  },
  {
   "cell_type": "code",
   "execution_count": 8,
   "metadata": {
    "collapsed": true
   },
   "outputs": [],
   "source": [
    "import numexpr as ne\n",
    "def f5(a):\n",
    "    ex =  'abs(cos(a)) ** .5 + sin(4+3*a)'\n",
    "    ne.set_num_threads(1)  # single-thread\n",
    "    return ne.evaluate(ex)"
   ]
  },
  {
   "cell_type": "markdown",
   "metadata": {},
   "source": [
    "> ne.set_num_threads(nthreads) ->Set a number of threads to be used in operations. Returns the previous setting for the number of threads.\n",
    ">ne.evaluate(\\*, \\**) ->Evaluate a simple array expression element-wise, using the new iterator."
   ]
  },
  {
   "cell_type": "markdown",
   "metadata": {},
   "source": [
    "**（6 numexpr多线程实现）**"
   ]
  },
  {
   "cell_type": "code",
   "execution_count": 9,
   "metadata": {
    "collapsed": true
   },
   "outputs": [],
   "source": [
    "def f6(a):  # multi-thread\n",
    "    ex =  'abs(cos(a)) ** .5 + sin(4+3*a)'\n",
    "    ne.set_num_threads(16)\n",
    "    return ne.evaluate(ex)"
   ]
  },
  {
   "cell_type": "markdown",
   "metadata": {},
   "source": [
    "使用`%%time`(给出cell的代码运行一次所花费的时间)计算总执行时间"
   ]
  },
  {
   "cell_type": "code",
   "execution_count": 10,
   "metadata": {},
   "outputs": [
    {
     "name": "stdout",
     "output_type": "stream",
     "text": [
      "Wall time: 7.46 s\n"
     ]
    }
   ],
   "source": [
    "%%time\n",
    "r1 = f1(a_list)\n",
    "r2 = f2(a_list)\n",
    "r3 = f3(a_list)\n",
    "r4 = f4(a_np)\n",
    "r5 = f5(a_np)\n",
    "r6 = f6(a_np)"
   ]
  },
  {
   "cell_type": "code",
   "execution_count": 11,
   "metadata": {},
   "outputs": [
    {
     "data": {
      "text/plain": [
       "True"
      ]
     },
     "execution_count": 11,
     "metadata": {},
     "output_type": "execute_result"
    }
   ],
   "source": [
    "np.allclose(r1, r3)"
   ]
  },
  {
   "cell_type": "code",
   "execution_count": 12,
   "metadata": {},
   "outputs": [
    {
     "data": {
      "text/plain": [
       "True"
      ]
     },
     "execution_count": 12,
     "metadata": {},
     "output_type": "execute_result"
    }
   ],
   "source": [
    "np.allclose(r2, r5)"
   ]
  },
  {
   "cell_type": "markdown",
   "metadata": {},
   "source": [
    "> 可以用Numpy函数allclose可以轻松地检查两个（类）ndarray对象是否包含相同的数据。"
   ]
  },
  {
   "cell_type": "markdown",
   "metadata": {},
   "source": [
    "不同实现执行速度的对比："
   ]
  },
  {
   "cell_type": "code",
   "execution_count": 13,
   "metadata": {
    "scrolled": true
   },
   "outputs": [
    {
     "name": "stdout",
     "output_type": "stream",
     "text": [
      "[0.30793639506173065, 0.2870289382716038, 0.28481422222222363]\n",
      "[0.2719648395061718, 0.2627022222222237, 0.2629760000000019]\n",
      "[6.856801580246916, 6.7821368888888856, 6.793328592592594]\n",
      "[0.03694103703703888, 0.03617382716049633, 0.03631209876543551]\n",
      "[0.01396424691358078, 0.009987950617286856, 0.009987555555554195]\n",
      "[0.007250567901230909, 0.008183308641974918, 0.006720395061726947]\n",
      "[('f6', 0.007384757201644258), ('f5', 0.011313251028807278), ('f4', 0.03647565432099024), ('f2', 0.26588102057613244), ('f1', 0.2932598518518527), ('f3', 6.810755687242799)]\n",
      "function: f6, av. time sec:   0.00738, relative:    1.0\n",
      "function: f5, av. time sec:   0.01131, relative:    1.5\n",
      "function: f4, av. time sec:   0.03648, relative:    4.9\n",
      "function: f2, av. time sec:   0.26588, relative:   36.0\n",
      "function: f1, av. time sec:   0.29326, relative:   39.7\n",
      "function: f3, av. time sec:   6.81076, relative:  922.3\n"
     ]
    }
   ],
   "source": [
    "func_list = ['f1', 'f2', 'f3', 'f4', 'f5', 'f6']\n",
    "data_list = ['a_list', 'a_list', 'a_list', 'a_np', 'a_np', 'a_np']\n",
    "perf_comp_data(func_list=func_list, data_list=data_list)"
   ]
  },
  {
   "cell_type": "markdown",
   "metadata": {},
   "source": [
    "**Conclusion**\n",
    "\n",
    "胜者：多线程`numexpr`实现`f6`。当然，它的速度优势取决于可用核心数量。向量化`numpy`版本`f4`慢于`f5`。纯`Python`实现`f1`和`f2`比胜者慢几十倍。`f3`是最慢的版本，因为对这样大量的求值运算使用`eval`会造成巨大的负担。在`numexpr`的例子中，基于字符串的表达式计算运行一次之后被编译供以后使用；而使用`Python eval`函数，这样一操作要进行50万次。**`numexpr`比`numpy`要快快。在执行大量预算和对大数组进行操作时一定要使用`numexpr`。**"
   ]
  },
  {
   "cell_type": "markdown",
   "metadata": {},
   "source": [
    "## 2 内存布局与性能"
   ]
  },
  {
   "cell_type": "markdown",
   "metadata": {},
   "source": [
    "numpy可以为每个ndarray对象指定所谓的dtype，如np.int32或者f8。numpy还允许在初始化ndarray对象时从两种不同的**内存布局（C或Fortran）**中选择。\n",
    "根据对象结构，某种布局可能比另一种布局更有优势。"
   ]
  },
  {
   "cell_type": "code",
   "execution_count": 14,
   "metadata": {},
   "outputs": [
    {
     "data": {
      "text/plain": [
       "array([[ 0.,  0.,  0.],\n",
       "       [ 0.,  0.,  0.],\n",
       "       [ 0.,  0.,  0.]])"
      ]
     },
     "execution_count": 14,
     "metadata": {},
     "output_type": "execute_result"
    }
   ],
   "source": [
    "import numpy as np\n",
    "np.zeros((3, 3), dtype=np.float64, order='C')"
   ]
  },
  {
   "cell_type": "markdown",
   "metadata": {},
   "source": [
    "> 初始化numpy ndarray对象的方式可能（根据数组的大小）对这些数组的操作性能产生显著的影响。"
   ]
  },
  {
   "cell_type": "markdown",
   "metadata": {},
   "source": [
    "**ndarray对象的初始化(通过`np.zeros`或`np.array`)输入参数**\n",
    "\n",
    "+ *shape*: &emsp;&emsp;整数(int)。整数序列或者引用另一个numpy.ndarray\n",
    "+ *dtype(optional)*:&emsp;numpy.dtype--用于numpy.ndarray对象的numpy特定数据类型\n",
    "+ *order(optional)*:&emsp;元素在内存中存储的顺序：C表示类似C(行优先)(default)，F表示类似Fortran(列优先)"
   ]
  },
  {
   "cell_type": "code",
   "execution_count": 15,
   "metadata": {
    "collapsed": true
   },
   "outputs": [],
   "source": [
    "c = np.array([[1,1, 1], [2, 2, 2], [3, 3, 3]], order='C')"
   ]
  },
  {
   "cell_type": "markdown",
   "metadata": {},
   "source": [
    "> 本例中，1， 2， 3相邻存储。"
   ]
  },
  {
   "cell_type": "code",
   "execution_count": 16,
   "metadata": {
    "collapsed": true
   },
   "outputs": [],
   "source": [
    "f = np.array([[1, 1, 1], [2, 2, 2], [3, 3, 3]], order='F')"
   ]
  },
  {
   "cell_type": "markdown",
   "metadata": {},
   "source": [
    "> 本例中，数据存储方式是1， 2， 3在每列中相邻存储。"
   ]
  },
  {
   "cell_type": "markdown",
   "metadata": {},
   "source": [
    "**看看内存布局在数组很大时可能带来什么差异：**"
   ]
  },
  {
   "cell_type": "code",
   "execution_count": 17,
   "metadata": {
    "collapsed": true
   },
   "outputs": [],
   "source": [
    "x = np.random.standard_normal((3, 1500000))\n",
    "c = np.array(x, order='C')\n",
    "f = np.array(x, order='F')\n",
    "x = 0.0"
   ]
  },
  {
   "cell_type": "markdown",
   "metadata": {},
   "source": [
    "类似C的布局"
   ]
  },
  {
   "cell_type": "code",
   "execution_count": 18,
   "metadata": {},
   "outputs": [
    {
     "name": "stdout",
     "output_type": "stream",
     "text": [
      "100 loops, best of 3: 10.4 ms per loop\n"
     ]
    }
   ],
   "source": [
    "# sum(axis=0)\n",
    "%timeit c.sum(axis=0)"
   ]
  },
  {
   "cell_type": "code",
   "execution_count": 19,
   "metadata": {},
   "outputs": [
    {
     "name": "stdout",
     "output_type": "stream",
     "text": [
      "100 loops, best of 3: 5.63 ms per loop\n"
     ]
    }
   ],
   "source": [
    "# sum(axis=1)\n",
    "%timeit c.sum(axis=1)"
   ]
  },
  {
   "cell_type": "markdown",
   "metadata": {},
   "source": [
    "> 在第一个轴上计算比在第二个轴上慢了近一倍。"
   ]
  },
  {
   "cell_type": "code",
   "execution_count": 20,
   "metadata": {},
   "outputs": [
    {
     "name": "stdout",
     "output_type": "stream",
     "text": [
      "10 loops, best of 3: 48.1 ms per loop\n"
     ]
    }
   ],
   "source": [
    "# standard deviation(axis=0)\n",
    "%timeit c.std(axis=0)"
   ]
  },
  {
   "cell_type": "code",
   "execution_count": 21,
   "metadata": {},
   "outputs": [
    {
     "name": "stdout",
     "output_type": "stream",
     "text": [
      "10 loops, best of 3: 30.4 ms per loop\n"
     ]
    }
   ],
   "source": [
    "# standard deviation(axis=0)\n",
    "%timeit c.std(axis=1)"
   ]
  },
  {
   "cell_type": "markdown",
   "metadata": {},
   "source": [
    "类似Fortran的布局"
   ]
  },
  {
   "cell_type": "code",
   "execution_count": 22,
   "metadata": {},
   "outputs": [
    {
     "name": "stdout",
     "output_type": "stream",
     "text": [
      "10 loops, best of 3: 19.5 ms per loop\n"
     ]
    }
   ],
   "source": [
    "# sum(axis=0)\n",
    "%timeit f.sum(axis=0)"
   ]
  },
  {
   "cell_type": "code",
   "execution_count": 23,
   "metadata": {},
   "outputs": [
    {
     "name": "stdout",
     "output_type": "stream",
     "text": [
      "10 loops, best of 3: 22.9 ms per loop\n"
     ]
    }
   ],
   "source": [
    "# sum(axis=1)\n",
    "%timeit f.sum(axis=1)"
   ]
  },
  {
   "cell_type": "markdown",
   "metadata": {},
   "source": [
    "> 尽管和其他布局相比绝对更慢，但是两个轴的相对差值并不太大"
   ]
  },
  {
   "cell_type": "code",
   "execution_count": 24,
   "metadata": {},
   "outputs": [
    {
     "name": "stdout",
     "output_type": "stream",
     "text": [
      "10 loops, best of 3: 83.1 ms per loop\n"
     ]
    }
   ],
   "source": [
    "# standard deviation(axis=0)\n",
    "%timeit f.std(axis=0)"
   ]
  },
  {
   "cell_type": "code",
   "execution_count": 25,
   "metadata": {},
   "outputs": [
    {
     "name": "stdout",
     "output_type": "stream",
     "text": [
      "10 loops, best of 3: 73.1 ms per loop\n"
     ]
    }
   ],
   "source": [
    "# standard deviation(axis=1)\n",
    "%timeit f.std(axis=1)"
   ]
  },
  {
   "cell_type": "markdown",
   "metadata": {},
   "source": [
    "> 同样与类似C的布局相比，这种布局的性能更差。两个轴之间的差距很小，但是不像其他布局那样显著。"
   ]
  },
  {
   "cell_type": "markdown",
   "metadata": {},
   "source": [
    "**Conclusion**\n",
    "\n",
    "一般来说，**类似C的布局表现更好**——这也是numpy ndarray对象没有指定的时候默认使用这种内存布局额原因。"
   ]
  },
  {
   "cell_type": "markdown",
   "metadata": {
    "collapsed": true
   },
   "source": [
    "## 3 并行计算"
   ]
  },
  {
   "cell_type": "markdown",
   "metadata": {},
   "source": [
    "pass"
   ]
  },
  {
   "cell_type": "markdown",
   "metadata": {},
   "source": [
    "## 4 多处理"
   ]
  },
  {
   "cell_type": "markdown",
   "metadata": {},
   "source": [
    "**在本地并行执行代码**，这是**`Python multiprocessing`模块**用武之地"
   ]
  },
  {
   "cell_type": "markdown",
   "metadata": {},
   "source": [
    "**几何布朗运动(Geometric Brownian Motion, GBM)**\n",
    "> 在连续时间情况下的随机过程，其中随机变量的对数遵循布朗运动。在金融中，用来在布莱克·舒尔斯定价模型中模仿股票价格。\n",
    "> A随机过程$S_t$在满足以下随机微分方程(SDE)的情况下被认为遵循几何布朗运动：\n",
    "\n",
    "> $$dS_t = \\mu S_td_t + \\sigma S_tdW_t$$\n",
    "\n",
    ">&emsp;&emsp;&emsp;&emsp;$W_t$：维纳过程或者说是布朗运动&emsp;&emsp;$\\mu$：漂移百分比(常量)&emsp;&emsp; $\\sigma$：波动百分比(常量)\n",
    "\n",
    "> 给定初始值$S_0$，根据伊藤积分，有如下解：\n",
    "> $$S_t = S_0{\\rm e}^{(\\mu - 0.5\\sigma^2)t+\\sigma W_t}$$\n",
    "\n",
    "**布朗运动(Brownian Motion)**\n",
    "> 微小粒子表现出的无规则运动。由于颗粒受到液体分子碰撞的不平衡力作用而引起的。\n",
    "\n",
    "> 大物体(如线度0.01mm)将从各方面受到运动原子的冲击，打击非常频繁，概率定律使之相互补偿，故他们不移动。微小粒子受到的打击太少，以至于无法补偿。\n",
    "\n",
    "> 布朗运动是液体分子处于不停顿无规则热运动的宏观表现。"
   ]
  },
  {
   "cell_type": "markdown",
   "metadata": {
    "collapsed": true
   },
   "source": [
    "模仿几何布朗运动"
   ]
  },
  {
   "cell_type": "code",
   "execution_count": 26,
   "metadata": {
    "collapsed": true
   },
   "outputs": [],
   "source": [
    "import math\n",
    "import numpy as np\n",
    "import multiprocessing as mp\n",
    "import matplotlib.pyplot as plt\n",
    "%matplotlib inline"
   ]
  },
  {
   "cell_type": "code",
   "execution_count": 27,
   "metadata": {
    "collapsed": true
   },
   "outputs": [],
   "source": [
    "def simulateGeometricBrownianMotion(p):\n",
    "    M, I = p  # time steps, paths\n",
    "    S0 = 100; r = .05; sigma = .2; T = 1.0   # model parameters\n",
    "    dt =  T / M\n",
    "    paths = np.zeros((M+1, I))\n",
    "    paths[0] = S0\n",
    "    for t in range(1, M+1):\n",
    "        paths[t] = paths[t-1] * np.exp((r-.5*sigma**2)*dt + sigma*math.sqrt(dt)*np.random.standard_normal(I))\n",
    "    return paths"
   ]
  },
  {
   "cell_type": "code",
   "execution_count": 28,
   "metadata": {},
   "outputs": [
    {
     "data": {
      "text/plain": [
       "array([[ 100.        ,  100.        ],\n",
       "       [ 110.72014166,   95.76332374],\n",
       "       [  93.76504308,   94.13789956],\n",
       "       [ 105.82017234,   94.85533654],\n",
       "       [ 115.02735797,  102.96876957],\n",
       "       [ 151.73983758,  109.67530707]])"
      ]
     },
     "execution_count": 28,
     "metadata": {},
     "output_type": "execute_result"
    }
   ],
   "source": [
    "# 该函数返回以M和I为参数的模拟路径\n",
    "paths = simulateGeometricBrownianMotion((5, 2))\n",
    "paths"
   ]
  },
  {
   "cell_type": "markdown",
   "metadata": {},
   "source": [
    "在一个具有8个核心的电脑上根据参数值实现一个测试，打算进行100次模拟："
   ]
  },
  {
   "cell_type": "code",
   "execution_count": 29,
   "metadata": {
    "collapsed": true
   },
   "outputs": [],
   "source": [
    "I = 10000  # number of paths\n",
    "M = 100    # number of time steps\n",
    "t = 100    # number of tasks/simulates"
   ]
  },
  {
   "cell_type": "code",
   "execution_count": 30,
   "metadata": {},
   "outputs": [
    {
     "data": {
      "text/plain": [
       "'from time import time\\ntimes = []\\nfor w in range(1, 8):\\n    t0 = time()\\n    pool = mp.Pool(processes=w)   # the pool of works\\n    result = pool.map(simulateGeometricBrownianMotion, t*[(M, I), ])  # the mapping of the function to the list of parameter tuples\\n    times.append(time() - t0)\\n'"
      ]
     },
     "execution_count": 30,
     "metadata": {},
     "output_type": "execute_result"
    }
   ],
   "source": [
    "\"\"\"from time import time\n",
    "times = []\n",
    "for w in range(1, 8):\n",
    "    t0 = time()\n",
    "    pool = mp.Pool(processes=w)   # the pool of works\n",
    "    result = pool.map(simulateGeometricBrownianMotion, t*[(M, I), ])  # the mapping of the function to the list of parameter tuples\n",
    "    times.append(time() - t0)\n",
    "\"\"\""
   ]
  },
  {
   "cell_type": "markdown",
   "metadata": {
    "collapsed": true
   },
   "source": [
    "## 5 动态编译"
   ]
  },
  {
   "cell_type": "markdown",
   "metadata": {},
   "source": [
    "**Numba**是开源的、Numpy感知的优化Python代码编译器。使用LLVM编译器基础架构，将Python字节代码编译专门用于Numpy运行时和Scipy模块的机器代码。\n",
    "> LLVM(原Low Level Virtual Machine，低级虚拟机)的缩写，现在“它使用该项目的全名”。"
   ]
  },
  {
   "cell_type": "markdown",
   "metadata": {},
   "source": [
    "影响性能的问题：包含嵌套循环的算法"
   ]
  },
  {
   "cell_type": "code",
   "execution_count": 31,
   "metadata": {
    "collapsed": true
   },
   "outputs": [],
   "source": [
    "import math\n",
    "def f_py(I, J):\n",
    "    res = 0\n",
    "    for i in range(I):\n",
    "        for j in range(J):\n",
    "            res += int(math.cos(math.log(1)))\n",
    "    return res"
   ]
  },
  {
   "cell_type": "code",
   "execution_count": 32,
   "metadata": {},
   "outputs": [
    {
     "name": "stdout",
     "output_type": "stream",
     "text": [
      "Wall time: 8.9 s\n"
     ]
    },
    {
     "data": {
      "text/plain": [
       "25000000"
      ]
     },
     "execution_count": 32,
     "metadata": {},
     "output_type": "execute_result"
    }
   ],
   "source": [
    "I, J = 5000, 5000\n",
    "%time f_py(I, J)"
   ]
  },
  {
   "cell_type": "code",
   "execution_count": 33,
   "metadata": {
    "collapsed": true
   },
   "outputs": [],
   "source": [
    "import numpy as np\n",
    "def f_np(I, J):\n",
    "    a = np.ones((I, J), dtype=np.float64)\n",
    "    return int(np.sum(np.cos(np.log(a)))), a"
   ]
  },
  {
   "cell_type": "code",
   "execution_count": 34,
   "metadata": {},
   "outputs": [
    {
     "name": "stdout",
     "output_type": "stream",
     "text": [
      "Wall time: 478 ms\n"
     ]
    }
   ],
   "source": [
    "%time res, a = f_np(I, J)"
   ]
  },
  {
   "cell_type": "markdown",
   "metadata": {},
   "source": [
    "> 这种方法快的多，但是并不能真正高效地利用内存。"
   ]
  },
  {
   "cell_type": "code",
   "execution_count": 35,
   "metadata": {},
   "outputs": [
    {
     "data": {
      "text/plain": [
       "200000000"
      ]
     },
     "execution_count": 35,
     "metadata": {},
     "output_type": "execute_result"
    }
   ],
   "source": [
    "a.nbytes"
   ]
  },
  {
   "cell_type": "markdown",
   "metadata": {},
   "source": [
    "> ndarray会消耗200MB内存"
   ]
  },
  {
   "cell_type": "markdown",
   "metadata": {},
   "source": [
    "考虑到RAM的数量，很容易选择I和J使Numpy方法变得不可行。Numba提供了一种有吸引力的替代方法，可以解决这种循环结构的性能问题，同时保持纯Python方法的内存效率。**使用Numba，只需要对Python函数应用`jit`函数，生成该函数的Python可调用编译版本**。"
   ]
  },
  {
   "cell_type": "code",
   "execution_count": 43,
   "metadata": {
    "collapsed": true
   },
   "outputs": [],
   "source": [
    "import numba as nb\n",
    "f_nb = nb.jit(f_py)"
   ]
  },
  {
   "cell_type": "code",
   "execution_count": 44,
   "metadata": {},
   "outputs": [
    {
     "name": "stdout",
     "output_type": "stream",
     "text": [
      "Wall time: 54 ms\n"
     ]
    }
   ],
   "source": [
    "%time res = f_nb(I, J)"
   ]
  },
  {
   "cell_type": "markdown",
   "metadata": {},
   "source": [
    "> 这个新函数可以直接从Python解释程序中调用，实现比Numpy向量化更显著的加速效果。"
   ]
  },
  {
   "cell_type": "code",
   "execution_count": 45,
   "metadata": {},
   "outputs": [
    {
     "name": "stdout",
     "output_type": "stream",
     "text": [
      "[8.821778172839515, 8.773172543209853, 8.784802765432119]\n",
      "[0.48458587654317853, 0.47801797530865997, 0.4796871111111045]\n",
      "[3.555555565526447e-06, 7.901234084783937e-07, 3.950617610826157e-07]\n",
      "[('f_nb', 1.5802469116958189e-06), ('f_np', 0.480763654320981), ('f_py', 8.79325116049383)]\n",
      "function: f_nb, av. time sec:   0.00000, relative:    1.0\n",
      "function: f_np, av. time sec:   0.48076, relative: 304233.3\n",
      "function: f_py, av. time sec:   8.79325, relative: 5564479.3\n"
     ]
    }
   ],
   "source": [
    "func_list = ['f_py', 'f_np', 'f_nb']\n",
    "data_list = 3 * ['I, J']\n",
    "perf_comp_data(func_list, data_list)"
   ]
  },
  {
   "cell_type": "markdown",
   "metadata": {},
   "source": [
    "**Conclusion**\n",
    "\n",
    "嵌套循环实现的Numba版本是目前最快的方案，甚至远快于Numpy的向量化版本。Python版本比其他两种版本慢得多。\n",
    "\n",
    "> 改善（数值算法）性能的许多方法都需要花费可观的精力。利用Python和Numba，就有了需要最少精力的一种方法——一般来说，只需要导入该库和一行附加代码。他不能用于所有类型算法，但是往往值得（简单地）一试，有时候确实能够快速取得效果。"
   ]
  },
  {
   "cell_type": "markdown",
   "metadata": {},
   "source": [
    "## 6 用Cython进行静态编译"
   ]
  },
  {
   "cell_type": "markdown",
   "metadata": {},
   "source": [
    "**Numba的优势是对任意函数应用该方法好不费力**。但是，Numba只能为*某些问题*“毫不费力”地产生显著的性能改善。另一种方法更为灵活，但是也需要更多的精力，这就是通过**Cython的静态编译**。实际上，Cython是Python和C语言的混血儿。从Python的角度来看，需要注意的主要不同是静态类型声明（和C语言相同）和一个单独的编译步骤（和任何编译语言相同）。"
   ]
  },
  {
   "cell_type": "markdown",
   "metadata": {},
   "source": [
    "实例：嵌套循环再次简单地返回循环次数，和前面相比，这次内循环次数由外循环次数放大。"
   ]
  },
  {
   "cell_type": "code",
   "execution_count": 46,
   "metadata": {
    "collapsed": true
   },
   "outputs": [],
   "source": [
    "def f_py(I, J):\n",
    "    res = 0.0  # we work on a float object\n",
    "    for i in range(I):\n",
    "        for j in range(J*I):\n",
    "            res += 1\n",
    "    return res"
   ]
  },
  {
   "cell_type": "code",
   "execution_count": 48,
   "metadata": {},
   "outputs": [
    {
     "name": "stdout",
     "output_type": "stream",
     "text": [
      "Wall time: 6.24 s\n"
     ]
    },
    {
     "data": {
      "text/plain": [
       "125000000.0"
      ]
     },
     "execution_count": 48,
     "metadata": {},
     "output_type": "execute_result"
    }
   ],
   "source": [
    "I, J = 500, 500  # if use Numpy shape is (500, 250000)\n",
    "%time f_py(I, J)"
   ]
  },
  {
   "cell_type": "markdown",
   "metadata": {},
   "source": [
    "采用相同的函数并引入用于Cython的静态类型声明。这个Cython文件的扩展名为.pyx。"
   ]
  },
  {
   "cell_type": "markdown",
   "metadata": {},
   "source": [
    "```python\n",
    "%load_ext cythonmagic\n",
    "%%cython-pyximport nested_loop\n",
    "def f_cy(int I, int J):\n",
    "    cdef double res = 0  # double float much slower than int or float\n",
    "    for i in range(I):\n",
    "        for j in range(J * I):\n",
    "            res += 1\n",
    "    return res\n",
    "    \n",
    "%time res = f_cy(I, J)\n",
    "```"
   ]
  },
  {
   "cell_type": "markdown",
   "metadata": {
    "collapsed": true
   },
   "source": [
    "> 代码有问题，找了很长时间没找到解决办法。"
   ]
  },
  {
   "cell_type": "markdown",
   "metadata": {},
   "source": [
    "## 7 GPU\n",
    "pass"
   ]
  },
  {
   "cell_type": "markdown",
   "metadata": {},
   "source": [
    "## 8 结语"
   ]
  },
  {
   "cell_type": "markdown",
   "metadata": {},
   "source": [
    "Python生态系统提供了一些改进代码性能的手段\n",
    "1. **范型**&emsp;&emsp;&emsp;在给定问题上，某些Python范型比其他范型性能更好\n",
    "2. **库**&emsp;&emsp;&emsp;&emsp;有由于不同类型问题的大量库，这些库（如numexpr）往往导致适合于该库范围的问题得到性能更好额解决方案\n",
    "3. **编译**&emsp;&emsp;&emsp;有一些强大的编译解决方案，包括静态（如Cython）和动态（如Numba）方案\n",
    "4. **并行化**&emsp;&emsp;Python有内建的并行化功能（如numexpr），而其他一些库允许我们利用多核CPU、整个集群（IPython.parallel）或者GPU（Numbapro）的能力。\n",
    "    \n",
    "\n",
    "Python生态系统的重大优势之一是所有方法通常都很容易实现，需要额外的精力通常很少。性能的改进是唾手可得的"
   ]
  }
 ],
 "metadata": {
  "kernelspec": {
   "display_name": "Python 2",
   "language": "python",
   "name": "python2"
  },
  "language_info": {
   "codemirror_mode": {
    "name": "ipython",
    "version": 2
   },
   "file_extension": ".py",
   "mimetype": "text/x-python",
   "name": "python",
   "nbconvert_exporter": "python",
   "pygments_lexer": "ipython2",
   "version": "2.7.13"
  }
 },
 "nbformat": 4,
 "nbformat_minor": 2
}
