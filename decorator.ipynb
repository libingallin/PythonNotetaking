{
 "cells": [
  {
   "cell_type": "markdown",
   "metadata": {},
   "source": [
    "### 静态方法和类成员方法分别在创建时分别被装入staticmethod类型和classmethod类型的对象中。\n",
    "\n",
    "### 静态方法的定义没有self参数，且能够被类本身直接调用。\n",
    "\n",
    "\n",
    "### 类方法在定义时需要名为cls的类似于self的参数，类成员方法可以直接用类的具体对象调用。但cls参数时自动被绑定到类的。"
   ]
  },
  {
   "cell_type": "code",
   "execution_count": 3,
   "metadata": {},
   "outputs": [],
   "source": [
    "class Myclass(object):\n",
    "    def smeth():\n",
    "        print 'this is a static method'\n",
    "    smeth = staticmethod(smeth)\n",
    "\n",
    "    def cmeth(cls):\n",
    "        print 'this is a class method of ', cls\n",
    "    cmeth = classmethod(cmeth)"
   ]
  },
  {
   "cell_type": "code",
   "execution_count": 4,
   "metadata": {},
   "outputs": [
    {
     "name": "stdout",
     "output_type": "stream",
     "text": [
      "this is a static method\n"
     ]
    }
   ],
   "source": [
    "Myclass.smeth()"
   ]
  },
  {
   "cell_type": "code",
   "execution_count": 5,
   "metadata": {},
   "outputs": [
    {
     "name": "stdout",
     "output_type": "stream",
     "text": [
      "this is a class method of  <class '__main__.Myclass'>\n"
     ]
    }
   ],
   "source": [
    "Myclass.cmeth()"
   ]
  },
  {
   "cell_type": "markdown",
   "metadata": {},
   "source": [
    "手动包装和替换优点蠢！为这样的包装方法引入了一个叫装饰器的新语法。\n",
    "\n",
    "### 装饰器能对任何可调用的对象进行包装，既能够用于方法也能用于函数。"
   ]
  },
  {
   "cell_type": "markdown",
   "metadata": {},
   "source": [
    "### 使用@操作符，在方法（函数）的上方将装饰器列出，从而指定一个或者更多的装饰器（多个装饰器在应用时的顺序与指定顺序相反）。"
   ]
  },
  {
   "cell_type": "code",
   "execution_count": 9,
   "metadata": {},
   "outputs": [],
   "source": [
    "class Myclass(object):\n",
    "    @staticmethod\n",
    "    def smeth():\n",
    "        print 'this is a staticmethod'\n",
    "        \n",
    "    @classmethod\n",
    "    def cmeth(cls):\n",
    "        print 'this is a class method of', cls"
   ]
  },
  {
   "cell_type": "code",
   "execution_count": 10,
   "metadata": {},
   "outputs": [
    {
     "name": "stdout",
     "output_type": "stream",
     "text": [
      "this is a staticmethod\n"
     ]
    }
   ],
   "source": [
    "Myclass.smeth()"
   ]
  },
  {
   "cell_type": "code",
   "execution_count": 12,
   "metadata": {},
   "outputs": [
    {
     "name": "stdout",
     "output_type": "stream",
     "text": [
      "this is a class method of <class '__main__.Myclass'>\n"
     ]
    }
   ],
   "source": [
    "Myclass.cmeth()"
   ]
  },
  {
   "cell_type": "markdown",
   "metadata": {},
   "source": [
    "静态方法和类成员方法大部分情况下可以使用函数或绑定方法代替。"
   ]
  },
  {
   "cell_type": "markdown",
   "metadata": {},
   "source": [
    "装饰器背后的主要动机源自python面向对象编程。装饰器是在函数调用之上的装饰。这些装饰仅是当声明一个函数或方法的时候，才会应用的额外调用。"
   ]
  },
  {
   "cell_type": "markdown",
   "metadata": {},
   "source": [
    "装饰器语法以@开头，接着是装饰器函数的名字和可选的参数。紧跟着装饰器声明的是被修饰的函数和装饰器函数的可选参数。\n",
    "看起来是这样的：\n"
   ]
  },
  {
   "cell_type": "markdown",
   "metadata": {},
   "source": [
    "##### @decorator(dec_opt_args)\n",
    "##### def fun2Bdecorator(func_opt_args):\n",
    "       ...."
   ]
  },
  {
   "cell_type": "markdown",
   "metadata": {},
   "source": [
    "### 使用多个装饰器:"
   ]
  },
  {
   "cell_type": "markdown",
   "metadata": {},
   "source": [
    "##### @deco2\n",
    "##### @deco1\n",
    "##### def(arg1, arg2, ...):\n",
    "      pass"
   ]
  },
  {
   "cell_type": "markdown",
   "metadata": {},
   "source": [
    "### 这和创建一个组合函数是等价的："
   ]
  },
  {
   "cell_type": "markdown",
   "metadata": {},
   "source": [
    "##### def func(arg1, arg2, ...):\n",
    "     pass\n",
    "##### func = deco2(deco1(func))"
   ]
  },
  {
   "cell_type": "markdown",
   "metadata": {},
   "source": [
    "函数组合用数学定义就像这样：\n",
    "\n",
    " (g, f)(x) = g(f(x))"
   ]
  },
  {
   "cell_type": "markdown",
   "metadata": {},
   "source": [
    "##### @g\n",
    "##### @f\n",
    "##### def foo():\n",
    "    pass\n",
    "##### 与foo = g(f(foo))相同"
   ]
  },
  {
   "cell_type": "markdown",
   "metadata": {},
   "source": [
    "## 1 无参数的装饰器"
   ]
  },
  {
   "cell_type": "markdown",
   "metadata": {},
   "source": [
    "#### @deco\n",
    "#### def foo(): pass"
   ]
  },
  {
   "cell_type": "markdown",
   "metadata": {},
   "source": [
    "## 2 有参数的装饰器"
   ]
  },
  {
   "cell_type": "markdown",
   "metadata": {},
   "source": [
    "#### @decomaker(deco_args)\n",
    "#### def  foo():  pass"
   ]
  },
  {
   "cell_type": "markdown",
   "metadata": {},
   "source": [
    "需要自己返回以函数作为参数的装饰器。换句话说，decomaker()用deco_args做了些事并返回函数对象，而该函数对象正是以foo作为其参数的装饰器。即："
   ]
  },
  {
   "cell_type": "markdown",
   "metadata": {},
   "source": [
    "#### foo = decomaker(deco_args)(foo)"
   ]
  },
  {
   "cell_type": "markdown",
   "metadata": {},
   "source": [
    "#### 含有多个装饰器的列子，其中带有一个参数："
   ]
  },
  {
   "cell_type": "markdown",
   "metadata": {},
   "source": [
    "#### @deco1(deco_arg)\n",
    "#### @deco2\n",
    "#### def func():  pass"
   ]
  },
  {
   "cell_type": "markdown",
   "metadata": {},
   "source": [
    "## 3 什么是装饰器？"
   ]
  },
  {
   "cell_type": "markdown",
   "metadata": {},
   "source": [
    "装饰器实际上就是函数。他们接受函数对象。怎样处理那些函数的呢？一般来说， 当你包装一个函数的时候，你最终会调用它。最棒的是我们能在包装的环境下在合适的时机调用它。我们在执行函数之前可以运行些预备代码， 如post-morrem分析，也可以在执行代码之后做些清理工作。所以当你看见一个装饰器的时候，很可能在里面找到这样一些代码，它定义了某个函数并在定义的某处嵌入了对目标函数的调用或至少一些引用。可以考虑在装饰器中置入通用功能的代码来降低程序的复杂度。可以用装饰器来："
   ]
  },
  {
   "cell_type": "markdown",
   "metadata": {},
   "source": [
    "#### 引入日志"
   ]
  },
  {
   "cell_type": "markdown",
   "metadata": {},
   "source": [
    "#### 增加计逻辑来检测性能"
   ]
  },
  {
   "cell_type": "markdown",
   "metadata": {},
   "source": [
    "#### 给函数加入事务的能力"
   ]
  },
  {
   "cell_type": "markdown",
   "metadata": {},
   "source": [
    "对于用python创建企业级应用，支持装饰器的特性是非常重要的。"
   ]
  },
  {
   "cell_type": "markdown",
   "metadata": {},
   "source": [
    "## 装饰器本质上是一个python函数， 可以让其他函数再不需要做任何代码变动的前提下增加额外功能。即装饰器的作用就是为已经存在的对象添加额外的功能。"
   ]
  },
  {
   "cell_type": "code",
   "execution_count": null,
   "metadata": {
    "collapsed": true
   },
   "outputs": [],
   "source": []
  }
 ],
 "metadata": {
  "kernelspec": {
   "display_name": "Python 2",
   "language": "python",
   "name": "python2"
  },
  "language_info": {
   "codemirror_mode": {
    "name": "ipython",
    "version": 2
   },
   "file_extension": ".py",
   "mimetype": "text/x-python",
   "name": "python",
   "nbconvert_exporter": "python",
   "pygments_lexer": "ipython2",
   "version": "2.7.13"
  }
 },
 "nbformat": 4,
 "nbformat_minor": 2
}
