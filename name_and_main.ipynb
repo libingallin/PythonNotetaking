{
 "cells": [
  {
   "cell_type": "markdown",
   "metadata": {},
   "source": [
    "```python\n",
    "def main():\n",
    "    pass\n",
    "    \n",
    "if __name__ == '__main__':\n",
    "    main()\n",
    "```\n",
    "\n",
    "> 其中的main函数可以是其他任意自己定义的函数的名字。"
   ]
  },
  {
   "cell_type": "markdown",
   "metadata": {},
   "source": [
    "## `__name__`详解"
   ]
  },
  {
   "cell_type": "markdown",
   "metadata": {},
   "source": [
    "`__name__`的含义是：\n",
    "+ 如果是放在Modules模块中，就表示是模块的名字\n",
    "+ 如果是放在Class类中，就表示类的名字"
   ]
  },
  {
   "cell_type": "markdown",
   "metadata": {},
   "source": [
    "## `__main__`详解"
   ]
  },
  {
   "cell_type": "markdown",
   "metadata": {},
   "source": [
    "在学习Python的过程中，Python代码可以直接一行行写出来然后再去执行，这种只是针对小程序而言，实际上我们更多时候所见到的是Python代码设计成更加通用\n",
    "的可以被重复调用的模块的形式，此时Python函数和功能都是写在对应的函数里面的。\n",
    "\n",
    "而所写的Python脚本文件在被当作模块时，**第一次被导入(import)**后，系统会自动为其创建一个域名空间(namespace)，其中模块都是有自己不同的名字的。而对于此处的脚本的主模块的名字，始终都叫作`__main__`。"
   ]
  },
  {
   "cell_type": "markdown",
   "metadata": {},
   "source": [
    "`__main__`含义是：\n",
    "+ 如果当前Python文件被当作模块调用时，此`__name__`的名字就是当前Python脚本所对应的模块名，就不是`__main__`了，因此此时就不去执行main函数。\n",
    "+ 如果当前Python文件被当作普通的Python脚本文件直接执行时，此时`__name__`就始终是`__main__`，所以此时就去执行main函数。"
   ]
  },
  {
   "cell_type": "markdown",
   "metadata": {},
   "source": [
    "### 两者搭配使用"
   ]
  },
  {
   "cell_type": "markdown",
   "metadata": {},
   "source": [
    "两者搭配使用的目的是当一个模块不是当作模块被调用而是被直接执行时，就运行事先写好的那些测试代码，用于测试当前模块的功能。所以我们可以用这套机制去实现添加模块测试代码或其他方面的功能。"
   ]
  }
 ],
 "metadata": {
  "kernelspec": {
   "display_name": "Python 2",
   "language": "python",
   "name": "python2"
  },
  "language_info": {
   "codemirror_mode": {
    "name": "ipython",
    "version": 2
   },
   "file_extension": ".py",
   "mimetype": "text/x-python",
   "name": "python",
   "nbconvert_exporter": "python",
   "pygments_lexer": "ipython2",
   "version": "2.7.13"
  }
 },
 "nbformat": 4,
 "nbformat_minor": 2
}
