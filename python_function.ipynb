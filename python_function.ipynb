{
 "cells": [
  {
   "cell_type": "markdown",
   "metadata": {},
   "source": [
    "通过建立独立的函数模块（Module）文件（.py文件）,共享给其他代码文件调用."
   ]
  },
  {
   "cell_type": "markdown",
   "metadata": {},
   "source": [
    "## 1 参数"
   ]
  },
  {
   "cell_type": "markdown",
   "metadata": {},
   "source": [
    "### 1.1 位置参数"
   ]
  },
  {
   "cell_type": "markdown",
   "metadata": {},
   "source": [
    "```python\n",
    "def person_info(name, age):\n",
    "    pass\n",
    "```"
   ]
  },
  {
   "cell_type": "markdown",
   "metadata": {},
   "source": [
    "在传递参数值时，必须和函数定义的参数一一对应，位置不能打乱."
   ]
  },
  {
   "cell_type": "markdown",
   "metadata": {},
   "source": [
    "### 1.2 关键字参数"
   ]
  },
  {
   "cell_type": "markdown",
   "metadata": {},
   "source": [
    "```python\n",
    "def person_info(name='Tom', age=18):\n",
    "    pass\n",
    "```"
   ]
  },
  {
   "cell_type": "markdown",
   "metadata": {},
   "source": [
    "在调用时显示表示,无需考虑参数的位置顺序.有的参数值可以不传,此时使用默认值."
   ]
  },
  {
   "cell_type": "markdown",
   "metadata": {},
   "source": [
    "**关键字参数必须位于位置参数后.**"
   ]
  },
  {
   "cell_type": "markdown",
   "metadata": {},
   "source": [
    "**可以结合使用位置参数和关键字参数，但必须先指定所有的位置参数，否则解释器将不知道它们是哪个参数.**\n",
    "\n",
    "**但通常不应该结合使用位置参数和关键字参数，除非你知道这样做的后果.一般而言，除非必不可少的参数很少，而带默认值的可选参数很多，否则不应该结合使用.**"
   ]
  },
  {
   "cell_type": "markdown",
   "metadata": {},
   "source": [
    "### 1.3 不定长参数"
   ]
  },
  {
   "cell_type": "markdown",
   "metadata": {},
   "source": [
    "Python允许定义函数编写**不定长**参数,方便函数调用时,根据实际情况传递值的数量.`"
   ]
  },
  {
   "cell_type": "markdown",
   "metadata": {},
   "source": [
    "+ **任意数量的参数值**"
   ]
  },
  {
   "cell_type": "markdown",
   "metadata": {},
   "source": [
    "```python\n",
    "def func([param1, param2,]*params):\n",
    "    pass\n",
    "```"
   ]
  },
  {
   "cell_type": "markdown",
   "metadata": {},
   "source": [
    "带`*`的参数，可以接受任意数量的值.**一个函数只能有一个带`*`的参数**.\n",
    "\n",
    "**参数前面的`*`将提供的所有值都放在一个元组中.**"
   ]
  },
  {
   "cell_type": "code",
   "execution_count": 1,
   "metadata": {
    "ExecuteTime": {
     "end_time": "2019-02-25T14:10:37.725401Z",
     "start_time": "2019-02-25T14:10:37.722439Z"
    }
   },
   "outputs": [],
   "source": [
    "def person_info(name, age, *attributes):\n",
    "    print('name: {0}\\nage: {1}'.format(name, age))\n",
    "    print(type(attributes))\n",
    "    print(attributes)"
   ]
  },
  {
   "cell_type": "code",
   "execution_count": 2,
   "metadata": {
    "ExecuteTime": {
     "end_time": "2019-02-25T14:10:37.747378Z",
     "start_time": "2019-02-25T14:10:37.742355Z"
    }
   },
   "outputs": [
    {
     "name": "stdout",
     "output_type": "stream",
     "text": [
      "name: Tom\n",
      "age: 18\n",
      "<class 'tuple'>\n",
      "('boy', 'genius', 'haha', 'xiix', 'heh')\n"
     ]
    }
   ],
   "source": [
    "person_info('Tom', 18, 'boy', 'genius', 'haha', 'xiix', 'heh')"
   ]
  },
  {
   "cell_type": "code",
   "execution_count": 3,
   "metadata": {
    "ExecuteTime": {
     "end_time": "2019-02-25T14:10:37.763343Z",
     "start_time": "2019-02-25T14:10:37.760307Z"
    }
   },
   "outputs": [
    {
     "name": "stdout",
     "output_type": "stream",
     "text": [
      "name: Tom\n",
      "age: 18\n",
      "<class 'tuple'>\n",
      "('boy',)\n"
     ]
    }
   ],
   "source": [
    "person_info('Tom', 18, 'boy')"
   ]
  },
  {
   "cell_type": "code",
   "execution_count": 4,
   "metadata": {
    "ExecuteTime": {
     "end_time": "2019-02-25T14:10:37.783281Z",
     "start_time": "2019-02-25T14:10:37.779257Z"
    }
   },
   "outputs": [],
   "source": [
    "# 放在中间\n",
    "def person_info(name, *attributes, age):\n",
    "    print(name, attributes, age)"
   ]
  },
  {
   "cell_type": "code",
   "execution_count": 5,
   "metadata": {
    "ExecuteTime": {
     "end_time": "2019-02-25T14:10:37.804212Z",
     "start_time": "2019-02-25T14:10:37.800199Z"
    }
   },
   "outputs": [
    {
     "name": "stdout",
     "output_type": "stream",
     "text": [
      "Tom ('boy', 'genius', 'hh', 178) 19\n"
     ]
    }
   ],
   "source": [
    "person_info('Tom', 'boy', 'genius', 'hh', 178, age=19)"
   ]
  },
  {
   "cell_type": "markdown",
   "metadata": {},
   "source": [
    "+ **任意数量的键值对**"
   ]
  },
  {
   "cell_type": "markdown",
   "metadata": {},
   "source": [
    "```python\n",
    "def func([param1, param2,]**params):\n",
    "    pass\n",
    "```"
   ]
  },
  {
   "cell_type": "markdown",
   "metadata": {},
   "source": [
    "`**`可以收集关键字参数,params是一个字典."
   ]
  },
  {
   "cell_type": "code",
   "execution_count": 6,
   "metadata": {
    "ExecuteTime": {
     "end_time": "2019-02-25T14:10:37.944447Z",
     "start_time": "2019-02-25T14:10:37.941495Z"
    }
   },
   "outputs": [],
   "source": [
    "def person_info(name, age, **attributes):\n",
    "    print('name: {0}''\\n''age: {1}'.format(name, age))\n",
    "    print(type(attributes))\n",
    "    print(attributes)"
   ]
  },
  {
   "cell_type": "code",
   "execution_count": 7,
   "metadata": {
    "ExecuteTime": {
     "end_time": "2019-02-25T14:10:37.966388Z",
     "start_time": "2019-02-25T14:10:37.962400Z"
    }
   },
   "outputs": [
    {
     "name": "stdout",
     "output_type": "stream",
     "text": [
      "name: Tom\n",
      "age: 18\n",
      "<class 'dict'>\n",
      "{'sex': 'male', 'height': 175, 'wife': 'Alice'}\n"
     ]
    }
   ],
   "source": [
    "person_info('Tom', 18, sex='male', height=175, wife='Alice')"
   ]
  },
  {
   "cell_type": "code",
   "execution_count": 8,
   "metadata": {
    "ExecuteTime": {
     "end_time": "2019-02-25T14:10:37.990312Z",
     "start_time": "2019-02-25T14:10:37.985357Z"
    }
   },
   "outputs": [
    {
     "name": "stdout",
     "output_type": "stream",
     "text": [
      "name Tom\n",
      "age 18\n",
      "sex  male\n",
      "height  175\n",
      "wife  Alice\n"
     ]
    }
   ],
   "source": [
    "def person_info(name, age, **attributes):\n",
    "    print('name {0}''\\n''age {1}'.format(name, age))\n",
    "    for k, v in attributes.items():\n",
    "        print(k, '', v)\n",
    "\n",
    "\n",
    "person_info('Tom', 18, sex='male', height=175, wife='Alice')"
   ]
  },
  {
   "cell_type": "code",
   "execution_count": 9,
   "metadata": {
    "ExecuteTime": {
     "end_time": "2019-02-25T14:10:38.014267Z",
     "start_time": "2019-02-25T14:10:38.009260Z"
    }
   },
   "outputs": [
    {
     "name": "stdout",
     "output_type": "stream",
     "text": [
      "1 2 4\n",
      "(5, 6, 7)\n",
      "{'foo': 1, 'bar': 2}\n"
     ]
    }
   ],
   "source": [
    "def print_params(x, y, z=3, *pospar, **keypar):\n",
    "    print(x, y, z)\n",
    "    print(pospar)\n",
    "    print(keypar)\n",
    "\n",
    "\n",
    "print_params(1, 2, 4, 5, 6, 7, foo=1, bar=2)"
   ]
  },
  {
   "cell_type": "markdown",
   "metadata": {},
   "source": [
    "> 注意`z`的值."
   ]
  },
  {
   "cell_type": "markdown",
   "metadata": {},
   "source": [
    "### 1.4 分配参数"
   ]
  },
  {
   "cell_type": "markdown",
   "metadata": {},
   "source": [
    "函数定义的参数叫**形参**，调用函数时的参数叫**实参**."
   ]
  },
  {
   "cell_type": "markdown",
   "metadata": {},
   "source": [
    "**调用函数时，使用`*`运算符，是分配参数.**"
   ]
  },
  {
   "cell_type": "code",
   "execution_count": 10,
   "metadata": {
    "ExecuteTime": {
     "end_time": "2019-02-25T14:10:38.205769Z",
     "start_time": "2019-02-25T14:10:38.202776Z"
    }
   },
   "outputs": [],
   "source": [
    "def user_add(x, y):\n",
    "    return x + y"
   ]
  },
  {
   "cell_type": "code",
   "execution_count": 11,
   "metadata": {
    "ExecuteTime": {
     "end_time": "2019-02-25T14:10:38.229672Z",
     "start_time": "2019-02-25T14:10:38.220728Z"
    }
   },
   "outputs": [
    {
     "data": {
      "text/plain": [
       "3"
      ]
     },
     "execution_count": 11,
     "metadata": {},
     "output_type": "execute_result"
    }
   ],
   "source": [
    "user_add(*(1, 2))"
   ]
  },
  {
   "cell_type": "markdown",
   "metadata": {},
   "source": [
    "**通过使用运算符`**`，可将字典中的值分配给关键字参数.**"
   ]
  },
  {
   "cell_type": "code",
   "execution_count": 12,
   "metadata": {
    "ExecuteTime": {
     "end_time": "2019-02-25T14:10:38.285523Z",
     "start_time": "2019-02-25T14:10:38.281565Z"
    }
   },
   "outputs": [],
   "source": [
    "def person_info(name='Tom', age=19):\n",
    "    print('name: {}\\nage: {}'.format(name, age))"
   ]
  },
  {
   "cell_type": "code",
   "execution_count": 13,
   "metadata": {
    "ExecuteTime": {
     "end_time": "2019-02-25T14:10:38.305501Z",
     "start_time": "2019-02-25T14:10:38.301511Z"
    }
   },
   "outputs": [
    {
     "name": "stdout",
     "output_type": "stream",
     "text": [
      "name: Alice\n",
      "age: 18\n"
     ]
    }
   ],
   "source": [
    "person_info(**{'name': 'Alice', 'age': 18})"
   ]
  }
 ],
 "metadata": {
  "hide_input": false,
  "kernelspec": {
   "display_name": "Python 3",
   "language": "python",
   "name": "python3"
  },
  "language_info": {
   "codemirror_mode": {
    "name": "ipython",
    "version": 3
   },
   "file_extension": ".py",
   "mimetype": "text/x-python",
   "name": "python",
   "nbconvert_exporter": "python",
   "pygments_lexer": "ipython3",
   "version": "3.6.8"
  },
  "nbTranslate": {
   "displayLangs": [
    "*"
   ],
   "hotkey": "alt-t",
   "langInMainMenu": true,
   "sourceLang": "en",
   "targetLang": "fr",
   "useGoogleTranslate": true
  },
  "toc": {
   "base_numbering": 1,
   "nav_menu": {},
   "number_sections": true,
   "sideBar": true,
   "skip_h1_title": false,
   "title_cell": "Table of Contents",
   "title_sidebar": "Contents",
   "toc_cell": false,
   "toc_position": {},
   "toc_section_display": true,
   "toc_window_display": false
  },
  "varInspector": {
   "cols": {
    "lenName": 16,
    "lenType": 16,
    "lenVar": 40
   },
   "kernels_config": {
    "python": {
     "delete_cmd_postfix": "",
     "delete_cmd_prefix": "del ",
     "library": "var_list.py",
     "varRefreshCmd": "print(var_dic_list())"
    },
    "r": {
     "delete_cmd_postfix": ") ",
     "delete_cmd_prefix": "rm(",
     "library": "var_list.r",
     "varRefreshCmd": "cat(var_dic_list()) "
    }
   },
   "types_to_exclude": [
    "module",
    "function",
    "builtin_function_or_method",
    "instance",
    "_Feature"
   ],
   "window_display": false
  }
 },
 "nbformat": 4,
 "nbformat_minor": 2
}
