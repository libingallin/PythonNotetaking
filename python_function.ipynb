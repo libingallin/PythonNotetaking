{
 "cells": [
  {
   "cell_type": "markdown",
   "metadata": {},
   "source": [
    "通过建立独立的函数模块（Module）文件（.py文件）,共享给其他代码文件调用.\n",
    "\n",
    "函数应减少依赖关系，具备良好的可测试性和可维护性；短而精，单个功能."
   ]
  },
  {
   "cell_type": "markdown",
   "metadata": {
    "heading_collapsed": true
   },
   "source": [
    "## 1 参数"
   ]
  },
  {
   "cell_type": "markdown",
   "metadata": {
    "hidden": true
   },
   "source": [
    "### 1.1 位置参数"
   ]
  },
  {
   "cell_type": "markdown",
   "metadata": {
    "hidden": true
   },
   "source": [
    "```python\n",
    "def person_info(name, age):\n",
    "    pass\n",
    "```"
   ]
  },
  {
   "cell_type": "markdown",
   "metadata": {
    "hidden": true
   },
   "source": [
    "在传递参数值时，必须和函数定义的参数一一对应，位置不能打乱."
   ]
  },
  {
   "cell_type": "markdown",
   "metadata": {
    "hidden": true
   },
   "source": [
    "### 1.2 关键字参数"
   ]
  },
  {
   "cell_type": "markdown",
   "metadata": {
    "hidden": true
   },
   "source": [
    "```python\n",
    "def person_info(name='Tom', age=18):\n",
    "    pass\n",
    "```"
   ]
  },
  {
   "cell_type": "markdown",
   "metadata": {
    "hidden": true
   },
   "source": [
    "在调用时显示表示,无需考虑参数的位置顺序.有的参数值可以不传,此时使用默认值."
   ]
  },
  {
   "cell_type": "markdown",
   "metadata": {
    "hidden": true
   },
   "source": [
    "**关键字参数必须位于位置参数后.**"
   ]
  },
  {
   "cell_type": "markdown",
   "metadata": {
    "hidden": true
   },
   "source": [
    "**可以结合使用位置参数和关键字参数，但必须先指定所有的位置参数，否则解释器将不知道它们是哪个参数.**\n",
    "\n",
    "**但通常不应该结合使用位置参数和关键字参数，除非你知道这样做的后果.一般而言，除非必不可少的参数很少，而带默认值的可选参数很多，否则不应该结合使用.**"
   ]
  },
  {
   "cell_type": "markdown",
   "metadata": {
    "heading_collapsed": true,
    "hidden": true
   },
   "source": [
    "### 1.3 不定长参数"
   ]
  },
  {
   "cell_type": "markdown",
   "metadata": {
    "hidden": true
   },
   "source": [
    "Python允许定义函数编写**不定长**参数,方便函数调用时,根据实际情况传递值的数量.`"
   ]
  },
  {
   "cell_type": "markdown",
   "metadata": {
    "hidden": true
   },
   "source": [
    "+ **任意数量的参数值**"
   ]
  },
  {
   "cell_type": "markdown",
   "metadata": {
    "hidden": true
   },
   "source": [
    "```python\n",
    "def func([param1, param2,]*params):\n",
    "    pass\n",
    "```"
   ]
  },
  {
   "cell_type": "markdown",
   "metadata": {
    "hidden": true
   },
   "source": [
    "带`*`的参数，可以接受任意数量的值.**一个函数只能有一个带`*`的参数**.\n",
    "\n",
    "**参数前面的`*`将提供的所有值都放在一个元组中.**"
   ]
  },
  {
   "cell_type": "code",
   "execution_count": 1,
   "metadata": {
    "ExecuteTime": {
     "end_time": "2019-02-25T14:10:37.725401Z",
     "start_time": "2019-02-25T14:10:37.722439Z"
    },
    "hidden": true
   },
   "outputs": [],
   "source": [
    "def person_info(name, age, *attributes):\n",
    "    print('name: {0}\\nage: {1}'.format(name, age))\n",
    "    print(type(attributes))\n",
    "    print(attributes)"
   ]
  },
  {
   "cell_type": "code",
   "execution_count": 2,
   "metadata": {
    "ExecuteTime": {
     "end_time": "2019-02-25T14:10:37.747378Z",
     "start_time": "2019-02-25T14:10:37.742355Z"
    },
    "hidden": true
   },
   "outputs": [
    {
     "name": "stdout",
     "output_type": "stream",
     "text": [
      "name: Tom\n",
      "age: 18\n",
      "<class 'tuple'>\n",
      "('boy', 'genius', 'haha', 'xiix', 'heh')\n"
     ]
    }
   ],
   "source": [
    "person_info('Tom', 18, 'boy', 'genius', 'haha', 'xiix', 'heh')"
   ]
  },
  {
   "cell_type": "code",
   "execution_count": 3,
   "metadata": {
    "ExecuteTime": {
     "end_time": "2019-02-25T14:10:37.763343Z",
     "start_time": "2019-02-25T14:10:37.760307Z"
    },
    "hidden": true
   },
   "outputs": [
    {
     "name": "stdout",
     "output_type": "stream",
     "text": [
      "name: Tom\n",
      "age: 18\n",
      "<class 'tuple'>\n",
      "('boy',)\n"
     ]
    }
   ],
   "source": [
    "person_info('Tom', 18, 'boy')"
   ]
  },
  {
   "cell_type": "code",
   "execution_count": 4,
   "metadata": {
    "ExecuteTime": {
     "end_time": "2019-02-25T14:10:37.783281Z",
     "start_time": "2019-02-25T14:10:37.779257Z"
    },
    "hidden": true
   },
   "outputs": [],
   "source": [
    "# 放在中间\n",
    "def person_info(name, *attributes, age):\n",
    "    print(name, attributes, age)"
   ]
  },
  {
   "cell_type": "code",
   "execution_count": 5,
   "metadata": {
    "ExecuteTime": {
     "end_time": "2019-02-25T14:10:37.804212Z",
     "start_time": "2019-02-25T14:10:37.800199Z"
    },
    "hidden": true
   },
   "outputs": [
    {
     "name": "stdout",
     "output_type": "stream",
     "text": [
      "Tom ('boy', 'genius', 'hh', 178) 19\n"
     ]
    }
   ],
   "source": [
    "person_info('Tom', 'boy', 'genius', 'hh', 178, age=19)"
   ]
  },
  {
   "cell_type": "markdown",
   "metadata": {
    "hidden": true
   },
   "source": [
    "+ **任意数量的键值对**"
   ]
  },
  {
   "cell_type": "markdown",
   "metadata": {
    "hidden": true
   },
   "source": [
    "```python\n",
    "def func([param1, param2,]**params):\n",
    "    pass\n",
    "```"
   ]
  },
  {
   "cell_type": "markdown",
   "metadata": {
    "hidden": true
   },
   "source": [
    "`**`可以收集关键字参数,params是一个字典."
   ]
  },
  {
   "cell_type": "code",
   "execution_count": 6,
   "metadata": {
    "ExecuteTime": {
     "end_time": "2019-02-25T14:10:37.944447Z",
     "start_time": "2019-02-25T14:10:37.941495Z"
    },
    "hidden": true
   },
   "outputs": [],
   "source": [
    "def person_info(name, age, **attributes):\n",
    "    print('name: {0}''\\n''age: {1}'.format(name, age))\n",
    "    print(type(attributes))\n",
    "    print(attributes)"
   ]
  },
  {
   "cell_type": "code",
   "execution_count": 7,
   "metadata": {
    "ExecuteTime": {
     "end_time": "2019-02-25T14:10:37.966388Z",
     "start_time": "2019-02-25T14:10:37.962400Z"
    },
    "hidden": true
   },
   "outputs": [
    {
     "name": "stdout",
     "output_type": "stream",
     "text": [
      "name: Tom\n",
      "age: 18\n",
      "<class 'dict'>\n",
      "{'sex': 'male', 'height': 175, 'wife': 'Alice'}\n"
     ]
    }
   ],
   "source": [
    "person_info('Tom', 18, sex='male', height=175, wife='Alice')"
   ]
  },
  {
   "cell_type": "code",
   "execution_count": 8,
   "metadata": {
    "ExecuteTime": {
     "end_time": "2019-02-25T14:10:37.990312Z",
     "start_time": "2019-02-25T14:10:37.985357Z"
    },
    "hidden": true
   },
   "outputs": [
    {
     "name": "stdout",
     "output_type": "stream",
     "text": [
      "name Tom\n",
      "age 18\n",
      "sex  male\n",
      "height  175\n",
      "wife  Alice\n"
     ]
    }
   ],
   "source": [
    "def person_info(name, age, **attributes):\n",
    "    print('name {0}''\\n''age {1}'.format(name, age))\n",
    "    for k, v in attributes.items():\n",
    "        print(k, '', v)\n",
    "\n",
    "\n",
    "person_info('Tom', 18, sex='male', height=175, wife='Alice')"
   ]
  },
  {
   "cell_type": "code",
   "execution_count": 9,
   "metadata": {
    "ExecuteTime": {
     "end_time": "2019-02-25T14:10:38.014267Z",
     "start_time": "2019-02-25T14:10:38.009260Z"
    },
    "hidden": true
   },
   "outputs": [
    {
     "name": "stdout",
     "output_type": "stream",
     "text": [
      "1 2 4\n",
      "(5, 6, 7)\n",
      "{'foo': 1, 'bar': 2}\n"
     ]
    }
   ],
   "source": [
    "def print_params(x, y, z=3, *pospar, **keypar):\n",
    "    print(x, y, z)\n",
    "    print(pospar)\n",
    "    print(keypar)\n",
    "\n",
    "\n",
    "print_params(1, 2, 4, 5, 6, 7, foo=1, bar=2)"
   ]
  },
  {
   "cell_type": "markdown",
   "metadata": {
    "hidden": true
   },
   "source": [
    "> 注意`z`的值."
   ]
  },
  {
   "cell_type": "markdown",
   "metadata": {
    "heading_collapsed": true,
    "hidden": true
   },
   "source": [
    "### 1.4 分配参数"
   ]
  },
  {
   "cell_type": "markdown",
   "metadata": {
    "hidden": true
   },
   "source": [
    "函数定义时的参数叫**形参**，局部变量，仅能在函数内部使用，形参在函数调用结束后销毁.\n",
    "\n",
    "调用函数时的参数叫**实参**."
   ]
  },
  {
   "cell_type": "markdown",
   "metadata": {
    "hidden": true
   },
   "source": [
    "**调用函数时，使用`*`运算符，是分配参数.**"
   ]
  },
  {
   "cell_type": "code",
   "execution_count": 10,
   "metadata": {
    "ExecuteTime": {
     "end_time": "2019-02-25T14:10:38.205769Z",
     "start_time": "2019-02-25T14:10:38.202776Z"
    },
    "hidden": true
   },
   "outputs": [],
   "source": [
    "def user_add(x, y):\n",
    "    return x + y"
   ]
  },
  {
   "cell_type": "code",
   "execution_count": 11,
   "metadata": {
    "ExecuteTime": {
     "end_time": "2019-02-25T14:10:38.229672Z",
     "start_time": "2019-02-25T14:10:38.220728Z"
    },
    "hidden": true
   },
   "outputs": [
    {
     "data": {
      "text/plain": [
       "3"
      ]
     },
     "execution_count": 11,
     "metadata": {},
     "output_type": "execute_result"
    }
   ],
   "source": [
    "user_add(*(1, 2))"
   ]
  },
  {
   "cell_type": "markdown",
   "metadata": {
    "hidden": true
   },
   "source": [
    "**通过使用运算符`**`，可将字典中的值分配给关键字参数.**"
   ]
  },
  {
   "cell_type": "code",
   "execution_count": 12,
   "metadata": {
    "ExecuteTime": {
     "end_time": "2019-02-25T14:10:38.285523Z",
     "start_time": "2019-02-25T14:10:38.281565Z"
    },
    "hidden": true
   },
   "outputs": [],
   "source": [
    "def person_info(name='Tom', age=19):\n",
    "    print('name: {}\\nage: {}'.format(name, age))"
   ]
  },
  {
   "cell_type": "code",
   "execution_count": 13,
   "metadata": {
    "ExecuteTime": {
     "end_time": "2019-02-25T14:10:38.305501Z",
     "start_time": "2019-02-25T14:10:38.301511Z"
    },
    "hidden": true
   },
   "outputs": [
    {
     "name": "stdout",
     "output_type": "stream",
     "text": [
      "name: Alice\n",
      "age: 18\n"
     ]
    }
   ],
   "source": [
    "person_info(**{'name': 'Alice', 'age': 18})"
   ]
  },
  {
   "cell_type": "markdown",
   "metadata": {},
   "source": [
    "## 2 我不知道的知识"
   ]
  },
  {
   "cell_type": "code",
   "execution_count": 1,
   "metadata": {
    "ExecuteTime": {
     "end_time": "2019-02-26T01:06:40.084892Z",
     "start_time": "2019-02-26T01:06:40.080886Z"
    }
   },
   "outputs": [],
   "source": [
    "def test(x, y=10):\n",
    "    x += 100\n",
    "    print(x, y)"
   ]
  },
  {
   "cell_type": "code",
   "execution_count": 3,
   "metadata": {
    "ExecuteTime": {
     "end_time": "2019-02-26T01:06:56.672637Z",
     "start_time": "2019-02-26T01:06:56.667626Z"
    }
   },
   "outputs": [
    {
     "data": {
      "text/plain": [
       "<function __main__.test(x, y=10)>"
      ]
     },
     "execution_count": 3,
     "metadata": {},
     "output_type": "execute_result"
    }
   ],
   "source": [
    "test   # 函数对象"
   ]
  },
  {
   "cell_type": "code",
   "execution_count": 4,
   "metadata": {
    "ExecuteTime": {
     "end_time": "2019-02-26T01:07:08.073790Z",
     "start_time": "2019-02-26T01:07:08.068820Z"
    }
   },
   "outputs": [
    {
     "data": {
      "text/plain": [
       "<code object test at 0x000002505B54BE40, file \"<ipython-input-1-8930cf6c15e6>\", line 1>"
      ]
     },
     "execution_count": 4,
     "metadata": {},
     "output_type": "execute_result"
    }
   ],
   "source": [
    "test.__code__   # 代码对象"
   ]
  },
  {
   "cell_type": "markdown",
   "metadata": {},
   "source": [
    "代码对象的相关属性由编译器产生，为只读模式，存储指令运行所需的相关信息."
   ]
  },
  {
   "cell_type": "code",
   "execution_count": 7,
   "metadata": {
    "ExecuteTime": {
     "end_time": "2019-02-26T01:09:16.892683Z",
     "start_time": "2019-02-26T01:09:16.887731Z"
    }
   },
   "outputs": [
    {
     "data": {
      "text/plain": [
       "('x', 'y')"
      ]
     },
     "execution_count": 7,
     "metadata": {},
     "output_type": "execute_result"
    }
   ],
   "source": [
    "test.__code__.co_varnames   # 参数及变量名列表"
   ]
  },
  {
   "cell_type": "code",
   "execution_count": 8,
   "metadata": {
    "ExecuteTime": {
     "end_time": "2019-02-26T01:09:38.133792Z",
     "start_time": "2019-02-26T01:09:38.129799Z"
    }
   },
   "outputs": [
    {
     "data": {
      "text/plain": [
       "(None, 100)"
      ]
     },
     "execution_count": 8,
     "metadata": {},
     "output_type": "execute_result"
    }
   ],
   "source": [
    "test.__code__.co_consts    # 指令常量"
   ]
  },
  {
   "cell_type": "code",
   "execution_count": 11,
   "metadata": {
    "ExecuteTime": {
     "end_time": "2019-02-26T01:10:52.578314Z",
     "start_time": "2019-02-26T01:10:52.573328Z"
    }
   },
   "outputs": [
    {
     "data": {
      "text/plain": [
       "(10,)"
      ]
     },
     "execution_count": 11,
     "metadata": {},
     "output_type": "execute_result"
    }
   ],
   "source": [
    "test.__defaults__       # 参数默认值"
   ]
  },
  {
   "cell_type": "markdown",
   "metadata": {},
   "source": [
    "> 默认值在函数对象创建时产生，保存在`__default__`."
   ]
  },
  {
   "cell_type": "code",
   "execution_count": 12,
   "metadata": {
    "ExecuteTime": {
     "end_time": "2019-02-26T01:10:58.202815Z",
     "start_time": "2019-02-26T01:10:58.198826Z"
    }
   },
   "outputs": [
    {
     "name": "stdout",
     "output_type": "stream",
     "text": [
      "101 10\n"
     ]
    }
   ],
   "source": [
    "test(1)"
   ]
  },
  {
   "cell_type": "code",
   "execution_count": 13,
   "metadata": {
    "ExecuteTime": {
     "end_time": "2019-02-26T01:11:42.766848Z",
     "start_time": "2019-02-26T01:11:42.762853Z"
    }
   },
   "outputs": [],
   "source": [
    "test.__defaults__ = (1234,)   # 修改默认值"
   ]
  },
  {
   "cell_type": "code",
   "execution_count": 14,
   "metadata": {
    "ExecuteTime": {
     "end_time": "2019-02-26T01:11:46.426172Z",
     "start_time": "2019-02-26T01:11:46.422200Z"
    }
   },
   "outputs": [
    {
     "name": "stdout",
     "output_type": "stream",
     "text": [
      "101 1234\n"
     ]
    }
   ],
   "source": [
    "test(1)"
   ]
  },
  {
   "cell_type": "markdown",
   "metadata": {},
   "source": [
    "> 即`y`的默认值从10变成了1234."
   ]
  },
  {
   "cell_type": "code",
   "execution_count": 15,
   "metadata": {
    "ExecuteTime": {
     "end_time": "2019-02-26T01:12:49.803668Z",
     "start_time": "2019-02-26T01:12:49.800725Z"
    }
   },
   "outputs": [],
   "source": [
    "test.abc = 'li'   # 为函数实例添加属性"
   ]
  },
  {
   "cell_type": "code",
   "execution_count": 17,
   "metadata": {
    "ExecuteTime": {
     "end_time": "2019-02-26T01:13:05.299727Z",
     "start_time": "2019-02-26T01:13:05.294770Z"
    }
   },
   "outputs": [
    {
     "data": {
      "text/plain": [
       "{'abc': 'li'}"
      ]
     },
     "execution_count": 17,
     "metadata": {},
     "output_type": "execute_result"
    }
   ],
   "source": [
    "test.__dict__"
   ]
  },
  {
   "cell_type": "markdown",
   "metadata": {
    "heading_collapsed": true
   },
   "source": [
    "## 3 匿名函数`lambda`"
   ]
  },
  {
   "cell_type": "markdown",
   "metadata": {
    "hidden": true
   },
   "source": [
    "`lambda`函数的内容只能是单个表达式，而不能使用语句，也不能提供默认函数名."
   ]
  },
  {
   "cell_type": "code",
   "execution_count": 18,
   "metadata": {
    "ExecuteTime": {
     "end_time": "2019-02-26T01:15:10.728547Z",
     "start_time": "2019-02-26T01:15:10.725520Z"
    },
    "hidden": true
   },
   "outputs": [],
   "source": [
    "user_add = lambda x, y: x + y"
   ]
  },
  {
   "cell_type": "code",
   "execution_count": 19,
   "metadata": {
    "ExecuteTime": {
     "end_time": "2019-02-26T01:15:12.842826Z",
     "start_time": "2019-02-26T01:15:12.837840Z"
    },
    "hidden": true
   },
   "outputs": [
    {
     "data": {
      "text/plain": [
       "<function __main__.<lambda>(x, y)>"
      ]
     },
     "execution_count": 19,
     "metadata": {},
     "output_type": "execute_result"
    }
   ],
   "source": [
    "user_add"
   ]
  },
  {
   "cell_type": "code",
   "execution_count": 20,
   "metadata": {
    "ExecuteTime": {
     "end_time": "2019-02-26T01:15:20.492568Z",
     "start_time": "2019-02-26T01:15:20.488612Z"
    },
    "hidden": true
   },
   "outputs": [
    {
     "data": {
      "text/plain": [
       "3"
      ]
     },
     "execution_count": 20,
     "metadata": {},
     "output_type": "execute_result"
    }
   ],
   "source": [
    "user_add(1, 2)"
   ]
  },
  {
   "cell_type": "markdown",
   "metadata": {
    "hidden": true
   },
   "source": [
    "普通函数总有一个默认名字（`__name__`），用以标识真实身份.该名字是编译期静态绑定的，与运行期的变量名引用无关."
   ]
  },
  {
   "cell_type": "code",
   "execution_count": 21,
   "metadata": {
    "ExecuteTime": {
     "end_time": "2019-02-26T01:15:33.334279Z",
     "start_time": "2019-02-26T01:15:33.330283Z"
    },
    "hidden": true
   },
   "outputs": [],
   "source": [
    "def test():\n",
    "    pass"
   ]
  },
  {
   "cell_type": "code",
   "execution_count": 22,
   "metadata": {
    "ExecuteTime": {
     "end_time": "2019-02-26T01:15:44.660393Z",
     "start_time": "2019-02-26T01:15:44.657400Z"
    },
    "hidden": true
   },
   "outputs": [],
   "source": [
    "a = test"
   ]
  },
  {
   "cell_type": "code",
   "execution_count": 23,
   "metadata": {
    "ExecuteTime": {
     "end_time": "2019-02-26T01:15:45.588616Z",
     "start_time": "2019-02-26T01:15:45.584664Z"
    },
    "hidden": true
   },
   "outputs": [
    {
     "data": {
      "text/plain": [
       "<function __main__.test()>"
      ]
     },
     "execution_count": 23,
     "metadata": {},
     "output_type": "execute_result"
    }
   ],
   "source": [
    "a"
   ]
  },
  {
   "cell_type": "code",
   "execution_count": 24,
   "metadata": {
    "ExecuteTime": {
     "end_time": "2019-02-26T01:15:48.861166Z",
     "start_time": "2019-02-26T01:15:48.856180Z"
    },
    "hidden": true
   },
   "outputs": [
    {
     "data": {
      "text/plain": [
       "'test'"
      ]
     },
     "execution_count": 24,
     "metadata": {},
     "output_type": "execute_result"
    }
   ],
   "source": [
    "a.__name__"
   ]
  },
  {
   "cell_type": "code",
   "execution_count": 25,
   "metadata": {
    "ExecuteTime": {
     "end_time": "2019-02-26T01:16:06.274452Z",
     "start_time": "2019-02-26T01:16:06.269495Z"
    },
    "hidden": true
   },
   "outputs": [
    {
     "data": {
      "text/plain": [
       "<function __main__.<lambda>(x, y)>"
      ]
     },
     "execution_count": 25,
     "metadata": {},
     "output_type": "execute_result"
    }
   ],
   "source": [
    "user_add"
   ]
  },
  {
   "cell_type": "code",
   "execution_count": 26,
   "metadata": {
    "ExecuteTime": {
     "end_time": "2019-02-26T01:16:11.944066Z",
     "start_time": "2019-02-26T01:16:11.939070Z"
    },
    "hidden": true
   },
   "outputs": [
    {
     "data": {
      "text/plain": [
       "'<lambda>'"
      ]
     },
     "execution_count": 26,
     "metadata": {},
     "output_type": "execute_result"
    }
   ],
   "source": [
    "user_add.__name__"
   ]
  },
  {
   "cell_type": "markdown",
   "metadata": {
    "hidden": true
   },
   "source": [
    "> `lambda`只有变量引用，没有自己的名字."
   ]
  },
  {
   "cell_type": "code",
   "execution_count": 28,
   "metadata": {
    "ExecuteTime": {
     "end_time": "2019-02-26T01:20:27.755744Z",
     "start_time": "2019-02-26T01:20:27.751720Z"
    },
    "hidden": true
   },
   "outputs": [
    {
     "data": {
      "text/plain": [
       "[0, 1, 4]"
      ]
     },
     "execution_count": 28,
     "metadata": {},
     "output_type": "execute_result"
    }
   ],
   "source": [
    "list(map(lambda x: x ** 2, range(3)))   # 可直接作为参数"
   ]
  },
  {
   "cell_type": "code",
   "execution_count": 29,
   "metadata": {
    "ExecuteTime": {
     "end_time": "2019-02-26T01:21:17.378771Z",
     "start_time": "2019-02-26T01:21:17.373820Z"
    },
    "hidden": true
   },
   "outputs": [],
   "source": [
    "# 构建方法表\n",
    "ops = {\n",
    "    'add': lambda x, y: x + y,\n",
    "    'sub': lambda x, y: x - y,\n",
    "}"
   ]
  },
  {
   "cell_type": "code",
   "execution_count": 30,
   "metadata": {
    "ExecuteTime": {
     "end_time": "2019-02-26T01:21:25.371314Z",
     "start_time": "2019-02-26T01:21:25.366329Z"
    },
    "hidden": true
   },
   "outputs": [
    {
     "data": {
      "text/plain": [
       "3"
      ]
     },
     "execution_count": 30,
     "metadata": {},
     "output_type": "execute_result"
    }
   ],
   "source": [
    "ops['add'](1, 2)"
   ]
  },
  {
   "cell_type": "code",
   "execution_count": 31,
   "metadata": {
    "ExecuteTime": {
     "end_time": "2019-02-26T01:23:52.400831Z",
     "start_time": "2019-02-26T01:23:52.396843Z"
    },
    "hidden": true
   },
   "outputs": [],
   "source": [
    "# 支持嵌套，将另一个lambda作为返回值，支持闭包\n",
    "test = lambda x: (lambda y: x + y)\n",
    "\n",
    "add = test(2)"
   ]
  },
  {
   "cell_type": "code",
   "execution_count": 33,
   "metadata": {
    "ExecuteTime": {
     "end_time": "2019-02-26T01:29:02.289826Z",
     "start_time": "2019-02-26T01:29:02.284835Z"
    },
    "hidden": true
   },
   "outputs": [
    {
     "data": {
      "text/plain": [
       "5"
      ]
     },
     "execution_count": 33,
     "metadata": {},
     "output_type": "execute_result"
    }
   ],
   "source": [
    "add(3)"
   ]
  },
  {
   "cell_type": "code",
   "execution_count": 34,
   "metadata": {
    "ExecuteTime": {
     "end_time": "2019-02-26T01:29:36.217381Z",
     "start_time": "2019-02-26T01:29:36.212395Z"
    },
    "hidden": true
   },
   "outputs": [
    {
     "name": "stdout",
     "output_type": "stream",
     "text": [
      "hello\n"
     ]
    }
   ],
   "source": [
    "(lambda x: print(x))('hello')   # 使用括号避免语法错误"
   ]
  },
  {
   "cell_type": "markdown",
   "metadata": {
    "heading_collapsed": true
   },
   "source": [
    "## 4 返回值`return`"
   ]
  },
  {
   "cell_type": "markdown",
   "metadata": {
    "hidden": true
   },
   "source": [
    "函数总有返回结果，默认返回`None`.只要返回值数量大于1个，返回结果就是一个元组对象."
   ]
  },
  {
   "cell_type": "markdown",
   "metadata": {},
   "source": [
    "## 5 作用域"
   ]
  },
  {
   "cell_type": "markdown",
   "metadata": {},
   "source": [
    "在函数内部访问变量，会以特定顺序依次查找不同层次的作用域.\n",
    "\n",
    "***LEGB规则*：先locals，再enclosing，再globals，再builtins.**"
   ]
  },
  {
   "cell_type": "code",
   "execution_count": 1,
   "metadata": {
    "ExecuteTime": {
     "end_time": "2019-02-26T01:39:01.147921Z",
     "start_time": "2019-02-26T01:39:01.144961Z"
    }
   },
   "outputs": [],
   "source": [
    "import builtins"
   ]
  },
  {
   "cell_type": "code",
   "execution_count": 2,
   "metadata": {
    "ExecuteTime": {
     "end_time": "2019-02-26T01:39:03.384996Z",
     "start_time": "2019-02-26T01:39:03.381000Z"
    }
   },
   "outputs": [],
   "source": [
    "builtins.B = 'B'"
   ]
  },
  {
   "cell_type": "code",
   "execution_count": 3,
   "metadata": {
    "ExecuteTime": {
     "end_time": "2019-02-26T01:39:08.062714Z",
     "start_time": "2019-02-26T01:39:08.059711Z"
    }
   },
   "outputs": [],
   "source": [
    "G = 'G'"
   ]
  },
  {
   "cell_type": "code",
   "execution_count": 4,
   "metadata": {
    "ExecuteTime": {
     "end_time": "2019-02-26T01:39:53.350857Z",
     "start_time": "2019-02-26T01:39:53.346899Z"
    }
   },
   "outputs": [],
   "source": [
    "def enclosing():\n",
    "    E = 'E'\n",
    "    \n",
    "    def test():\n",
    "        L = 'L'\n",
    "        print(L, E, G, B)\n",
    "    \n",
    "    return test"
   ]
  },
  {
   "cell_type": "code",
   "execution_count": 8,
   "metadata": {
    "ExecuteTime": {
     "end_time": "2019-02-26T01:40:16.539590Z",
     "start_time": "2019-02-26T01:40:16.535609Z"
    }
   },
   "outputs": [
    {
     "data": {
      "text/plain": [
       "<function __main__.enclosing.<locals>.test()>"
      ]
     },
     "execution_count": 8,
     "metadata": {},
     "output_type": "execute_result"
    }
   ],
   "source": [
    "enclosing()"
   ]
  },
  {
   "cell_type": "code",
   "execution_count": 9,
   "metadata": {
    "ExecuteTime": {
     "end_time": "2019-02-26T01:40:23.063349Z",
     "start_time": "2019-02-26T01:40:23.060362Z"
    }
   },
   "outputs": [
    {
     "name": "stdout",
     "output_type": "stream",
     "text": [
      "L E G B\n"
     ]
    }
   ],
   "source": [
    "enclosing()()"
   ]
  },
  {
   "cell_type": "markdown",
   "metadata": {},
   "source": [
    "### 5.1 内存结构"
   ]
  },
  {
   "cell_type": "markdown",
   "metadata": {},
   "source": [
    "函数每次调用时，都会新建**栈帧（stack frame）**，用于局部变量和执行过程的存储.等执行过程结束后，栈帧内存被回收，同时释放相关对象."
   ]
  },
  {
   "cell_type": "code",
   "execution_count": 1,
   "metadata": {
    "ExecuteTime": {
     "end_time": "2019-02-26T01:46:04.989305Z",
     "start_time": "2019-02-26T01:46:04.986314Z"
    }
   },
   "outputs": [],
   "source": [
    "def test():\n",
    "    print(id(locals()))"
   ]
  },
  {
   "cell_type": "code",
   "execution_count": 2,
   "metadata": {
    "ExecuteTime": {
     "end_time": "2019-02-26T01:46:05.801244Z",
     "start_time": "2019-02-26T01:46:05.797285Z"
    }
   },
   "outputs": [
    {
     "name": "stdout",
     "output_type": "stream",
     "text": [
      "2769220633008\n"
     ]
    }
   ],
   "source": [
    "test()"
   ]
  },
  {
   "cell_type": "code",
   "execution_count": 3,
   "metadata": {
    "ExecuteTime": {
     "end_time": "2019-02-26T01:46:06.416531Z",
     "start_time": "2019-02-26T01:46:06.412514Z"
    }
   },
   "outputs": [
    {
     "name": "stdout",
     "output_type": "stream",
     "text": [
      "2769220566112\n"
     ]
    }
   ],
   "source": [
    "test()"
   ]
  },
  {
   "cell_type": "code",
   "execution_count": null,
   "metadata": {},
   "outputs": [],
   "source": []
  }
 ],
 "metadata": {
  "hide_input": false,
  "kernelspec": {
   "display_name": "Python 3",
   "language": "python",
   "name": "python3"
  },
  "language_info": {
   "codemirror_mode": {
    "name": "ipython",
    "version": 3
   },
   "file_extension": ".py",
   "mimetype": "text/x-python",
   "name": "python",
   "nbconvert_exporter": "python",
   "pygments_lexer": "ipython3",
   "version": "3.6.8"
  },
  "nbTranslate": {
   "displayLangs": [
    "*"
   ],
   "hotkey": "alt-t",
   "langInMainMenu": true,
   "sourceLang": "en",
   "targetLang": "fr",
   "useGoogleTranslate": true
  },
  "toc": {
   "base_numbering": 1,
   "nav_menu": {},
   "number_sections": true,
   "sideBar": true,
   "skip_h1_title": false,
   "title_cell": "Table of Contents",
   "title_sidebar": "Contents",
   "toc_cell": false,
   "toc_position": {},
   "toc_section_display": true,
   "toc_window_display": false
  },
  "varInspector": {
   "cols": {
    "lenName": 16,
    "lenType": 16,
    "lenVar": 40
   },
   "kernels_config": {
    "python": {
     "delete_cmd_postfix": "",
     "delete_cmd_prefix": "del ",
     "library": "var_list.py",
     "varRefreshCmd": "print(var_dic_list())"
    },
    "r": {
     "delete_cmd_postfix": ") ",
     "delete_cmd_prefix": "rm(",
     "library": "var_list.r",
     "varRefreshCmd": "cat(var_dic_list()) "
    }
   },
   "types_to_exclude": [
    "module",
    "function",
    "builtin_function_or_method",
    "instance",
    "_Feature"
   ],
   "window_display": false
  }
 },
 "nbformat": 4,
 "nbformat_minor": 2
}
