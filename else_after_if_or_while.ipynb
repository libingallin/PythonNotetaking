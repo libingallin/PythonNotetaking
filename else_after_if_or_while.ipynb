{
 "cells": [
  {
   "cell_type": "markdown",
   "metadata": {},
   "source": [
    "### 不要在`for`和`while`循环后面写`else`块"
   ]
  },
  {
   "cell_type": "markdown",
   "metadata": {},
   "source": [
    "Python支持在循环内部的语句块之后直接编写`else`块"
   ]
  },
  {
   "cell_type": "code",
   "execution_count": 1,
   "metadata": {},
   "outputs": [
    {
     "name": "stdout",
     "output_type": "stream",
     "text": [
      "Loop 0\n",
      "Loop 1\n",
      "Loop 2\n",
      "Else block!\n"
     ]
    }
   ],
   "source": [
    "for i in range(3):\n",
    "    print('Loop %d' % i)\n",
    "else:\n",
    "    print('Else block!')"
   ]
  },
  {
   "cell_type": "markdown",
   "metadata": {},
   "source": [
    "> `else`块会在整个循环执行完成之后立即执行"
   ]
  },
  {
   "cell_type": "markdown",
   "metadata": {},
   "source": [
    "+ `if/else`语句块中，`else`的意思是：如果不执行前面那个`if`块，那就执行`else`块。\n",
    "+ `try/except`语句块中，`except`的定义类似：如果前面那个`try`没有成功执行，那么就执行`except`块。\n",
    "+ `try/except/else`语句块中，`else`的含义是如果前面的`try`块没有失败，那就执行`else`块。\n",
    "+ `try/finally`语句块中，`finally`的意思是：执行前面的`try`块之后，总是执行`finally`块。"
   ]
  },
  {
   "cell_type": "code",
   "execution_count": 2,
   "metadata": {},
   "outputs": [
    {
     "name": "stdout",
     "output_type": "stream",
     "text": [
      "Loop 0\n",
      "Loop 1\n"
     ]
    }
   ],
   "source": [
    "for i in range(3):\n",
    "    print('Loop %d' % i)\n",
    "    if i == 1:\n",
    "        break\n",
    "else:\n",
    "    print('Else block!')"
   ]
  },
  {
   "cell_type": "markdown",
   "metadata": {},
   "source": [
    "> 在循环里用`break`语句提前跳出，会导致程序不执行`else`块。"
   ]
  },
  {
   "cell_type": "code",
   "execution_count": 3,
   "metadata": {},
   "outputs": [
    {
     "name": "stdout",
     "output_type": "stream",
     "text": [
      "Else block!\n"
     ]
    }
   ],
   "source": [
    "for x in []:\n",
    "    print('Never runs.')\n",
    "else:\n",
    "    print('Else block!')"
   ]
  },
  {
   "cell_type": "markdown",
   "metadata": {},
   "source": [
    "> 如果`for`循环要遍历的序列是空的，那么就会立刻执行`else`块。"
   ]
  },
  {
   "cell_type": "code",
   "execution_count": 4,
   "metadata": {},
   "outputs": [
    {
     "name": "stdout",
     "output_type": "stream",
     "text": [
      "While Else block!\n"
     ]
    }
   ],
   "source": [
    "while False:  # 如果是True，会一直循环\n",
    "    print('Never runs.')\n",
    "else:\n",
    "    print('While Else block!')"
   ]
  },
  {
   "cell_type": "markdown",
   "metadata": {},
   "source": [
    "> 初始循环条件为`False`的`while`循环，如果后面跟着`else`块，那它也会立即执行。"
   ]
  },
  {
   "cell_type": "markdown",
   "metadata": {},
   "source": [
    "在搜索某个事物的时候，这种写法是有意义的，比如检查两个数是否互质。"
   ]
  },
  {
   "cell_type": "code",
   "execution_count": 5,
   "metadata": {},
   "outputs": [
    {
     "name": "stdout",
     "output_type": "stream",
     "text": [
      "testing i\n",
      "testing i\n",
      "testing i\n",
      "Coprime!\n"
     ]
    }
   ],
   "source": [
    "a = 4 \n",
    "b = 9\n",
    "for i in range(2, min(a, b)+1):\n",
    "    print('testing i')\n",
    "    if a % i == 0 and b % i == 0:\n",
    "        print('Not coprime!')\n",
    "        break\n",
    "else:\n",
    "    print('Coprime!')"
   ]
  },
  {
   "cell_type": "markdown",
   "metadata": {
    "collapsed": true
   },
   "source": [
    "这种写法不清晰。像循环这种简单的语言结构，在Python中应该写得直白才对。\n",
    "\n",
    "用辅助函数来完成。（把复杂的表达式放入**辅助函数**，如果需要反复使用相同的逻辑，就更应该这么做）"
   ]
  },
  {
   "cell_type": "markdown",
   "metadata": {},
   "source": [
    "第一种写法，只要发现受试参数符合自己想要搜寻的要求，就尽快返回。如果真个循环都完整地执行了一遍，那就说明参数不符合要求，于是返回默认值。\n",
    "```python\n",
    "def coprime(a, b):\n",
    "    for i in range(2, min(a, b)+1):\n",
    "        if a % i == 0 and b % i == 0:\n",
    "            return False\n",
    "    return True\n",
    "```"
   ]
  },
  {
   "cell_type": "markdown",
   "metadata": {},
   "source": [
    "第二种写法是，用变量来记录受试参数是否符合自己想要搜寻的条件。一旦符合，就用`break`跳出循环。\n",
    "```python\n",
    "def coprime(a, b):\n",
    "    is_coprime = True\n",
    "    for i in range(2, min(a, b)+1):\n",
    "        if a % i == 0 and b % i == 0:\n",
    "            is_coprime = False\n",
    "            break\n",
    "    return is_coprime\n",
    "```           "
   ]
  },
  {
   "cell_type": "markdown",
   "metadata": {},
   "source": [
    "**总结**\n",
    "+ Python有特殊语法，可在`for`及`while`循环的内部语句块之后紧跟一个`else`块。\n",
    "+ 只有当整个循环主体都没有遇到`break`语句时，循环后面的`else`块才会执行。\n",
    "+ 不要在循环后面使用`else`块，因为这种写法不直观，也容易引起误解"
   ]
  }
 ],
 "metadata": {
  "kernelspec": {
   "display_name": "Python 3",
   "language": "python",
   "name": "python3"
  },
  "language_info": {
   "codemirror_mode": {
    "name": "ipython",
    "version": 3
   },
   "file_extension": ".py",
   "mimetype": "text/x-python",
   "name": "python",
   "nbconvert_exporter": "python",
   "pygments_lexer": "ipython3",
   "version": "3.6.3"
  }
 },
 "nbformat": 4,
 "nbformat_minor": 2
}
